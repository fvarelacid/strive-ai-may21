{
 "cells": [
  {
   "cell_type": "markdown",
   "metadata": {},
   "source": [
    "# Object Oriented Programming Examples\n",
    "\n",
    "This is a gentle introduction to Object Oriented Programming in Python. \n",
    "\n",
    "This is pretty much the notebook you have seen in the class. The following example contains two classes: the Student class and the Course class. This example has the goal to show you how you can use classes to simulate an online school register."
   ]
  },
  {
   "cell_type": "code",
   "execution_count": 87,
   "metadata": {},
   "outputs": [],
   "source": [
    "class Student:\n",
    "    def __init__(self, name, age):\n",
    "        self.name = name\n",
    "        self.age = age\n",
    "        self.courses = []\n",
    "        self.grades = []\n",
    "    \n",
    "    def add_course(self, course):\n",
    "        if course:\n",
    "            if course not in self.courses:\n",
    "                self.courses.append(course)\n",
    "            else:\n",
    "                print(f\"You have already added {course.name} to your courses.\")\n",
    "    def add_grades(self, grades):\n",
    "        if type(grades) == int:\n",
    "            self.grades.append(grades)\n",
    "        elif type(grades) == list:\n",
    "            for grade in grades:\n",
    "                self.grades.append(grade)\n",
    "        else:\n",
    "            print(\"Add a valid list of grades\")\n",
    "    \n",
    "    def get_average(self):\n",
    "        if len(self.grades)>0:\n",
    "            return sum(self.grades)/len(self.grades)\n",
    "        else:\n",
    "            print(\"No registered grades.\")\n",
    "    \n",
    "    def get_courses(self):\n",
    "        if len(self.courses) == 0:\n",
    "            print(\"You did not enroll in any course.\")\n",
    "            return []\n",
    "        else:\n",
    "            return [course.name for course in self.courses]\n",
    "            \n",
    "    def is_enrolled_in(self, course):\n",
    "        return course in self.courses"
   ]
  },
  {
   "cell_type": "markdown",
   "metadata": {},
   "source": [
    "Create instances for the Student class."
   ]
  },
  {
   "cell_type": "code",
   "execution_count": 88,
   "metadata": {},
   "outputs": [],
   "source": [
    "antonio = Student(\"Antonio Marsella\", 25)\n",
    "jan = Student(\"Jan Carbonell\", 26)\n",
    "random = Student(\"Random Student\", 29)\n",
    "student = Student(\"The Eldest\", 100)"
   ]
  },
  {
   "cell_type": "code",
   "execution_count": 89,
   "metadata": {},
   "outputs": [],
   "source": [
    "antonio.add_grades([10, 7, 6, 8, 9, 6])\n",
    "antonio.add_grades([7, 9])"
   ]
  },
  {
   "cell_type": "code",
   "execution_count": 90,
   "metadata": {},
   "outputs": [
    {
     "data": {
      "text/plain": [
       "7.75"
      ]
     },
     "execution_count": 90,
     "metadata": {},
     "output_type": "execute_result"
    }
   ],
   "source": [
    "antonio.get_average()"
   ]
  },
  {
   "cell_type": "code",
   "execution_count": 91,
   "metadata": {},
   "outputs": [
    {
     "name": "stdout",
     "output_type": "stream",
     "text": [
      "You did not enroll in any course.\n"
     ]
    },
    {
     "data": {
      "text/plain": [
       "[]"
      ]
     },
     "execution_count": 91,
     "metadata": {},
     "output_type": "execute_result"
    }
   ],
   "source": [
    "antonio.get_courses()"
   ]
  },
  {
   "cell_type": "code",
   "execution_count": 92,
   "metadata": {},
   "outputs": [],
   "source": [
    "class Course:\n",
    "    def __init__(self, course_name, hours):\n",
    "        self.name = course_name\n",
    "        self.hours = hours\n",
    "        self.students = []\n",
    "    \n",
    "    def enroll(self, student):\n",
    "        if student:\n",
    "            if student not in self.students:\n",
    "                self.students.append(student)\n",
    "                student.add_course(self)\n",
    "            else:\n",
    "                print(student.name, \"already enrolled in\", self.name)\n",
    "                \n",
    "    def get_students_names(self):\n",
    "        return [student.name for student in self.students]"
   ]
  },
  {
   "cell_type": "code",
   "execution_count": 93,
   "metadata": {},
   "outputs": [],
   "source": [
    "ai = Course(\"AI\", 300)\n",
    "fullstack = Course(\"FullStack\", 500)"
   ]
  },
  {
   "cell_type": "code",
   "execution_count": 94,
   "metadata": {},
   "outputs": [],
   "source": [
    "ai.enroll(antonio)\n",
    "fullstack.enroll(random)\n",
    "ai.enroll(jan)\n",
    "fullstack.enroll(student)"
   ]
  },
  {
   "cell_type": "code",
   "execution_count": 95,
   "metadata": {},
   "outputs": [
    {
     "data": {
      "text/plain": [
       "['AI']"
      ]
     },
     "execution_count": 95,
     "metadata": {},
     "output_type": "execute_result"
    }
   ],
   "source": [
    "antonio.get_courses()"
   ]
  },
  {
   "cell_type": "code",
   "execution_count": 96,
   "metadata": {},
   "outputs": [
    {
     "data": {
      "text/plain": [
       "True"
      ]
     },
     "execution_count": 96,
     "metadata": {},
     "output_type": "execute_result"
    }
   ],
   "source": [
    "antonio.is_enrolled_in(ai)"
   ]
  },
  {
   "cell_type": "code",
   "execution_count": 97,
   "metadata": {},
   "outputs": [
    {
     "data": {
      "text/plain": [
       "['Antonio Marsella', 'Jan Carbonell']"
      ]
     },
     "execution_count": 97,
     "metadata": {},
     "output_type": "execute_result"
    }
   ],
   "source": [
    "ai.get_students_names()"
   ]
  },
  {
   "cell_type": "code",
   "execution_count": 98,
   "metadata": {},
   "outputs": [
    {
     "data": {
      "text/plain": [
       "['Random Student', 'The Eldest']"
      ]
     },
     "execution_count": 98,
     "metadata": {},
     "output_type": "execute_result"
    }
   ],
   "source": [
    "fullstack.get_students_names()"
   ]
  },
  {
   "cell_type": "code",
   "execution_count": 99,
   "metadata": {},
   "outputs": [
    {
     "name": "stdout",
     "output_type": "stream",
     "text": [
      "Antonio Marsella already enrolled in AI\n"
     ]
    }
   ],
   "source": [
    "ai.enroll(antonio)"
   ]
  },
  {
   "cell_type": "code",
   "execution_count": 100,
   "metadata": {},
   "outputs": [
    {
     "name": "stdout",
     "output_type": "stream",
     "text": [
      "You have already added AI to your courses.\n"
     ]
    }
   ],
   "source": [
    "antonio.add_course(ai)"
   ]
  },
  {
   "cell_type": "code",
   "execution_count": null,
   "metadata": {},
   "outputs": [],
   "source": [
    "lr_model.Y_rpe"
   ]
  }
 ],
 "metadata": {
  "kernelspec": {
   "display_name": "Python 3",
   "language": "python",
   "name": "python3"
  },
  "language_info": {
   "codemirror_mode": {
    "name": "ipython",
    "version": 3
   },
   "file_extension": ".py",
   "mimetype": "text/x-python",
   "name": "python",
   "nbconvert_exporter": "python",
   "pygments_lexer": "ipython3",
   "version": "3.8.5"
  }
 },
 "nbformat": 4,
 "nbformat_minor": 4
}
