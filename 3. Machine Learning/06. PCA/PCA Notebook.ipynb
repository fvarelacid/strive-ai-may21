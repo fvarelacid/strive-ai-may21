{
 "cells": [
  {
   "cell_type": "code",
   "execution_count": 2,
   "id": "valuable-there",
   "metadata": {
    "ExecuteTime": {
     "end_time": "2021-07-04T16:24:24.631210Z",
     "start_time": "2021-07-04T16:24:24.627453Z"
    }
   },
   "outputs": [],
   "source": [
    "data_url = \"https://archive.ics.uci.edu/ml/machine-learning-databases/wine/wine.data\""
   ]
  },
  {
   "cell_type": "markdown",
   "id": "ordered-bread",
   "metadata": {
    "ExecuteTime": {
     "end_time": "2021-07-04T16:31:57.742505Z",
     "start_time": "2021-07-04T16:31:57.736655Z"
    }
   },
   "source": [
    "- 178 wine samples\n",
    "- 13 features about chemical properties\n",
    "- The first column tell us the type of wines"
   ]
  },
  {
   "cell_type": "code",
   "execution_count": 26,
   "id": "bizarre-heading",
   "metadata": {
    "ExecuteTime": {
     "end_time": "2021-07-04T19:41:57.394106Z",
     "start_time": "2021-07-04T19:41:56.576114Z"
    }
   },
   "outputs": [],
   "source": [
    "import pandas as pd\n",
    "\n",
    "df = pd.read_csv(data_url, header=None)"
   ]
  },
  {
   "cell_type": "code",
   "execution_count": 27,
   "id": "flush-bunch",
   "metadata": {
    "ExecuteTime": {
     "end_time": "2021-07-04T19:41:57.511768Z",
     "start_time": "2021-07-04T19:41:57.497321Z"
    }
   },
   "outputs": [
    {
     "data": {
      "text/html": [
       "<div>\n",
       "<style scoped>\n",
       "    .dataframe tbody tr th:only-of-type {\n",
       "        vertical-align: middle;\n",
       "    }\n",
       "\n",
       "    .dataframe tbody tr th {\n",
       "        vertical-align: top;\n",
       "    }\n",
       "\n",
       "    .dataframe thead th {\n",
       "        text-align: right;\n",
       "    }\n",
       "</style>\n",
       "<table border=\"1\" class=\"dataframe\">\n",
       "  <thead>\n",
       "    <tr style=\"text-align: right;\">\n",
       "      <th></th>\n",
       "      <th>0</th>\n",
       "      <th>1</th>\n",
       "      <th>2</th>\n",
       "      <th>3</th>\n",
       "      <th>4</th>\n",
       "      <th>5</th>\n",
       "      <th>6</th>\n",
       "      <th>7</th>\n",
       "      <th>8</th>\n",
       "      <th>9</th>\n",
       "      <th>10</th>\n",
       "      <th>11</th>\n",
       "      <th>12</th>\n",
       "      <th>13</th>\n",
       "    </tr>\n",
       "  </thead>\n",
       "  <tbody>\n",
       "    <tr>\n",
       "      <th>0</th>\n",
       "      <td>1</td>\n",
       "      <td>14.23</td>\n",
       "      <td>1.71</td>\n",
       "      <td>2.43</td>\n",
       "      <td>15.6</td>\n",
       "      <td>127</td>\n",
       "      <td>2.80</td>\n",
       "      <td>3.06</td>\n",
       "      <td>0.28</td>\n",
       "      <td>2.29</td>\n",
       "      <td>5.64</td>\n",
       "      <td>1.04</td>\n",
       "      <td>3.92</td>\n",
       "      <td>1065</td>\n",
       "    </tr>\n",
       "    <tr>\n",
       "      <th>1</th>\n",
       "      <td>1</td>\n",
       "      <td>13.20</td>\n",
       "      <td>1.78</td>\n",
       "      <td>2.14</td>\n",
       "      <td>11.2</td>\n",
       "      <td>100</td>\n",
       "      <td>2.65</td>\n",
       "      <td>2.76</td>\n",
       "      <td>0.26</td>\n",
       "      <td>1.28</td>\n",
       "      <td>4.38</td>\n",
       "      <td>1.05</td>\n",
       "      <td>3.40</td>\n",
       "      <td>1050</td>\n",
       "    </tr>\n",
       "    <tr>\n",
       "      <th>2</th>\n",
       "      <td>1</td>\n",
       "      <td>13.16</td>\n",
       "      <td>2.36</td>\n",
       "      <td>2.67</td>\n",
       "      <td>18.6</td>\n",
       "      <td>101</td>\n",
       "      <td>2.80</td>\n",
       "      <td>3.24</td>\n",
       "      <td>0.30</td>\n",
       "      <td>2.81</td>\n",
       "      <td>5.68</td>\n",
       "      <td>1.03</td>\n",
       "      <td>3.17</td>\n",
       "      <td>1185</td>\n",
       "    </tr>\n",
       "    <tr>\n",
       "      <th>3</th>\n",
       "      <td>1</td>\n",
       "      <td>14.37</td>\n",
       "      <td>1.95</td>\n",
       "      <td>2.50</td>\n",
       "      <td>16.8</td>\n",
       "      <td>113</td>\n",
       "      <td>3.85</td>\n",
       "      <td>3.49</td>\n",
       "      <td>0.24</td>\n",
       "      <td>2.18</td>\n",
       "      <td>7.80</td>\n",
       "      <td>0.86</td>\n",
       "      <td>3.45</td>\n",
       "      <td>1480</td>\n",
       "    </tr>\n",
       "    <tr>\n",
       "      <th>4</th>\n",
       "      <td>1</td>\n",
       "      <td>13.24</td>\n",
       "      <td>2.59</td>\n",
       "      <td>2.87</td>\n",
       "      <td>21.0</td>\n",
       "      <td>118</td>\n",
       "      <td>2.80</td>\n",
       "      <td>2.69</td>\n",
       "      <td>0.39</td>\n",
       "      <td>1.82</td>\n",
       "      <td>4.32</td>\n",
       "      <td>1.04</td>\n",
       "      <td>2.93</td>\n",
       "      <td>735</td>\n",
       "    </tr>\n",
       "    <tr>\n",
       "      <th>...</th>\n",
       "      <td>...</td>\n",
       "      <td>...</td>\n",
       "      <td>...</td>\n",
       "      <td>...</td>\n",
       "      <td>...</td>\n",
       "      <td>...</td>\n",
       "      <td>...</td>\n",
       "      <td>...</td>\n",
       "      <td>...</td>\n",
       "      <td>...</td>\n",
       "      <td>...</td>\n",
       "      <td>...</td>\n",
       "      <td>...</td>\n",
       "      <td>...</td>\n",
       "    </tr>\n",
       "    <tr>\n",
       "      <th>173</th>\n",
       "      <td>3</td>\n",
       "      <td>13.71</td>\n",
       "      <td>5.65</td>\n",
       "      <td>2.45</td>\n",
       "      <td>20.5</td>\n",
       "      <td>95</td>\n",
       "      <td>1.68</td>\n",
       "      <td>0.61</td>\n",
       "      <td>0.52</td>\n",
       "      <td>1.06</td>\n",
       "      <td>7.70</td>\n",
       "      <td>0.64</td>\n",
       "      <td>1.74</td>\n",
       "      <td>740</td>\n",
       "    </tr>\n",
       "    <tr>\n",
       "      <th>174</th>\n",
       "      <td>3</td>\n",
       "      <td>13.40</td>\n",
       "      <td>3.91</td>\n",
       "      <td>2.48</td>\n",
       "      <td>23.0</td>\n",
       "      <td>102</td>\n",
       "      <td>1.80</td>\n",
       "      <td>0.75</td>\n",
       "      <td>0.43</td>\n",
       "      <td>1.41</td>\n",
       "      <td>7.30</td>\n",
       "      <td>0.70</td>\n",
       "      <td>1.56</td>\n",
       "      <td>750</td>\n",
       "    </tr>\n",
       "    <tr>\n",
       "      <th>175</th>\n",
       "      <td>3</td>\n",
       "      <td>13.27</td>\n",
       "      <td>4.28</td>\n",
       "      <td>2.26</td>\n",
       "      <td>20.0</td>\n",
       "      <td>120</td>\n",
       "      <td>1.59</td>\n",
       "      <td>0.69</td>\n",
       "      <td>0.43</td>\n",
       "      <td>1.35</td>\n",
       "      <td>10.20</td>\n",
       "      <td>0.59</td>\n",
       "      <td>1.56</td>\n",
       "      <td>835</td>\n",
       "    </tr>\n",
       "    <tr>\n",
       "      <th>176</th>\n",
       "      <td>3</td>\n",
       "      <td>13.17</td>\n",
       "      <td>2.59</td>\n",
       "      <td>2.37</td>\n",
       "      <td>20.0</td>\n",
       "      <td>120</td>\n",
       "      <td>1.65</td>\n",
       "      <td>0.68</td>\n",
       "      <td>0.53</td>\n",
       "      <td>1.46</td>\n",
       "      <td>9.30</td>\n",
       "      <td>0.60</td>\n",
       "      <td>1.62</td>\n",
       "      <td>840</td>\n",
       "    </tr>\n",
       "    <tr>\n",
       "      <th>177</th>\n",
       "      <td>3</td>\n",
       "      <td>14.13</td>\n",
       "      <td>4.10</td>\n",
       "      <td>2.74</td>\n",
       "      <td>24.5</td>\n",
       "      <td>96</td>\n",
       "      <td>2.05</td>\n",
       "      <td>0.76</td>\n",
       "      <td>0.56</td>\n",
       "      <td>1.35</td>\n",
       "      <td>9.20</td>\n",
       "      <td>0.61</td>\n",
       "      <td>1.60</td>\n",
       "      <td>560</td>\n",
       "    </tr>\n",
       "  </tbody>\n",
       "</table>\n",
       "<p>178 rows × 14 columns</p>\n",
       "</div>"
      ],
      "text/plain": [
       "     0      1     2     3     4    5     6     7     8     9      10    11  \\\n",
       "0     1  14.23  1.71  2.43  15.6  127  2.80  3.06  0.28  2.29   5.64  1.04   \n",
       "1     1  13.20  1.78  2.14  11.2  100  2.65  2.76  0.26  1.28   4.38  1.05   \n",
       "2     1  13.16  2.36  2.67  18.6  101  2.80  3.24  0.30  2.81   5.68  1.03   \n",
       "3     1  14.37  1.95  2.50  16.8  113  3.85  3.49  0.24  2.18   7.80  0.86   \n",
       "4     1  13.24  2.59  2.87  21.0  118  2.80  2.69  0.39  1.82   4.32  1.04   \n",
       "..   ..    ...   ...   ...   ...  ...   ...   ...   ...   ...    ...   ...   \n",
       "173   3  13.71  5.65  2.45  20.5   95  1.68  0.61  0.52  1.06   7.70  0.64   \n",
       "174   3  13.40  3.91  2.48  23.0  102  1.80  0.75  0.43  1.41   7.30  0.70   \n",
       "175   3  13.27  4.28  2.26  20.0  120  1.59  0.69  0.43  1.35  10.20  0.59   \n",
       "176   3  13.17  2.59  2.37  20.0  120  1.65  0.68  0.53  1.46   9.30  0.60   \n",
       "177   3  14.13  4.10  2.74  24.5   96  2.05  0.76  0.56  1.35   9.20  0.61   \n",
       "\n",
       "       12    13  \n",
       "0    3.92  1065  \n",
       "1    3.40  1050  \n",
       "2    3.17  1185  \n",
       "3    3.45  1480  \n",
       "4    2.93   735  \n",
       "..    ...   ...  \n",
       "173  1.74   740  \n",
       "174  1.56   750  \n",
       "175  1.56   835  \n",
       "176  1.62   840  \n",
       "177  1.60   560  \n",
       "\n",
       "[178 rows x 14 columns]"
      ]
     },
     "execution_count": 27,
     "metadata": {},
     "output_type": "execute_result"
    }
   ],
   "source": [
    "df"
   ]
  },
  {
   "cell_type": "code",
   "execution_count": 31,
   "id": "multiple-laundry",
   "metadata": {
    "ExecuteTime": {
     "end_time": "2021-07-04T19:43:53.906763Z",
     "start_time": "2021-07-04T19:43:53.901886Z"
    }
   },
   "outputs": [],
   "source": [
    "X, y = df.iloc[:, 1:], df.iloc[:, 0]"
   ]
  },
  {
   "cell_type": "markdown",
   "id": "framed-mills",
   "metadata": {},
   "source": [
    "## Split the data"
   ]
  },
  {
   "cell_type": "code",
   "execution_count": 33,
   "id": "coupled-advisory",
   "metadata": {
    "ExecuteTime": {
     "end_time": "2021-07-04T19:45:04.789766Z",
     "start_time": "2021-07-04T19:45:04.752560Z"
    }
   },
   "outputs": [],
   "source": [
    "from sklearn.model_selection import train_test_split\n",
    "\n",
    "X_train, X_test, y_train, y_test = train_test_split(X, y, test_size=0.3, stratify=y,\n",
    "                                                   random_state=0)"
   ]
  },
  {
   "cell_type": "markdown",
   "id": "helpful-script",
   "metadata": {},
   "source": [
    "## Standardize the data"
   ]
  },
  {
   "cell_type": "code",
   "execution_count": 38,
   "id": "rapid-imaging",
   "metadata": {
    "ExecuteTime": {
     "end_time": "2021-07-04T19:46:03.548165Z",
     "start_time": "2021-07-04T19:46:03.543453Z"
    }
   },
   "outputs": [],
   "source": [
    "from sklearn.preprocessing import StandardScaler"
   ]
  },
  {
   "cell_type": "code",
   "execution_count": 39,
   "id": "religious-narrow",
   "metadata": {
    "ExecuteTime": {
     "end_time": "2021-07-04T19:46:35.829112Z",
     "start_time": "2021-07-04T19:46:35.804685Z"
    }
   },
   "outputs": [],
   "source": [
    "scaler = StandardScaler()\n",
    "X_train_scaled = scaler.fit_transform(X_train)"
   ]
  },
  {
   "cell_type": "code",
   "execution_count": 47,
   "id": "variable-sterling",
   "metadata": {
    "ExecuteTime": {
     "end_time": "2021-07-04T19:51:57.664012Z",
     "start_time": "2021-07-04T19:51:57.651067Z"
    }
   },
   "outputs": [],
   "source": [
    "X_test_scaled = scaler.transform(X_test)"
   ]
  },
  {
   "cell_type": "code",
   "execution_count": 54,
   "id": "detailed-unknown",
   "metadata": {
    "ExecuteTime": {
     "end_time": "2021-07-04T19:53:25.828539Z",
     "start_time": "2021-07-04T19:53:25.822174Z"
    }
   },
   "outputs": [
    {
     "data": {
      "text/plain": [
       "(54, 13)"
      ]
     },
     "execution_count": 54,
     "metadata": {},
     "output_type": "execute_result"
    }
   ],
   "source": [
    "X_test_scaled.shape"
   ]
  },
  {
   "cell_type": "code",
   "execution_count": 44,
   "id": "descending-charles",
   "metadata": {
    "ExecuteTime": {
     "end_time": "2021-07-04T19:47:10.533568Z",
     "start_time": "2021-07-04T19:47:10.525490Z"
    }
   },
   "outputs": [
    {
     "data": {
      "text/plain": [
       "1      13.033548\n",
       "2       2.353790\n",
       "3       2.384919\n",
       "4      19.801613\n",
       "5      99.088710\n",
       "6       2.324839\n",
       "7       2.064113\n",
       "8       0.368065\n",
       "9       1.640887\n",
       "10      5.089597\n",
       "11      0.954194\n",
       "12      2.619355\n",
       "13    754.822581\n",
       "dtype: float64"
      ]
     },
     "execution_count": 44,
     "metadata": {},
     "output_type": "execute_result"
    }
   ],
   "source": [
    "import numpy as np\n",
    "np.mean(X_train)"
   ]
  },
  {
   "cell_type": "markdown",
   "id": "starting-burst",
   "metadata": {
    "ExecuteTime": {
     "end_time": "2021-07-04T19:49:00.600451Z",
     "start_time": "2021-07-04T19:49:00.562206Z"
    }
   },
   "source": [
    "## Compute the Covariance Matrix"
   ]
  },
  {
   "cell_type": "markdown",
   "id": "armed-strength",
   "metadata": {
    "ExecuteTime": {
     "end_time": "2021-07-04T18:53:09.132506Z",
     "start_time": "2021-07-04T18:53:09.116017Z"
    }
   },
   "source": [
    "Covariance between feature $j$ and feature $k$:\n",
    "\n",
    "$$\\sigma_{jk} = \\frac{1}{n}\\sum_{i=1}^{n}(x_{j}^{(i)}-\\mu_{j})(x_{k}^{(i)}-\\mu_{k})$$\n",
    "\n",
    "After using the StandardScaler, that normalize feature $j$ for the sample $i$ by doing:\n",
    "\n",
    "$$ x_{j_{new}}^{i} = \\frac{x_{j_{old}}^{i} - \\mu_{j}}{\\sigma_{j}}$$ \n",
    "\n",
    "(same thing for feature $k$), the mean $\\mu_{j}$ (or $\\mu_{k}$ for feature $k$) becomes 0 (because standardizing the data shift everything by the mean), so the formula is just:\n",
    "\n",
    "\n",
    "$$\\sigma_{jk} = \\frac{1}{n}\\sum_{i=1}^{n}(x_{j}^{(i)})(x_{k}^{(i)})$$\n",
    "\n"
   ]
  },
  {
   "cell_type": "code",
   "execution_count": 244,
   "id": "awful-prevention",
   "metadata": {
    "ExecuteTime": {
     "end_time": "2021-07-04T21:45:34.986885Z",
     "start_time": "2021-07-04T21:45:34.975333Z"
    }
   },
   "outputs": [],
   "source": [
    "import numpy as np\n",
    "\n",
    "cov_mat = np.cov(X_train_scaled.T) # <-- Remember to transpose \n",
    "# if the columns are the features"
   ]
  },
  {
   "cell_type": "code",
   "execution_count": 245,
   "id": "innovative-reduction",
   "metadata": {
    "ExecuteTime": {
     "end_time": "2021-07-04T21:45:35.496150Z",
     "start_time": "2021-07-04T21:45:35.490897Z"
    }
   },
   "outputs": [
    {
     "data": {
      "text/plain": [
       "(13, 13)"
      ]
     },
     "execution_count": 245,
     "metadata": {},
     "output_type": "execute_result"
    }
   ],
   "source": [
    "cov_mat.shape"
   ]
  },
  {
   "cell_type": "markdown",
   "id": "creative-leather",
   "metadata": {
    "ExecuteTime": {
     "end_time": "2021-07-04T22:02:00.169330Z",
     "start_time": "2021-07-04T22:02:00.153177Z"
    }
   },
   "source": [
    "## Computing the Eigenvalues and the Eigenvectors"
   ]
  },
  {
   "cell_type": "code",
   "execution_count": 264,
   "id": "pressing-happiness",
   "metadata": {
    "ExecuteTime": {
     "end_time": "2021-07-04T21:56:05.057233Z",
     "start_time": "2021-07-04T21:56:05.043541Z"
    }
   },
   "outputs": [],
   "source": [
    "eigen_values, eigen_vectors = np.linalg.eig(cov_mat)"
   ]
  },
  {
   "cell_type": "code",
   "execution_count": 265,
   "id": "anonymous-madison",
   "metadata": {
    "ExecuteTime": {
     "end_time": "2021-07-04T21:56:12.061671Z",
     "start_time": "2021-07-04T21:56:12.052896Z"
    }
   },
   "outputs": [
    {
     "data": {
      "text/plain": [
       "array([4.84274532, 2.41602459, 1.54845825, 0.96120438, 0.84166161,\n",
       "       0.6620634 , 0.51828472, 0.34650377, 0.3131368 , 0.10754642,\n",
       "       0.21357215, 0.15362835, 0.1808613 ])"
      ]
     },
     "execution_count": 265,
     "metadata": {},
     "output_type": "execute_result"
    }
   ],
   "source": [
    "eigen_values"
   ]
  },
  {
   "cell_type": "code",
   "execution_count": 267,
   "id": "living-panic",
   "metadata": {
    "ExecuteTime": {
     "end_time": "2021-07-04T21:56:53.697474Z",
     "start_time": "2021-07-04T21:56:53.692491Z"
    }
   },
   "outputs": [
    {
     "data": {
      "text/plain": [
       "(13, 13)"
      ]
     },
     "execution_count": 267,
     "metadata": {},
     "output_type": "execute_result"
    }
   ],
   "source": [
    "eigen_vectors.shape"
   ]
  },
  {
   "cell_type": "code",
   "execution_count": 269,
   "id": "possible-russell",
   "metadata": {
    "ExecuteTime": {
     "end_time": "2021-07-04T21:58:40.325252Z",
     "start_time": "2021-07-04T21:58:40.318659Z"
    }
   },
   "outputs": [
    {
     "data": {
      "text/plain": [
       "array([-0.6646289 ,  1.19733616, -0.12325558,  1.00218234, -0.74755436,\n",
       "       -1.90692551, -2.02112491,  1.48056749, -1.48518993,  0.36582417,\n",
       "       -1.57937726, -1.78508543, -1.43682565])"
      ]
     },
     "execution_count": 269,
     "metadata": {},
     "output_type": "execute_result"
    }
   ],
   "source": [
    "eigen_values[0]*eigen_vectors[:,0]"
   ]
  },
  {
   "cell_type": "code",
   "execution_count": 270,
   "id": "compact-collar",
   "metadata": {
    "ExecuteTime": {
     "end_time": "2021-07-04T21:58:56.030788Z",
     "start_time": "2021-07-04T21:58:56.024452Z"
    }
   },
   "outputs": [
    {
     "data": {
      "text/plain": [
       "array([-0.6646289 ,  1.19733616, -0.12325558,  1.00218234, -0.74755436,\n",
       "       -1.90692551, -2.02112491,  1.48056749, -1.48518993,  0.36582417,\n",
       "       -1.57937726, -1.78508543, -1.43682565])"
      ]
     },
     "execution_count": 270,
     "metadata": {},
     "output_type": "execute_result"
    }
   ],
   "source": [
    "np.dot(cov_mat, eigen_vectors[:,0])"
   ]
  },
  {
   "cell_type": "code",
   "execution_count": 273,
   "id": "acting-inquiry",
   "metadata": {
    "ExecuteTime": {
     "end_time": "2021-07-04T22:02:50.337343Z",
     "start_time": "2021-07-04T22:02:50.314582Z"
    }
   },
   "outputs": [
    {
     "data": {
      "text/plain": [
       "(13,)"
      ]
     },
     "execution_count": 273,
     "metadata": {},
     "output_type": "execute_result"
    }
   ],
   "source": [
    "eigen_values.shape"
   ]
  },
  {
   "cell_type": "markdown",
   "id": "insured-search",
   "metadata": {},
   "source": [
    "## Compute the Explained Variance"
   ]
  },
  {
   "cell_type": "code",
   "execution_count": 274,
   "id": "stock-usage",
   "metadata": {
    "ExecuteTime": {
     "end_time": "2021-07-04T22:03:41.878074Z",
     "start_time": "2021-07-04T22:03:41.863446Z"
    }
   },
   "outputs": [],
   "source": [
    "import matplotlib.pyplot as plt"
   ]
  },
  {
   "cell_type": "markdown",
   "id": "hindu-reputation",
   "metadata": {},
   "source": [
    "$$\\frac{\\lambda_{i}}{\\sum_{i}^{d}\\lambda_{i}}$$"
   ]
  },
  {
   "cell_type": "code",
   "execution_count": 279,
   "id": "controlled-proposal",
   "metadata": {
    "ExecuteTime": {
     "end_time": "2021-07-04T22:12:27.691051Z",
     "start_time": "2021-07-04T22:12:27.670224Z"
    }
   },
   "outputs": [],
   "source": [
    "tot = sum(eigen_values)"
   ]
  },
  {
   "cell_type": "code",
   "execution_count": 280,
   "id": "close-clone",
   "metadata": {
    "ExecuteTime": {
     "end_time": "2021-07-04T22:13:31.594610Z",
     "start_time": "2021-07-04T22:13:31.577417Z"
    }
   },
   "outputs": [],
   "source": [
    "var_explained = [(eig_val/tot) for eig_val in sorted(eigen_values, reverse=True)]"
   ]
  },
  {
   "cell_type": "code",
   "execution_count": 283,
   "id": "complete-sapphire",
   "metadata": {
    "ExecuteTime": {
     "end_time": "2021-07-04T22:14:55.575229Z",
     "start_time": "2021-07-04T22:14:55.569105Z"
    }
   },
   "outputs": [
    {
     "data": {
      "text/plain": [
       "array([36.9514686 , 18.43492706, 11.81515909,  7.33425176,  6.42210782,\n",
       "        5.05172448,  3.95465389,  2.64391832,  2.38931926,  1.62961377,\n",
       "        1.38002112,  1.17222624,  0.82060857])"
      ]
     },
     "execution_count": 283,
     "metadata": {},
     "output_type": "execute_result"
    }
   ],
   "source": [
    "np.array(var_explained)*100"
   ]
  },
  {
   "cell_type": "code",
   "execution_count": 284,
   "id": "right-there",
   "metadata": {
    "ExecuteTime": {
     "end_time": "2021-07-04T22:15:41.972740Z",
     "start_time": "2021-07-04T22:15:41.966334Z"
    }
   },
   "outputs": [],
   "source": [
    "cum_var_exp = np.cumsum(var_explained)"
   ]
  },
  {
   "cell_type": "code",
   "execution_count": 285,
   "id": "protective-theater",
   "metadata": {
    "ExecuteTime": {
     "end_time": "2021-07-04T22:15:45.480481Z",
     "start_time": "2021-07-04T22:15:45.472605Z"
    }
   },
   "outputs": [
    {
     "data": {
      "text/plain": [
       "array([0.36951469, 0.55386396, 0.67201555, 0.74535807, 0.80957914,\n",
       "       0.86009639, 0.89964293, 0.92608211, 0.9499753 , 0.96627144,\n",
       "       0.98007165, 0.99179391, 1.        ])"
      ]
     },
     "execution_count": 285,
     "metadata": {},
     "output_type": "execute_result"
    }
   ],
   "source": [
    "cum_var_exp"
   ]
  },
  {
   "cell_type": "code",
   "execution_count": 292,
   "id": "greatest-scale",
   "metadata": {
    "ExecuteTime": {
     "end_time": "2021-07-04T22:20:18.413071Z",
     "start_time": "2021-07-04T22:20:18.219405Z"
    }
   },
   "outputs": [
    {
     "data": {
      "text/plain": [
       "<matplotlib.legend.Legend at 0x7f8305a18fd0>"
      ]
     },
     "execution_count": 292,
     "metadata": {},
     "output_type": "execute_result"
    },
    {
     "data": {
      "image/png": "[encoded data removed]",
      "text/plain": [
       "<Figure size 432x288 with 1 Axes>"
      ]
     },
     "metadata": {
      "needs_background": "light"
     },
     "output_type": "display_data"
    }
   ],
   "source": [
    "plt.bar(range(1,14), var_explained, alpha=0.5, align=\"center\", label=\"individual explained variance\")\n",
    "plt.step(range(1,14), cum_var_exp, where=\"mid\", label=\"cumulative explained variance\")\n",
    "plt.ylabel(\"Explained variance ratio\")\n",
    "plt.xlabel(\"Principal component index\")\n",
    "plt.legend(\"best\")"
   ]
  },
  {
   "cell_type": "markdown",
   "id": "facial-header",
   "metadata": {},
   "source": [
    "## Transform the Features"
   ]
  },
  {
   "cell_type": "markdown",
   "id": "competitive-spread",
   "metadata": {
    "ExecuteTime": {
     "end_time": "2021-07-04T22:25:32.706387Z",
     "start_time": "2021-07-04T22:25:32.644450Z"
    }
   },
   "source": [
    "First: sort the eigenpairs by decreasing order of the eigenvalues."
   ]
  },
  {
   "cell_type": "code",
   "execution_count": 327,
   "id": "white-ontario",
   "metadata": {
    "ExecuteTime": {
     "end_time": "2021-07-04T22:37:57.737389Z",
     "start_time": "2021-07-04T22:37:57.732379Z"
    }
   },
   "outputs": [],
   "source": [
    "sorted_index = pd.Series(eigen_values).sort_values(ascending=False).index"
   ]
  },
  {
   "cell_type": "code",
   "execution_count": 329,
   "id": "latter-vancouver",
   "metadata": {
    "ExecuteTime": {
     "end_time": "2021-07-04T22:38:52.369411Z",
     "start_time": "2021-07-04T22:38:52.365665Z"
    }
   },
   "outputs": [],
   "source": [
    "W = eigen_vectors[:, sorted_index[:2]]"
   ]
  },
  {
   "cell_type": "code",
   "execution_count": 330,
   "id": "sexual-jenny",
   "metadata": {
    "ExecuteTime": {
     "end_time": "2021-07-04T22:39:29.210030Z",
     "start_time": "2021-07-04T22:39:29.201132Z"
    }
   },
   "outputs": [],
   "source": [
    "X_train_pca = X_train_scaled.dot(W)"
   ]
  },
  {
   "cell_type": "code",
   "execution_count": 332,
   "id": "extraordinary-elizabeth",
   "metadata": {
    "ExecuteTime": {
     "end_time": "2021-07-04T22:39:47.854997Z",
     "start_time": "2021-07-04T22:39:47.848741Z"
    }
   },
   "outputs": [
    {
     "data": {
      "text/plain": [
       "(124, 2)"
      ]
     },
     "execution_count": 332,
     "metadata": {},
     "output_type": "execute_result"
    }
   ],
   "source": [
    "X_train_pca.shape"
   ]
  },
  {
   "cell_type": "code",
   "execution_count": 333,
   "id": "prepared-samba",
   "metadata": {
    "ExecuteTime": {
     "end_time": "2021-07-04T22:40:12.692694Z",
     "start_time": "2021-07-04T22:40:12.689374Z"
    }
   },
   "outputs": [],
   "source": [
    "X_test_pca = X_test_scaled.dot(W)"
   ]
  },
  {
   "cell_type": "code",
   "execution_count": 334,
   "id": "chemical-briefs",
   "metadata": {
    "ExecuteTime": {
     "end_time": "2021-07-04T22:40:17.288360Z",
     "start_time": "2021-07-04T22:40:17.282381Z"
    }
   },
   "outputs": [
    {
     "data": {
      "text/plain": [
       "(54, 2)"
      ]
     },
     "execution_count": 334,
     "metadata": {},
     "output_type": "execute_result"
    }
   ],
   "source": [
    "X_test_pca.shape"
   ]
  },
  {
   "cell_type": "code",
   "execution_count": 336,
   "id": "abandoned-education",
   "metadata": {
    "ExecuteTime": {
     "end_time": "2021-07-04T22:41:29.915327Z",
     "start_time": "2021-07-04T22:41:29.904284Z"
    }
   },
   "outputs": [
    {
     "data": {
      "text/plain": [
       "array([3, 1, 2])"
      ]
     },
     "execution_count": 336,
     "metadata": {},
     "output_type": "execute_result"
    }
   ],
   "source": [
    "y_train.unique()"
   ]
  },
  {
   "cell_type": "code",
   "execution_count": 337,
   "id": "occupied-spotlight",
   "metadata": {
    "ExecuteTime": {
     "end_time": "2021-07-04T22:44:57.990486Z",
     "start_time": "2021-07-04T22:44:57.626807Z"
    }
   },
   "outputs": [
    {
     "data": {
      "image/png": "[encoded data removed]",
      "text/plain": [
       "<Figure size 432x288 with 1 Axes>"
      ]
     },
     "metadata": {
      "needs_background": "light"
     },
     "output_type": "display_data"
    }
   ],
   "source": [
    "colors = [\"r\", \"g\", \"b\"]\n",
    "\n",
    "for label, color in zip(y_train.unique(), colors):\n",
    "    plt.scatter(X_train_pca[y_train==label, 0], \n",
    "                X_train_pca[y_train==label, 1], c=color, label=label)\n",
    "\n",
    "plt.xlabel(\"PC1\")\n",
    "plt.ylabel(\"PC2\")\n",
    "plt.legend(loc=\"lower left\")\n",
    "plt.show()"
   ]
  },
  {
   "cell_type": "code",
   "execution_count": 338,
   "id": "color-theorem",
   "metadata": {
    "ExecuteTime": {
     "end_time": "2021-07-04T22:46:58.719821Z",
     "start_time": "2021-07-04T22:46:58.291318Z"
    }
   },
   "outputs": [],
   "source": [
    "from sklearn.decomposition import PCA\n",
    "\n",
    "pca = PCA(n_components=2)\n",
    "\n",
    "X_train_PCA = pca.fit_transform(X_train_scaled)\n",
    "X_test_PCA = pca.transform(X_test_scaled)"
   ]
  },
  {
   "cell_type": "code",
   "execution_count": 339,
   "id": "offensive-kazakhstan",
   "metadata": {
    "ExecuteTime": {
     "end_time": "2021-07-04T22:47:17.566778Z",
     "start_time": "2021-07-04T22:47:17.408451Z"
    }
   },
   "outputs": [
    {
     "data": {
      "image/png": "[encoded data removed]",
      "text/plain": [
       "<Figure size 432x288 with 1 Axes>"
      ]
     },
     "metadata": {
      "needs_background": "light"
     },
     "output_type": "display_data"
    }
   ],
   "source": [
    "colors = [\"r\", \"g\", \"b\"]\n",
    "\n",
    "for label, color in zip(y_train.unique(), colors):\n",
    "    plt.scatter(X_train_PCA[y_train==label, 0], \n",
    "                X_train_PCA[y_train==label, 1], c=color, label=label)\n",
    "\n",
    "plt.xlabel(\"PC1\")\n",
    "plt.ylabel(\"PC2\")\n",
    "plt.legend(loc=\"lower left\")\n",
    "plt.show()"
   ]
  },
  {
   "cell_type": "code",
   "execution_count": null,
   "id": "unique-platinum",
   "metadata": {},
   "outputs": [],
   "source": []
  }
 ],
 "metadata": {
  "kernelspec": {
   "display_name": "Python 3",
   "language": "python",
   "name": "python3"
  },
  "language_info": {
   "codemirror_mode": {
    "name": "ipython",
    "version": 3
   },
   "file_extension": ".py",
   "mimetype": "text/x-python",
   "name": "python",
   "nbconvert_exporter": "python",
   "pygments_lexer": "ipython3",
   "version": "3.9.1"
  },
  "varInspector": {
   "cols": {
    "lenName": 16,
    "lenType": 16,
    "lenVar": 40
   },
   "kernels_config": {
    "python": {
     "delete_cmd_postfix": "",
     "delete_cmd_prefix": "del ",
     "library": "var_list.py",
     "varRefreshCmd": "print(var_dic_list())"
    },
    "r": {
     "delete_cmd_postfix": ") ",
     "delete_cmd_prefix": "rm(",
     "library": "var_list.r",
     "varRefreshCmd": "cat(var_dic_list()) "
    }
   },
   "types_to_exclude": [
    "module",
    "function",
    "builtin_function_or_method",
    "instance",
    "_Feature"
   ],
   "window_display": false
  }
 },
 "nbformat": 4,
 "nbformat_minor": 5
}
