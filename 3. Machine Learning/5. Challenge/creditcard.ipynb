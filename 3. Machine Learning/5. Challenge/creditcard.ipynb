{
 "cells": [
  {
   "cell_type": "code",
   "execution_count": 1,
   "metadata": {
    "cell_id": "00000-a8a1adc7-4d60-4859-aa68-d374deff0d02",
    "deepnote_cell_type": "code"
   },
   "outputs": [],
   "source": [
    "import pandas as pd\r\n",
    "from sklearn.cluster import KMeans\r\n",
    "import seaborn as sns\r\n",
    "import matplotlib.pyplot as plt\r\n",
    "from sklearn.decomposition import PCA\r\n",
    "from sklearn.preprocessing import StandardScaler"
   ]
  },
  {
   "cell_type": "code",
   "execution_count": 2,
   "metadata": {
    "cell_id": "00001-5490eecd-5788-47ab-8257-4ca2c467350a",
    "deepnote_cell_type": "code"
   },
   "outputs": [],
   "source": [
    "df = pd.read_csv ('CC_GENERAL.csv')\r\n",
    "# df"
   ]
  },
  {
   "cell_type": "code",
   "execution_count": 3,
   "metadata": {
    "cell_id": "00002-239ecec5-a854-42c0-8d11-3a960f75a5b5",
    "deepnote_cell_type": "code"
   },
   "outputs": [],
   "source": [
    "# df.info()"
   ]
  },
  {
   "cell_type": "code",
   "execution_count": 4,
   "metadata": {
    "cell_id": "00003-55d21bd2-0331-4daa-bd3d-271bea17f848",
    "deepnote_cell_type": "code"
   },
   "outputs": [],
   "source": [
    "# print(df['BALANCE'].min())\r\n",
    "# print(df['BALANCE'].max())\r\n",
    "# df['BALANCE'].mean()"
   ]
  },
  {
   "cell_type": "code",
   "execution_count": 5,
   "metadata": {
    "cell_id": "00004-06fa1044-ecae-4cbc-9518-849acca4b1e6",
    "deepnote_cell_type": "code"
   },
   "outputs": [],
   "source": [
    "# df.describe()"
   ]
  },
  {
   "cell_type": "code",
   "execution_count": 6,
   "metadata": {
    "cell_id": "00005-c8543cd9-a643-48de-bd0b-5fae7cba9609",
    "deepnote_cell_type": "code"
   },
   "outputs": [],
   "source": [
    "# df[df['ONEOFF_PURCHASES']==df ['ONEOFF_PURCHASES'].max()]"
   ]
  },
  {
   "cell_type": "code",
   "execution_count": 7,
   "metadata": {
    "cell_id": "00006-4978bcdf-d9ee-4362-9ca1-bea713b55986",
    "deepnote_cell_type": "code"
   },
   "outputs": [],
   "source": [
    "# df[df['CASH_ADVANCE']==df ['CASH_ADVANCE'].max()]"
   ]
  },
  {
   "cell_type": "code",
   "execution_count": 8,
   "metadata": {
    "cell_id": "00007-2c865cb0-8f00-414d-95e7-0fbdc6a20340",
    "deepnote_cell_type": "code"
   },
   "outputs": [],
   "source": [
    "# df.isnull().sum()"
   ]
  },
  {
   "cell_type": "code",
   "execution_count": 9,
   "metadata": {
    "cell_id": "00008-a3c25473-7e7f-43c2-89a6-3c273fc46070",
    "deepnote_cell_type": "code"
   },
   "outputs": [],
   "source": [
    "df.loc [(df['MINIMUM_PAYMENTS'].isnull()==True), 'MINIMUM_PAYMENTS']=df['MINIMUM_PAYMENTS'].mean()"
   ]
  },
  {
   "cell_type": "code",
   "execution_count": 10,
   "metadata": {
    "cell_id": "00009-5c6a5abb-b299-4efb-9023-7abd1dd1ba3d",
    "deepnote_cell_type": "code"
   },
   "outputs": [],
   "source": [
    "df.loc [(df['CREDIT_LIMIT'].isnull()==True), 'CREDIT_LIMIT']=df['CREDIT_LIMIT'].mean()"
   ]
  },
  {
   "cell_type": "code",
   "execution_count": 11,
   "metadata": {
    "cell_id": "00010-94938899-ed95-4929-9c3a-8eb30a345f9a",
    "deepnote_cell_type": "code"
   },
   "outputs": [],
   "source": [
    "# df.isnull().sum()"
   ]
  },
  {
   "cell_type": "code",
   "execution_count": 12,
   "metadata": {
    "cell_id": "00011-1888e297-d4f5-490a-993f-0f5b932791e3",
    "deepnote_cell_type": "code"
   },
   "outputs": [],
   "source": [
    "# df.duplicated().sum()"
   ]
  },
  {
   "cell_type": "code",
   "execution_count": 13,
   "metadata": {
    "cell_id": "00012-30be83ed-bdbf-4f16-b8d6-325a0e95cf87",
    "deepnote_cell_type": "code"
   },
   "outputs": [],
   "source": [
    "df.drop('CUST_ID', axis = 1 , inplace = True)"
   ]
  },
  {
   "cell_type": "markdown",
   "metadata": {
    "cell_id": "00013-edcf46c2-dc7f-4b59-8cba-02e55ad4fbe5",
    "deepnote_cell_type": "markdown"
   },
   "source": [
    "Scale the Data"
   ]
  },
  {
   "cell_type": "code",
   "execution_count": 14,
   "metadata": {
    "cell_id": "00014-6d0d2e11-d463-4919-9d07-f5a7fc1074d7",
    "deepnote_cell_type": "code"
   },
   "outputs": [],
   "source": [
    "scaler = StandardScaler ()\r\n",
    "df_scale = scaler.fit_transform(df)\r\n",
    "# df_scale"
   ]
  },
  {
   "cell_type": "code",
   "execution_count": 15,
   "metadata": {
    "cell_id": "00015-1a6bfdfc-35b4-4468-8a0d-311dd8d9e9a8",
    "deepnote_cell_type": "code"
   },
   "outputs": [],
   "source": [
    "# credit_scores =[]\r\n",
    "\r\n",
    "# for i in range (1,20):\r\n",
    "#     kmean = KMeans (n_clusters = i)\r\n",
    "#     kmean.fit (df_scale)\r\n",
    "#     credit_scores.append (kmean.inertia_)\r\n",
    "\r\n",
    "#     plt.plot (credit_scores, 'bx-')"
   ]
  },
  {
   "cell_type": "code",
   "execution_count": 16,
   "metadata": {
    "cell_id": "00016-e3290a4a-34b0-48cc-b96a-44f557fad0c6",
    "deepnote_cell_type": "code"
   },
   "outputs": [],
   "source": [
    "kmean = KMeans (7)\r\n",
    "kmean.fit(df_scale)\r\n",
    "\r\n",
    "\r\n",
    "label = kmean.labels_\r\n",
    "\r\n",
    "# kmean.cluster_centers_.shape"
   ]
  },
  {
   "cell_type": "code",
   "execution_count": 17,
   "metadata": {
    "cell_id": "00017-1a20f48c-735e-4ea8-a6ed-cd29d06baba8",
    "deepnote_cell_type": "code"
   },
   "outputs": [],
   "source": [
    "# label"
   ]
  },
  {
   "cell_type": "code",
   "execution_count": 18,
   "metadata": {
    "cell_id": "00018-db89d410-1f9a-49cd-a687-ed397e7a97da",
    "deepnote_cell_type": "code"
   },
   "outputs": [],
   "source": [
    "cluster_centers = pd.DataFrame (data = kmean.cluster_centers_, columns= [df.columns])\r\n",
    "# cluster_centers"
   ]
  },
  {
   "cell_type": "code",
   "execution_count": 19,
   "metadata": {
    "cell_id": "00019-d530c9d9-d397-4694-82f0-5337c9a83607",
    "deepnote_cell_type": "code"
   },
   "outputs": [],
   "source": [
    "inverse_cluster = scaler.inverse_transform (cluster_centers)\r\n",
    "inverse_cluster = pd.DataFrame (data = cluster_centers, columns= [df.columns])\r\n",
    "# inverse_cluster"
   ]
  },
  {
   "cell_type": "code",
   "execution_count": 20,
   "metadata": {
    "cell_id": "00020-a2d56095-c6ac-4f18-880c-c7747834fce3",
    "deepnote_cell_type": "code"
   },
   "outputs": [],
   "source": [
    "y = kmean.fit_predict (df_scale)\r\n",
    "# y"
   ]
  },
  {
   "cell_type": "code",
   "execution_count": 21,
   "metadata": {
    "cell_id": "00021-8be1a98d-1141-4f37-b1c3-d72347a656ca",
    "deepnote_cell_type": "code"
   },
   "outputs": [],
   "source": [
    "newdf = pd.concat ([df, pd.DataFrame ({'cluster': label})], axis =1 )\r\n",
    "# newdf"
   ]
  },
  {
   "cell_type": "code",
   "execution_count": 22,
   "metadata": {
    "cell_id": "00022-a57a865d-e20b-4ea4-a3ad-905d9e53e486",
    "deepnote_cell_type": "code"
   },
   "outputs": [],
   "source": [
    "for i in df.columns:\r\n",
    "    plt.figure (figsize = (30,5))\r\n",
    "    for j in range (7):\r\n",
    "        plt.subplot (1 , 7, j+1)\r\n",
    "        cluster = newdf [newdf['cluster']==j]\r\n",
    "        cluster [i].hist (bins =20)\r\n",
    "    plt.show()  "
   ]
  },
  {
   "cell_type": "code",
   "execution_count": 23,
   "metadata": {
    "cell_id": "00023-6dc17492-d9a6-4a8f-b527-678f4ad11664",
    "deepnote_cell_type": "code"
   },
   "outputs": [],
   "source": [
    "pca = PCA (n_components = 2)\r\n",
    "pca_fit= pca.fit_transform (df_scale)\r\n",
    "# pca_fit\r\n"
   ]
  },
  {
   "cell_type": "code",
   "execution_count": 24,
   "metadata": {
    "cell_id": "00024-7eaee9bc-f426-4557-b52f-a64e8f117a9a",
    "deepnote_cell_type": "code"
   },
   "outputs": [],
   "source": [
    "pca_df = pd.DataFrame (data=pca_fit, columns = ['pca1', 'pca2'])\r\n",
    "# pca_df"
   ]
  },
  {
   "cell_type": "code",
   "execution_count": 25,
   "metadata": {
    "cell_id": "00025-044e3b1e-8acc-44f5-9529-eff90d7cf675",
    "deepnote_cell_type": "code"
   },
   "outputs": [],
   "source": [
    "pca_df = pd.concat ([pca_df, pd.DataFrame({'cluster': label})], axis = 1)\r\n",
    "# pca_df"
   ]
  },
  {
   "cell_type": "code",
   "execution_count": 26,
   "metadata": {
    "cell_id": "00026-7130da86-fe34-4dd2-98df-92162c12ad91",
    "deepnote_cell_type": "code"
   },
   "outputs": [
    {
     "data": {
      "image/png": "[encoded data removed]",
      "text/plain": [
       "<Figure size 720x504 with 1 Axes>"
      ]
     },
     "metadata": {
      "needs_background": "light"
     },
     "output_type": "display_data"
    }
   ],
   "source": [
    "plt.figure (figsize = (10,7))\r\n",
    "ax = sns.scatterplot (x = 'pca1', y ='pca2', hue = 'cluster', data = pca_df, palette = ['red', 'yellow', 'green','blue','pink','black', 'magenta'])"
   ]
  },
  {
   "cell_type": "code",
   "execution_count": null,
   "metadata": {
    "cell_id": "00027-0a1fd270-090e-4b2c-a678-a36f2840e258",
    "deepnote_cell_type": "code"
   },
   "outputs": [],
   "source": []
  },
  {
   "cell_type": "markdown",
   "metadata": {
    "created_in_deepnote_cell": true,
    "deepnote_cell_type": "markdown",
    "tags": []
   },
   "source": [
    "<a style='text-decoration:none;line-height:16px;display:flex;color:#5B5B62;padding:10px;justify-content:end;' href='https://deepnote.com?utm_source=created-in-deepnote-cell&projectId=18074c2b-cdf2-4daa-b880-e946f5464312' target=\"_blank\">\n",
    "<img alt='Created in deepnote.com' style='display:inline;max-height:16px;margin:0px;margin-right:7.5px;' src='data:image/svg+xml;base64,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' > </img>\n",
    "Created in <span style='font-weight:600;margin-left:4px;'>Deepnote</span></a>"
   ]
  }
 ],
 "metadata": {
  "deepnote": {},
  "deepnote_execution_queue": [],
  "deepnote_notebook_id": "55a4a68f-457e-4de8-9631-9ef5d6948f47",
  "interpreter": {
   "hash": "d1b70317e373f32f1ae5a844e5e2558bae51f25d3b33d528c68c0037ad807869"
  },
  "kernelspec": {
   "display_name": "Python 3.8.10 64-bit ('mlstrive': conda)",
   "name": "python3"
  },
  "language_info": {
   "codemirror_mode": {
    "name": "ipython",
    "version": 3
   },
   "file_extension": ".py",
   "mimetype": "text/x-python",
   "name": "python",
   "nbconvert_exporter": "python",
   "pygments_lexer": "ipython3",
   "version": "3.8.10"
  },
  "orig_nbformat": 4
 },
 "nbformat": 4,
 "nbformat_minor": 2
}