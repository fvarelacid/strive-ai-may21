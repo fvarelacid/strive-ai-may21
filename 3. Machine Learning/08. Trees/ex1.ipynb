{
 "cells": [
  {
   "cell_type": "markdown",
   "metadata": {},
   "source": [
    "## Exercises, Part 1: `Decision Tree`\r\n",
    "1. Read the Scikit-learn documentation on random forests [(see here)](https://scikit-learn.org/stable/modules/tree.html).\r\n",
    "2. Train / Test the [decision tree model from sklearn](https://scikit-learn.org/stable/modules/generated/sklearn.tree.DecisionTreeClassifier.html#sklearn.tree.DecisionTreeClassifier) to classify the  iris dataset, testing how the different parameters affect the  performance. You should test at least the parameters criterion  and max depth.\r\n",
    "3. Test the decision tree on the [UCI Car dataset](https://archive.ics.uci.edu/ml/datasets/car+evaluation).\r\n",
    "4. `(Optional)` Test the decision tree on other datasets of your interest.\r\n",
    "5. Compare the results obtained on the different datasets and with  different parameters. You can use the random state parameter to  compare the different configurations.\r\n",
    "6. `(Optional)` Use train/test split and/or k-fold cross-validation to better evaluate the result of your model."
   ]
  },
  {
   "cell_type": "code",
   "execution_count": 56,
   "metadata": {},
   "outputs": [],
   "source": [
    "from sklearn.datasets import load_iris\r\n",
    "from sklearn.tree import DecisionTreeClassifier\r\n",
    "import numpy as np\r\n",
    "import pandas as pd\r\n",
    "from sklearn.model_selection import train_test_split"
   ]
  },
  {
   "cell_type": "code",
   "execution_count": 57,
   "metadata": {},
   "outputs": [],
   "source": [
    "iris_dataset = load_iris()"
   ]
  },
  {
   "cell_type": "code",
   "execution_count": 58,
   "metadata": {},
   "outputs": [],
   "source": [
    "dir(iris_dataset)"
   ]
  },
  {
   "cell_type": "code",
   "execution_count": 59,
   "metadata": {},
   "outputs": [],
   "source": [
    "target_names_list = iris_dataset.target_names[iris_dataset.target]"
   ]
  },
  {
   "cell_type": "code",
   "execution_count": 60,
   "metadata": {},
   "outputs": [],
   "source": [
    "ir_df = pd.DataFrame(iris_dataset.data, columns=iris_dataset.feature_names)\n",
    "ir_df['target'] = target_names_list\n",
    "ir_df.shape"
   ]
  },
  {
   "cell_type": "code",
   "execution_count": 61,
   "metadata": {},
   "outputs": [],
   "source": [
    "(X_train, X_test, y_train, y_test) = train_test_split(ir_df.iloc[:,:-1], ir_df.iloc[:,-1], random_state=0, test_size=0.90)\n",
    "dtc = DecisionTreeClassifier()\n",
    "dtc.fit(X_train, y_train)\n",
    "(dtc.predict(X_test) == y_test).sum()/y_test.shape[0]"
   ]
  },
  {
   "cell_type": "code",
   "execution_count": 62,
   "metadata": {},
   "outputs": [],
   "source": [
    "(X_train, X_test, y_train, y_test) = train_test_split(ir_df.iloc[:,:-1], ir_df.iloc[:,-1], random_state=0, test_size=0.10)\n",
    "dtc = DecisionTreeClassifier(max_depth=1)\n",
    "dtc.fit(X_train, y_train)\n",
    "(dtc.predict(X_test) == y_test).sum()/y_test.shape[0]"
   ]
  },
  {
   "cell_type": "markdown",
   "metadata": {},
   "source": [
    "# CAR"
   ]
  },
  {
   "cell_type": "code",
   "execution_count": 63,
   "metadata": {},
   "outputs": [],
   "source": [
    "col_names = [\n",
    "    \"buying\",\n",
    "    \"maint\",\n",
    "    \"doors\",\n",
    "    \"persons\",\n",
    "    \"lug_boot\",\n",
    "    \"safety\",\n",
    "    \"class\"\n",
    "]\n",
    "car_df = pd.read_csv('https://archive.ics.uci.edu/ml/machine-learning-databases/car/car.data', names = col_names, header=None, index_col = False)\n",
    "\n",
    "\n",
    "# https://archive.ics.uci.edu/ml/machine-learning-databases/car/car.c45-names\n",
    "# https://archive.ics.uci.edu/ml/machine-learning-databases/car/car.data\n",
    "# https://archive.ics.uci.edu/ml/machine-learning-databases/car/car.names"
   ]
  },
  {
   "cell_type": "code",
   "execution_count": 64,
   "metadata": {},
   "outputs": [],
   "source": [
    "car_dict = {\n",
    "    \"buying\":   [\"vhigh\", \"high\", \"med\", \"low\"],\n",
    "    \"maint\":    [\"vhigh\", \"high\", \"med\", \"low\"],\n",
    "    \"doors\":    [\"2\", \"3\", \"4\", \"5more\"],\n",
    "    \"persons\":  [\"2\", \"4\", \"more\"],\n",
    "    \"lug_boot\": [\"small\", \"med\", \"big\"],\n",
    "    \"safety\":   [\"low\", \"med\", \"high\"],\n",
    "    \"class\":    [\"unacc\", \"acc\", \"good\", \"vgood\"]\n",
    "}"
   ]
  },
  {
   "cell_type": "code",
   "execution_count": 65,
   "metadata": {},
   "outputs": [],
   "source": [
    "def translate(dataframe, dictionary):\r\n",
    "    new_df = dataframe.copy()\r\n",
    "    for key in dictionary.keys():\r\n",
    "        for (index, val) in enumerate(dictionary[key]):\r\n",
    "            new_df[key].loc[new_df[key] == val] = index\r\n",
    "    new_df = new_df.apply(pd.to_numeric)\r\n",
    "    return new_df"
   ]
  },
  {
   "cell_type": "code",
   "execution_count": 66,
   "metadata": {},
   "outputs": [],
   "source": [
    "car_numeric = translate(car_df, car_dict)"
   ]
  },
  {
   "cell_type": "code",
   "execution_count": 67,
   "metadata": {},
   "outputs": [],
   "source": [
    "X = car_numeric.drop([\"class\"], axis=1)\n",
    "y = car_numeric['class']"
   ]
  },
  {
   "cell_type": "code",
   "execution_count": 68,
   "metadata": {},
   "outputs": [
    {
     "data": {
      "text/plain": [
       "(1555, 173, 1555, 173)"
      ]
     },
     "execution_count": 68,
     "metadata": {},
     "output_type": "execute_result"
    }
   ],
   "source": [
    "(X_train, X_test, y_train, y_test) = train_test_split(X, y, random_state=0, test_size=0.10)\n",
    "dcf = DecisionTreeClassifier(random_state=12)\n",
    "dcf = dcf.fit(X_train, y_train)\n",
    "X_train.shape[0], X_test.shape[0], y_train.shape[0], y_test.shape[0]"
   ]
  },
  {
   "cell_type": "code",
   "execution_count": 69,
   "metadata": {},
   "outputs": [],
   "source": [
    "from sklearn.tree import plot_tree\r\n",
    "import matplotlib.pyplot as plt"
   ]
  },
  {
   "cell_type": "code",
   "execution_count": 70,
   "metadata": {},
   "outputs": [
    {
     "data": {
      "text/plain": [
       "(1555, 1555)"
      ]
     },
     "execution_count": 70,
     "metadata": {},
     "output_type": "execute_result"
    }
   ],
   "source": [
    "(np.array(y_train) == dcf.predict(X_train)).sum(), y_train.shape[0]"
   ]
  },
  {
   "cell_type": "code",
   "execution_count": 71,
   "metadata": {},
   "outputs": [
    {
     "data": {
      "text/plain": [
       "RandomForestClassifier(bootstrap=True, ccp_alpha=0.0, class_weight=None,\n",
       "                       criterion='gini', max_depth=None, max_features='auto',\n",
       "                       max_leaf_nodes=None, max_samples=None,\n",
       "                       min_impurity_decrease=0.0, min_impurity_split=None,\n",
       "                       min_samples_leaf=1, min_samples_split=2,\n",
       "                       min_weight_fraction_leaf=0.0, n_estimators=100,\n",
       "                       n_jobs=None, oob_score=False, random_state=12, verbose=0,\n",
       "                       warm_start=False)"
      ]
     },
     "execution_count": 71,
     "metadata": {},
     "output_type": "execute_result"
    }
   ],
   "source": [
    "from sklearn.ensemble import RandomForestClassifier\r\n",
    "rfc = RandomForestClassifier(random_state=12)\r\n",
    "rfc.fit(X_train, y_train)"
   ]
  },
  {
   "cell_type": "code",
   "execution_count": 72,
   "metadata": {},
   "outputs": [
    {
     "data": {
      "text/plain": [
       "(164, 173)"
      ]
     },
     "execution_count": 72,
     "metadata": {},
     "output_type": "execute_result"
    }
   ],
   "source": [
    "(rfc.predict(X_test) == np.array(y_test)).sum(), y_test.shape[0]"
   ]
  }
 ],
 "metadata": {
  "interpreter": {
   "hash": "f8627d1d05b21aa9e959323d79bc666a5664eb9463cf1055b74b10747d02baed"
  },
  "kernelspec": {
   "display_name": "Python 3.8.10 64-bit ('machinelearningmodule': conda)",
   "name": "python3"
  },
  "language_info": {
   "codemirror_mode": {
    "name": "ipython",
    "version": 3
   },
   "file_extension": ".py",
   "mimetype": "text/x-python",
   "name": "python",
   "nbconvert_exporter": "python",
   "pygments_lexer": "ipython3",
   "version": "3.8.10"
  },
  "orig_nbformat": 4
 },
 "nbformat": 4,
 "nbformat_minor": 2
}