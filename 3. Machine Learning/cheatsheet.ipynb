{
 "cells": [
  {
   "cell_type": "code",
   "execution_count": 7,
   "metadata": {},
   "outputs": [],
   "source": [
    "#Always take into consideration the data label available and the time spent on doing a task manually."
   ]
  },
  {
   "cell_type": "code",
   "execution_count": 8,
   "metadata": {},
   "outputs": [],
   "source": [
    "#Machine Learning Definitions\n",
    "\n",
    "#Study Alhothms that given a Task (T), they improve their performance (P) based on experience (E)\n",
    "#From now on we will use <T,P,E> to define the parts if the model."
   ]
  },
  {
   "cell_type": "code",
   "execution_count": 16,
   "metadata": {},
   "outputs": [
    {
     "data": {
      "text/plain": [
       "0.0"
      ]
     },
     "execution_count": 16,
     "metadata": {},
     "output_type": "execute_result"
    }
   ],
   "source": [
    "#Normalize the set with the mean\n",
    "\n",
    "import numpy as np\n",
    "\n",
    "a = np.array([1, 2, 3, 4, 5])\n",
    "z = (a - np.mean(a)) / np.std(a)\n",
    "z\n",
    "np.std(z)\n",
    "np.mean(z)"
   ]
  },
  {
   "cell_type": "code",
   "execution_count": 19,
   "metadata": {},
   "outputs": [],
   "source": [
    "from sklearn.preprocessing import StandardScaler"
   ]
  },
  {
   "cell_type": "code",
   "execution_count": 20,
   "metadata": {},
   "outputs": [],
   "source": [
    "scaler = StandardScaler()"
   ]
  },
  {
   "cell_type": "code",
   "execution_count": 21,
   "metadata": {},
   "outputs": [
    {
     "data": {
      "text/plain": [
       "array([[1],\n",
       "       [2],\n",
       "       [3],\n",
       "       [4],\n",
       "       [5]])"
      ]
     },
     "execution_count": 21,
     "metadata": {},
     "output_type": "execute_result"
    }
   ],
   "source": [
    "a = a.reshape(-1, 1)\n",
    "a"
   ]
  },
  {
   "cell_type": "code",
   "execution_count": 22,
   "metadata": {},
   "outputs": [
    {
     "data": {
      "text/plain": [
       "StandardScaler(copy=True, with_mean=True, with_std=True)"
      ]
     },
     "execution_count": 22,
     "metadata": {},
     "output_type": "execute_result"
    }
   ],
   "source": [
    "scaler.fit(a)"
   ]
  },
  {
   "cell_type": "code",
   "execution_count": null,
   "metadata": {},
   "outputs": [
    {
     "data": {
      "text/plain": [
       "array([2.])"
      ]
     },
     "execution_count": 15,
     "metadata": {},
     "output_type": "execute_result"
    }
   ],
   "source": [
    "scaler.var_"
   ]
  },
  {
   "cell_type": "code",
   "execution_count": null,
   "metadata": {},
   "outputs": [
    {
     "data": {
      "text/plain": [
       "array([3.])"
      ]
     },
     "execution_count": 16,
     "metadata": {},
     "output_type": "execute_result"
    }
   ],
   "source": [
    "scaler.mean_"
   ]
  },
  {
   "cell_type": "code",
   "execution_count": 23,
   "metadata": {},
   "outputs": [
    {
     "data": {
      "text/plain": [
       "array([[-1.41421356],\n",
       "       [-0.70710678],\n",
       "       [ 0.        ],\n",
       "       [ 0.70710678],\n",
       "       [ 1.41421356]])"
      ]
     },
     "execution_count": 23,
     "metadata": {},
     "output_type": "execute_result"
    }
   ],
   "source": [
    "#Normalize the set with the mean\n",
    "\n",
    "scaler.transform(a)"
   ]
  },
  {
   "cell_type": "code",
   "execution_count": 24,
   "metadata": {},
   "outputs": [
    {
     "data": {
      "text/plain": [
       "array([[1.],\n",
       "       [2.],\n",
       "       [3.],\n",
       "       [4.],\n",
       "       [5.]])"
      ]
     },
     "execution_count": 24,
     "metadata": {},
     "output_type": "execute_result"
    }
   ],
   "source": [
    "scaler.inverse_transform(scaler.fit_transform(a))"
   ]
  },
  {
   "cell_type": "code",
   "execution_count": 25,
   "metadata": {},
   "outputs": [],
   "source": [
    "#In Machine Learning we always want the data to be normalized/standardized"
   ]
  },
  {
   "cell_type": "code",
   "execution_count": 36,
   "metadata": {},
   "outputs": [],
   "source": [
    "a = np.random.rand(500, 1)\n",
    "b = np.random.rand(500, 1)"
   ]
  },
  {
   "cell_type": "code",
   "execution_count": 31,
   "metadata": {},
   "outputs": [],
   "source": [
    "import matplotlib.pyplot as plt"
   ]
  },
  {
   "cell_type": "code",
   "execution_count": 37,
   "metadata": {},
   "outputs": [
    {
     "data": {
      "text/plain": [
       "(array([ 7.,  1.,  3.,  0.,  5.,  9.,  6.,  2.,  4.,  5.,  5.,  6.,  7.,\n",
       "         8.,  2.,  5.,  6.,  5.,  2.,  3.,  7.,  3.,  3.,  5.,  3., 10.,\n",
       "         6.,  2.,  6.,  3.,  8.,  5.,  5.,  4.,  1.,  7.,  4.,  5.,  6.,\n",
       "         3.,  5.,  3.,  5.,  3.,  8.,  2.,  5.,  7.,  4.,  1.,  8.,  6.,\n",
       "         6.,  5.,  5.,  7.,  7.,  4.,  4.,  2.,  3.,  3.,  5.,  3.,  3.,\n",
       "         8.,  7.,  9.,  4.,  3.,  8.,  3.,  6.,  4.,  4.,  8.,  4.,  4.,\n",
       "         3.,  6.,  7.,  8.,  2.,  8.,  3.,  4.,  4.,  7.,  9.,  9., 10.,\n",
       "         8.,  4.,  4.,  8.,  5.,  3.,  3.,  5.,  7.]),\n",
       " array([0.00100063, 0.01093392, 0.0208672 , 0.03080049, 0.04073378,\n",
       "        0.05066706, 0.06060035, 0.07053364, 0.08046692, 0.09040021,\n",
       "        0.1003335 , 0.11026679, 0.12020007, 0.13013336, 0.14006665,\n",
       "        0.14999993, 0.15993322, 0.16986651, 0.17979979, 0.18973308,\n",
       "        0.19966637, 0.20959965, 0.21953294, 0.22946623, 0.23939952,\n",
       "        0.2493328 , 0.25926609, 0.26919938, 0.27913266, 0.28906595,\n",
       "        0.29899924, 0.30893252, 0.31886581, 0.3287991 , 0.33873238,\n",
       "        0.34866567, 0.35859896, 0.36853225, 0.37846553, 0.38839882,\n",
       "        0.39833211, 0.40826539, 0.41819868, 0.42813197, 0.43806525,\n",
       "        0.44799854, 0.45793183, 0.46786512, 0.4777984 , 0.48773169,\n",
       "        0.49766498, 0.50759826, 0.51753155, 0.52746484, 0.53739812,\n",
       "        0.54733141, 0.5572647 , 0.56719798, 0.57713127, 0.58706456,\n",
       "        0.59699785, 0.60693113, 0.61686442, 0.62679771, 0.63673099,\n",
       "        0.64666428, 0.65659757, 0.66653085, 0.67646414, 0.68639743,\n",
       "        0.69633071, 0.706264  , 0.71619729, 0.72613058, 0.73606386,\n",
       "        0.74599715, 0.75593044, 0.76586372, 0.77579701, 0.7857303 ,\n",
       "        0.79566358, 0.80559687, 0.81553016, 0.82546344, 0.83539673,\n",
       "        0.84533002, 0.85526331, 0.86519659, 0.87512988, 0.88506317,\n",
       "        0.89499645, 0.90492974, 0.91486303, 0.92479631, 0.9347296 ,\n",
       "        0.94466289, 0.95459618, 0.96452946, 0.97446275, 0.98439604,\n",
       "        0.99432932]),\n",
       " <BarContainer object of 100 artists>)"
      ]
     },
     "execution_count": 37,
     "metadata": {},
     "output_type": "execute_result"
    },
    {
     "data": {
      "image/png": "[encoded data removed]",
      "text/plain": [
       "<Figure size 432x288 with 1 Axes>"
      ]
     },
     "metadata": {
      "needs_background": "light"
     },
     "output_type": "display_data"
    }
   ],
   "source": [
    "plt.hist(a,  bins=100)"
   ]
  },
  {
   "cell_type": "code",
   "execution_count": 38,
   "metadata": {},
   "outputs": [],
   "source": [
    "#In order for us to nromalized using sklearn\n",
    "\n",
    "from sklearn.preprocessing import MinMaxScaler"
   ]
  },
  {
   "cell_type": "code",
   "execution_count": 42,
   "metadata": {},
   "outputs": [
    {
     "data": {
      "text/plain": [
       "(array([ 7.,  1.,  3.,  0.,  5.,  9.,  6.,  2.,  4.,  5.,  5.,  6.,  7.,\n",
       "         8.,  2.,  5.,  6.,  5.,  2.,  3.,  7.,  3.,  3.,  5.,  3., 10.,\n",
       "         6.,  2.,  6.,  3.,  8.,  5.,  5.,  4.,  1.,  7.,  4.,  5.,  6.,\n",
       "         3.,  5.,  3.,  5.,  3.,  8.,  2.,  5.,  7.,  4.,  1.,  8.,  6.,\n",
       "         6.,  5.,  5.,  7.,  7.,  4.,  4.,  2.,  3.,  3.,  5.,  3.,  3.,\n",
       "         8.,  7.,  9.,  4.,  3.,  8.,  3.,  6.,  4.,  4.,  8.,  4.,  4.,\n",
       "         3.,  6.,  7.,  8.,  2.,  8.,  3.,  4.,  4.,  7.,  9.,  9., 10.,\n",
       "         8.,  4.,  4.,  8.,  5.,  3.,  3.,  5.,  7.]),\n",
       " array([0.  , 0.01, 0.02, 0.03, 0.04, 0.05, 0.06, 0.07, 0.08, 0.09, 0.1 ,\n",
       "        0.11, 0.12, 0.13, 0.14, 0.15, 0.16, 0.17, 0.18, 0.19, 0.2 , 0.21,\n",
       "        0.22, 0.23, 0.24, 0.25, 0.26, 0.27, 0.28, 0.29, 0.3 , 0.31, 0.32,\n",
       "        0.33, 0.34, 0.35, 0.36, 0.37, 0.38, 0.39, 0.4 , 0.41, 0.42, 0.43,\n",
       "        0.44, 0.45, 0.46, 0.47, 0.48, 0.49, 0.5 , 0.51, 0.52, 0.53, 0.54,\n",
       "        0.55, 0.56, 0.57, 0.58, 0.59, 0.6 , 0.61, 0.62, 0.63, 0.64, 0.65,\n",
       "        0.66, 0.67, 0.68, 0.69, 0.7 , 0.71, 0.72, 0.73, 0.74, 0.75, 0.76,\n",
       "        0.77, 0.78, 0.79, 0.8 , 0.81, 0.82, 0.83, 0.84, 0.85, 0.86, 0.87,\n",
       "        0.88, 0.89, 0.9 , 0.91, 0.92, 0.93, 0.94, 0.95, 0.96, 0.97, 0.98,\n",
       "        0.99, 1.  ]),\n",
       " <BarContainer object of 100 artists>)"
      ]
     },
     "execution_count": 42,
     "metadata": {},
     "output_type": "execute_result"
    },
    {
     "data": {
      "image/png": "[encoded data removed]",
      "text/plain": [
       "<Figure size 432x288 with 1 Axes>"
      ]
     },
     "metadata": {
      "needs_background": "light"
     },
     "output_type": "display_data"
    }
   ],
   "source": [
    "#If the range of data is the problem lets use the MinMaxScaler to perform a normalization so both datasets will have the same range\n",
    "\n",
    "mmscaler = MinMaxScaler()\n",
    "\n",
    "a_minmax_scaled = mmscaler.fit_transform(a)\n",
    "plt.hist(a_minmax_scaled, bins=100)"
   ]
  },
  {
   "cell_type": "code",
   "execution_count": 41,
   "metadata": {},
   "outputs": [
    {
     "data": {
      "text/plain": [
       "(array([ 6.,  9.,  1.,  7.,  5.,  8.,  4.,  7.,  8.,  6.,  5.,  7.,  2.,\n",
       "         5.,  5.,  6.,  4.,  5.,  4.,  6.,  3.,  5.,  1.,  5.,  4.,  2.,\n",
       "         6.,  8.,  5.,  7.,  4.,  2.,  5.,  9., 10.,  6.,  3.,  6.,  5.,\n",
       "         3.,  3.,  1.,  3.,  6.,  6.,  7.,  3., 12.,  2.,  5.,  5.,  5.,\n",
       "         5.,  4.,  5.,  3.,  4.,  8.,  4.,  3.,  7.,  7.,  2.,  5.,  5.,\n",
       "         9.,  3.,  3.,  4.,  1.,  5.,  9.,  4.,  5.,  3.,  6.,  6.,  8.,\n",
       "         4.,  2.,  7.,  3.,  2.,  6.,  5.,  4.,  4.,  7.,  7.,  9.,  5.,\n",
       "         4.,  4.,  5.,  3.,  5.,  4.,  5.,  4.,  6.]),\n",
       " array([0.  , 0.01, 0.02, 0.03, 0.04, 0.05, 0.06, 0.07, 0.08, 0.09, 0.1 ,\n",
       "        0.11, 0.12, 0.13, 0.14, 0.15, 0.16, 0.17, 0.18, 0.19, 0.2 , 0.21,\n",
       "        0.22, 0.23, 0.24, 0.25, 0.26, 0.27, 0.28, 0.29, 0.3 , 0.31, 0.32,\n",
       "        0.33, 0.34, 0.35, 0.36, 0.37, 0.38, 0.39, 0.4 , 0.41, 0.42, 0.43,\n",
       "        0.44, 0.45, 0.46, 0.47, 0.48, 0.49, 0.5 , 0.51, 0.52, 0.53, 0.54,\n",
       "        0.55, 0.56, 0.57, 0.58, 0.59, 0.6 , 0.61, 0.62, 0.63, 0.64, 0.65,\n",
       "        0.66, 0.67, 0.68, 0.69, 0.7 , 0.71, 0.72, 0.73, 0.74, 0.75, 0.76,\n",
       "        0.77, 0.78, 0.79, 0.8 , 0.81, 0.82, 0.83, 0.84, 0.85, 0.86, 0.87,\n",
       "        0.88, 0.89, 0.9 , 0.91, 0.92, 0.93, 0.94, 0.95, 0.96, 0.97, 0.98,\n",
       "        0.99, 1.  ]),\n",
       " <BarContainer object of 100 artists>)"
      ]
     },
     "execution_count": 41,
     "metadata": {},
     "output_type": "execute_result"
    },
    {
     "data": {
      "image/png": "[encoded data removed]",
      "text/plain": [
       "<Figure size 432x288 with 1 Axes>"
      ]
     },
     "metadata": {
      "needs_background": "light"
     },
     "output_type": "display_data"
    }
   ],
   "source": [
    "b_minmax_scaled = mmscaler.fit_transform(b)\n",
    "plt.hist(b_minmax_scaled, bins=100)"
   ]
  },
  {
   "cell_type": "code",
   "execution_count": 43,
   "metadata": {},
   "outputs": [
    {
     "data": {
      "text/plain": [
       "(array([ 6.,  9.,  1.,  7.,  5.,  8.,  4.,  7.,  8.,  6.,  5.,  7.,  2.,\n",
       "         5.,  5.,  6.,  4.,  5.,  4.,  6.,  3.,  5.,  1.,  5.,  4.,  2.,\n",
       "         6.,  8.,  5.,  7.,  4.,  2.,  5.,  9., 10.,  6.,  3.,  6.,  5.,\n",
       "         3.,  3.,  1.,  3.,  6.,  6.,  7.,  3., 12.,  2.,  5.,  5.,  5.,\n",
       "         5.,  4.,  5.,  3.,  4.,  8.,  4.,  3.,  7.,  7.,  2.,  5.,  5.,\n",
       "         9.,  3.,  3.,  4.,  1.,  5.,  9.,  4.,  5.,  3.,  6.,  6.,  8.,\n",
       "         4.,  2.,  7.,  3.,  2.,  6.,  5.,  4.,  4.,  7.,  7.,  9.,  5.,\n",
       "         4.,  4.,  5.,  3.,  5.,  4.,  5.,  4.,  6.]),\n",
       " array([0.  , 0.01, 0.02, 0.03, 0.04, 0.05, 0.06, 0.07, 0.08, 0.09, 0.1 ,\n",
       "        0.11, 0.12, 0.13, 0.14, 0.15, 0.16, 0.17, 0.18, 0.19, 0.2 , 0.21,\n",
       "        0.22, 0.23, 0.24, 0.25, 0.26, 0.27, 0.28, 0.29, 0.3 , 0.31, 0.32,\n",
       "        0.33, 0.34, 0.35, 0.36, 0.37, 0.38, 0.39, 0.4 , 0.41, 0.42, 0.43,\n",
       "        0.44, 0.45, 0.46, 0.47, 0.48, 0.49, 0.5 , 0.51, 0.52, 0.53, 0.54,\n",
       "        0.55, 0.56, 0.57, 0.58, 0.59, 0.6 , 0.61, 0.62, 0.63, 0.64, 0.65,\n",
       "        0.66, 0.67, 0.68, 0.69, 0.7 , 0.71, 0.72, 0.73, 0.74, 0.75, 0.76,\n",
       "        0.77, 0.78, 0.79, 0.8 , 0.81, 0.82, 0.83, 0.84, 0.85, 0.86, 0.87,\n",
       "        0.88, 0.89, 0.9 , 0.91, 0.92, 0.93, 0.94, 0.95, 0.96, 0.97, 0.98,\n",
       "        0.99, 1.  ]),\n",
       " <BarContainer object of 100 artists>)"
      ]
     },
     "execution_count": 43,
     "metadata": {},
     "output_type": "execute_result"
    },
    {
     "data": {
      "image/png": "[encoded data removed]",
      "text/plain": [
       "<Figure size 432x288 with 1 Axes>"
      ]
     },
     "metadata": {
      "needs_background": "light"
     },
     "output_type": "display_data"
    }
   ],
   "source": [
    "plt.hist(a_minmax_scaled, bins=100)\n",
    "plt.hist(b_minmax_scaled, bins=100)"
   ]
  },
  {
   "cell_type": "code",
   "execution_count": 44,
   "metadata": {},
   "outputs": [],
   "source": [
    "#Now we might want to normalize according to the mean so we can see the data in a more concret way - comparing 2 datasets\n",
    "\n",
    "from sklearn.preprocessing import StandardScaler"
   ]
  },
  {
   "cell_type": "code",
   "execution_count": 45,
   "metadata": {},
   "outputs": [
    {
     "data": {
      "text/plain": [
       "(array([ 7.,  1.,  3.,  0.,  5.,  9.,  6.,  2.,  4.,  5.,  5.,  6.,  7.,\n",
       "         8.,  2.,  5.,  6.,  5.,  2.,  3.,  7.,  3.,  3.,  5.,  3., 10.,\n",
       "         6.,  2.,  6.,  3.,  8.,  5.,  5.,  4.,  1.,  7.,  4.,  5.,  6.,\n",
       "         3.,  5.,  3.,  5.,  3.,  8.,  2.,  5.,  7.,  4.,  1.,  8.,  6.,\n",
       "         6.,  5.,  5.,  7.,  7.,  4.,  4.,  2.,  3.,  3.,  5.,  3.,  3.,\n",
       "         8.,  7.,  9.,  4.,  3.,  8.,  3.,  6.,  4.,  4.,  8.,  4.,  4.,\n",
       "         3.,  6.,  7.,  8.,  2.,  8.,  3.,  4.,  4.,  7.,  9.,  9., 10.,\n",
       "         8.,  4.,  4.,  8.,  5.,  3.,  3.,  5.,  7.]),\n",
       " array([-1.7946021 , -1.76023052, -1.72585895, -1.69148737, -1.65711579,\n",
       "        -1.62274421, -1.58837263, -1.55400106, -1.51962948, -1.4852579 ,\n",
       "        -1.45088632, -1.41651475, -1.38214317, -1.34777159, -1.31340001,\n",
       "        -1.27902844, -1.24465686, -1.21028528, -1.1759137 , -1.14154213,\n",
       "        -1.10717055, -1.07279897, -1.03842739, -1.00405581, -0.96968424,\n",
       "        -0.93531266, -0.90094108, -0.8665695 , -0.83219793, -0.79782635,\n",
       "        -0.76345477, -0.72908319, -0.69471162, -0.66034004, -0.62596846,\n",
       "        -0.59159688, -0.55722531, -0.52285373, -0.48848215, -0.45411057,\n",
       "        -0.41973899, -0.38536742, -0.35099584, -0.31662426, -0.28225268,\n",
       "        -0.24788111, -0.21350953, -0.17913795, -0.14476637, -0.1103948 ,\n",
       "        -0.07602322, -0.04165164, -0.00728006,  0.02709151,  0.06146309,\n",
       "         0.09583467,  0.13020625,  0.16457783,  0.1989494 ,  0.23332098,\n",
       "         0.26769256,  0.30206414,  0.33643571,  0.37080729,  0.40517887,\n",
       "         0.43955045,  0.47392202,  0.5082936 ,  0.54266518,  0.57703676,\n",
       "         0.61140833,  0.64577991,  0.68015149,  0.71452307,  0.74889465,\n",
       "         0.78326622,  0.8176378 ,  0.85200938,  0.88638096,  0.92075253,\n",
       "         0.95512411,  0.98949569,  1.02386727,  1.05823884,  1.09261042,\n",
       "         1.126982  ,  1.16135358,  1.19572515,  1.23009673,  1.26446831,\n",
       "         1.29883989,  1.33321147,  1.36758304,  1.40195462,  1.4363262 ,\n",
       "         1.47069778,  1.50506935,  1.53944093,  1.57381251,  1.60818409,\n",
       "         1.64255566]),\n",
       " <BarContainer object of 100 artists>)"
      ]
     },
     "execution_count": 45,
     "metadata": {},
     "output_type": "execute_result"
    },
    {
     "data": {
      "image/png": "[encoded data removed]",
      "text/plain": [
       "<Figure size 432x288 with 1 Axes>"
      ]
     },
     "metadata": {
      "needs_background": "light"
     },
     "output_type": "display_data"
    }
   ],
   "source": [
    "std_scaler = StandardScaler()\n",
    "\n",
    "a_standardscaled = std_scaler.fit_transform(a)\n",
    "plt.hist(a_standardscaled, bins=100)"
   ]
  },
  {
   "cell_type": "code",
   "execution_count": 46,
   "metadata": {},
   "outputs": [
    {
     "data": {
      "text/plain": [
       "(array([ 6.,  9.,  1.,  7.,  5.,  8.,  4.,  7.,  8.,  6.,  5.,  7.,  2.,\n",
       "         5.,  5.,  6.,  4.,  5.,  4.,  6.,  3.,  5.,  1.,  5.,  4.,  2.,\n",
       "         6.,  8.,  5.,  7.,  4.,  2.,  5.,  9., 10.,  6.,  3.,  6.,  5.,\n",
       "         3.,  3.,  1.,  3.,  6.,  6.,  7.,  3., 12.,  2.,  5.,  5.,  5.,\n",
       "         5.,  4.,  5.,  3.,  4.,  8.,  4.,  3.,  7.,  7.,  2.,  5.,  5.,\n",
       "         9.,  3.,  3.,  4.,  1.,  5.,  9.,  4.,  5.,  3.,  6.,  6.,  8.,\n",
       "         4.,  2.,  7.,  3.,  2.,  6.,  5.,  4.,  4.,  7.,  7.,  9.,  5.,\n",
       "         4.,  4.,  5.,  3.,  5.,  4.,  5.,  4.,  6.]),\n",
       " array([-1.6761596 , -1.64200963, -1.60785965, -1.57370968, -1.53955971,\n",
       "        -1.50540974, -1.47125977, -1.4371098 , -1.40295983, -1.36880986,\n",
       "        -1.33465988, -1.30050991, -1.26635994, -1.23220997, -1.19806   ,\n",
       "        -1.16391003, -1.12976006, -1.09561009, -1.06146012, -1.02731014,\n",
       "        -0.99316017, -0.9590102 , -0.92486023, -0.89071026, -0.85656029,\n",
       "        -0.82241032, -0.78826035, -0.75411037, -0.7199604 , -0.68581043,\n",
       "        -0.65166046, -0.61751049, -0.58336052, -0.54921055, -0.51506058,\n",
       "        -0.48091061, -0.44676063, -0.41261066, -0.37846069, -0.34431072,\n",
       "        -0.31016075, -0.27601078, -0.24186081, -0.20771084, -0.17356086,\n",
       "        -0.13941089, -0.10526092, -0.07111095, -0.03696098, -0.00281101,\n",
       "         0.03133896,  0.06548893,  0.0996389 ,  0.13378888,  0.16793885,\n",
       "         0.20208882,  0.23623879,  0.27038876,  0.30453873,  0.3386887 ,\n",
       "         0.37283867,  0.40698865,  0.44113862,  0.47528859,  0.50943856,\n",
       "         0.54358853,  0.5777385 ,  0.61188847,  0.64603844,  0.68018841,\n",
       "         0.71433839,  0.74848836,  0.78263833,  0.8167883 ,  0.85093827,\n",
       "         0.88508824,  0.91923821,  0.95338818,  0.98753816,  1.02168813,\n",
       "         1.0558381 ,  1.08998807,  1.12413804,  1.15828801,  1.19243798,\n",
       "         1.22658795,  1.26073792,  1.2948879 ,  1.32903787,  1.36318784,\n",
       "         1.39733781,  1.43148778,  1.46563775,  1.49978772,  1.53393769,\n",
       "         1.56808767,  1.60223764,  1.63638761,  1.67053758,  1.70468755,\n",
       "         1.73883752]),\n",
       " <BarContainer object of 100 artists>)"
      ]
     },
     "execution_count": 46,
     "metadata": {},
     "output_type": "execute_result"
    },
    {
     "data": {
      "image/png": "[encoded data removed]",
      "text/plain": [
       "<Figure size 432x288 with 1 Axes>"
      ]
     },
     "metadata": {
      "needs_background": "light"
     },
     "output_type": "display_data"
    }
   ],
   "source": [
    "b_standardscaled = std_scaler.fit_transform(b)\n",
    "plt.hist(b_standardscaled, bins=100)"
   ]
  },
  {
   "cell_type": "code",
   "execution_count": 48,
   "metadata": {},
   "outputs": [
    {
     "data": {
      "text/plain": [
       "(array([ 6.,  9.,  1.,  7.,  5.,  8.,  4.,  7.,  8.,  6.,  5.,  7.,  2.,\n",
       "         5.,  5.,  6.,  4.,  5.,  4.,  6.,  3.,  5.,  1.,  5.,  4.,  2.,\n",
       "         6.,  8.,  5.,  7.,  4.,  2.,  5.,  9., 10.,  6.,  3.,  6.,  5.,\n",
       "         3.,  3.,  1.,  3.,  6.,  6.,  7.,  3., 12.,  2.,  5.,  5.,  5.,\n",
       "         5.,  4.,  5.,  3.,  4.,  8.,  4.,  3.,  7.,  7.,  2.,  5.,  5.,\n",
       "         9.,  3.,  3.,  4.,  1.,  5.,  9.,  4.,  5.,  3.,  6.,  6.,  8.,\n",
       "         4.,  2.,  7.,  3.,  2.,  6.,  5.,  4.,  4.,  7.,  7.,  9.,  5.,\n",
       "         4.,  4.,  5.,  3.,  5.,  4.,  5.,  4.,  6.]),\n",
       " array([-1.6761596 , -1.64200963, -1.60785965, -1.57370968, -1.53955971,\n",
       "        -1.50540974, -1.47125977, -1.4371098 , -1.40295983, -1.36880986,\n",
       "        -1.33465988, -1.30050991, -1.26635994, -1.23220997, -1.19806   ,\n",
       "        -1.16391003, -1.12976006, -1.09561009, -1.06146012, -1.02731014,\n",
       "        -0.99316017, -0.9590102 , -0.92486023, -0.89071026, -0.85656029,\n",
       "        -0.82241032, -0.78826035, -0.75411037, -0.7199604 , -0.68581043,\n",
       "        -0.65166046, -0.61751049, -0.58336052, -0.54921055, -0.51506058,\n",
       "        -0.48091061, -0.44676063, -0.41261066, -0.37846069, -0.34431072,\n",
       "        -0.31016075, -0.27601078, -0.24186081, -0.20771084, -0.17356086,\n",
       "        -0.13941089, -0.10526092, -0.07111095, -0.03696098, -0.00281101,\n",
       "         0.03133896,  0.06548893,  0.0996389 ,  0.13378888,  0.16793885,\n",
       "         0.20208882,  0.23623879,  0.27038876,  0.30453873,  0.3386887 ,\n",
       "         0.37283867,  0.40698865,  0.44113862,  0.47528859,  0.50943856,\n",
       "         0.54358853,  0.5777385 ,  0.61188847,  0.64603844,  0.68018841,\n",
       "         0.71433839,  0.74848836,  0.78263833,  0.8167883 ,  0.85093827,\n",
       "         0.88508824,  0.91923821,  0.95338818,  0.98753816,  1.02168813,\n",
       "         1.0558381 ,  1.08998807,  1.12413804,  1.15828801,  1.19243798,\n",
       "         1.22658795,  1.26073792,  1.2948879 ,  1.32903787,  1.36318784,\n",
       "         1.39733781,  1.43148778,  1.46563775,  1.49978772,  1.53393769,\n",
       "         1.56808767,  1.60223764,  1.63638761,  1.67053758,  1.70468755,\n",
       "         1.73883752]),\n",
       " <BarContainer object of 100 artists>)"
      ]
     },
     "execution_count": 48,
     "metadata": {},
     "output_type": "execute_result"
    },
    {
     "data": {
      "image/png": "[encoded data removed]",
      "text/plain": [
       "<Figure size 432x288 with 1 Axes>"
      ]
     },
     "metadata": {
      "needs_background": "light"
     },
     "output_type": "display_data"
    }
   ],
   "source": [
    "plt.hist(a_standardscaled, bins=100)\n",
    "plt.hist(b_standardscaled, bins=100)"
   ]
  },
  {
   "cell_type": "code",
   "execution_count": 2,
   "metadata": {},
   "outputs": [],
   "source": [
    "#Create a ML model\n",
    "\n",
    "from sklearn.model_selection import train_test_split\n",
    "import pandas as pd\n",
    "\n",
    "#Set the Pandas Dataframe from Dataset Source\n",
    "\n",
    "df = pd.read_csv(\"diabetes.csv\")\n",
    "\n"
   ]
  },
  {
   "cell_type": "code",
   "execution_count": 5,
   "metadata": {},
   "outputs": [
    {
     "data": {
      "text/plain": [
       "0      1\n",
       "1      0\n",
       "2      1\n",
       "3      0\n",
       "4      1\n",
       "      ..\n",
       "763    0\n",
       "764    0\n",
       "765    0\n",
       "766    1\n",
       "767    0\n",
       "Name: Outcome, Length: 768, dtype: int64"
      ]
     },
     "execution_count": 5,
     "metadata": {},
     "output_type": "execute_result"
    }
   ],
   "source": [
    "#Create DF with Outcome column dropped\n",
    "\n",
    "X = df.drop(\"Outcome\", axis=1)\n",
    "\n",
    "#Create DF only with Outcome column\n",
    "\n",
    "y = df[\"Outcome\"]"
   ]
  },
  {
   "cell_type": "code",
   "execution_count": 6,
   "metadata": {},
   "outputs": [],
   "source": [
    "\n",
    "#X_train - training dataset for data\n",
    "#X_test - test dataset for data\n",
    "#y_train - training dataset for result\n",
    "#y_test - test dataset for result\n",
    "\n",
    "X_train, X_test, y_train, y_test = train_test_split(X, y, test_size=0.33, random_state=42)"
   ]
  },
  {
   "cell_type": "code",
   "execution_count": 7,
   "metadata": {},
   "outputs": [
    {
     "data": {
      "text/html": [
       "<div>\n",
       "<style scoped>\n",
       "    .dataframe tbody tr th:only-of-type {\n",
       "        vertical-align: middle;\n",
       "    }\n",
       "\n",
       "    .dataframe tbody tr th {\n",
       "        vertical-align: top;\n",
       "    }\n",
       "\n",
       "    .dataframe thead th {\n",
       "        text-align: right;\n",
       "    }\n",
       "</style>\n",
       "<table border=\"1\" class=\"dataframe\">\n",
       "  <thead>\n",
       "    <tr style=\"text-align: right;\">\n",
       "      <th></th>\n",
       "      <th>Pregnancies</th>\n",
       "      <th>Glucose</th>\n",
       "      <th>BloodPressure</th>\n",
       "      <th>SkinThickness</th>\n",
       "      <th>Insulin</th>\n",
       "      <th>BMI</th>\n",
       "      <th>DiabetesPedigreeFunction</th>\n",
       "      <th>Age</th>\n",
       "    </tr>\n",
       "  </thead>\n",
       "  <tbody>\n",
       "    <tr>\n",
       "      <th>464</th>\n",
       "      <td>10</td>\n",
       "      <td>115</td>\n",
       "      <td>98</td>\n",
       "      <td>0</td>\n",
       "      <td>0</td>\n",
       "      <td>24.0</td>\n",
       "      <td>1.022</td>\n",
       "      <td>34</td>\n",
       "    </tr>\n",
       "    <tr>\n",
       "      <th>223</th>\n",
       "      <td>7</td>\n",
       "      <td>142</td>\n",
       "      <td>60</td>\n",
       "      <td>33</td>\n",
       "      <td>190</td>\n",
       "      <td>28.8</td>\n",
       "      <td>0.687</td>\n",
       "      <td>61</td>\n",
       "    </tr>\n",
       "    <tr>\n",
       "      <th>393</th>\n",
       "      <td>4</td>\n",
       "      <td>116</td>\n",
       "      <td>72</td>\n",
       "      <td>12</td>\n",
       "      <td>87</td>\n",
       "      <td>22.1</td>\n",
       "      <td>0.463</td>\n",
       "      <td>37</td>\n",
       "    </tr>\n",
       "    <tr>\n",
       "      <th>766</th>\n",
       "      <td>1</td>\n",
       "      <td>126</td>\n",
       "      <td>60</td>\n",
       "      <td>0</td>\n",
       "      <td>0</td>\n",
       "      <td>30.1</td>\n",
       "      <td>0.349</td>\n",
       "      <td>47</td>\n",
       "    </tr>\n",
       "    <tr>\n",
       "      <th>570</th>\n",
       "      <td>3</td>\n",
       "      <td>78</td>\n",
       "      <td>70</td>\n",
       "      <td>0</td>\n",
       "      <td>0</td>\n",
       "      <td>32.5</td>\n",
       "      <td>0.270</td>\n",
       "      <td>39</td>\n",
       "    </tr>\n",
       "    <tr>\n",
       "      <th>...</th>\n",
       "      <td>...</td>\n",
       "      <td>...</td>\n",
       "      <td>...</td>\n",
       "      <td>...</td>\n",
       "      <td>...</td>\n",
       "      <td>...</td>\n",
       "      <td>...</td>\n",
       "      <td>...</td>\n",
       "    </tr>\n",
       "    <tr>\n",
       "      <th>71</th>\n",
       "      <td>5</td>\n",
       "      <td>139</td>\n",
       "      <td>64</td>\n",
       "      <td>35</td>\n",
       "      <td>140</td>\n",
       "      <td>28.6</td>\n",
       "      <td>0.411</td>\n",
       "      <td>26</td>\n",
       "    </tr>\n",
       "    <tr>\n",
       "      <th>106</th>\n",
       "      <td>1</td>\n",
       "      <td>96</td>\n",
       "      <td>122</td>\n",
       "      <td>0</td>\n",
       "      <td>0</td>\n",
       "      <td>22.4</td>\n",
       "      <td>0.207</td>\n",
       "      <td>27</td>\n",
       "    </tr>\n",
       "    <tr>\n",
       "      <th>270</th>\n",
       "      <td>10</td>\n",
       "      <td>101</td>\n",
       "      <td>86</td>\n",
       "      <td>37</td>\n",
       "      <td>0</td>\n",
       "      <td>45.6</td>\n",
       "      <td>1.136</td>\n",
       "      <td>38</td>\n",
       "    </tr>\n",
       "    <tr>\n",
       "      <th>435</th>\n",
       "      <td>0</td>\n",
       "      <td>141</td>\n",
       "      <td>0</td>\n",
       "      <td>0</td>\n",
       "      <td>0</td>\n",
       "      <td>42.4</td>\n",
       "      <td>0.205</td>\n",
       "      <td>29</td>\n",
       "    </tr>\n",
       "    <tr>\n",
       "      <th>102</th>\n",
       "      <td>0</td>\n",
       "      <td>125</td>\n",
       "      <td>96</td>\n",
       "      <td>0</td>\n",
       "      <td>0</td>\n",
       "      <td>22.5</td>\n",
       "      <td>0.262</td>\n",
       "      <td>21</td>\n",
       "    </tr>\n",
       "  </tbody>\n",
       "</table>\n",
       "<p>514 rows × 8 columns</p>\n",
       "</div>"
      ],
      "text/plain": [
       "     Pregnancies  Glucose  BloodPressure  SkinThickness  Insulin   BMI  \\\n",
       "464           10      115             98              0        0  24.0   \n",
       "223            7      142             60             33      190  28.8   \n",
       "393            4      116             72             12       87  22.1   \n",
       "766            1      126             60              0        0  30.1   \n",
       "570            3       78             70              0        0  32.5   \n",
       "..           ...      ...            ...            ...      ...   ...   \n",
       "71             5      139             64             35      140  28.6   \n",
       "106            1       96            122              0        0  22.4   \n",
       "270           10      101             86             37        0  45.6   \n",
       "435            0      141              0              0        0  42.4   \n",
       "102            0      125             96              0        0  22.5   \n",
       "\n",
       "     DiabetesPedigreeFunction  Age  \n",
       "464                     1.022   34  \n",
       "223                     0.687   61  \n",
       "393                     0.463   37  \n",
       "766                     0.349   47  \n",
       "570                     0.270   39  \n",
       "..                        ...  ...  \n",
       "71                      0.411   26  \n",
       "106                     0.207   27  \n",
       "270                     1.136   38  \n",
       "435                     0.205   29  \n",
       "102                     0.262   21  \n",
       "\n",
       "[514 rows x 8 columns]"
      ]
     },
     "execution_count": 7,
     "metadata": {},
     "output_type": "execute_result"
    }
   ],
   "source": []
  },
  {
   "cell_type": "code",
   "execution_count": 8,
   "metadata": {},
   "outputs": [],
   "source": [
    "from sklearn.model_selection import KFold"
   ]
  },
  {
   "cell_type": "code",
   "execution_count": 12,
   "metadata": {},
   "outputs": [],
   "source": [
    "kf = KFold(n_splits=5, shuffle=True)"
   ]
  },
  {
   "cell_type": "code",
   "execution_count": 13,
   "metadata": {},
   "outputs": [
    {
     "name": "stdout",
     "output_type": "stream",
     "text": [
      "Training indices: [  0   1   2   4   6   7   8   9  10  11  12  13  14  15  16  17  20  21\n",
      "  22  23  25  27  28  29  30  32  33  34  35  37  38  39  40  41  42  43\n",
      "  44  45  46  47  48  49  50  51  52  53  55  58  59  60  61  62  63  64\n",
      "  65  66  67  68  69  70  71  72  73  74  75  76  77  78  79  80  81  82\n",
      "  84  85  86  87  88  89  90  91  92  93  94  95  96  97  98  99 100 101\n",
      " 102 103 104 106 107 108 109 111 113 114 115 118 119 121 122 123 125 129\n",
      " 130 131 132 133 134 135 136 137 138 139 140 141 142 143 144 148 149 150\n",
      " 151 153 154 155 157 158 160 161 162 163 164 165 166 167 169 171 172 174\n",
      " 175 177 178 179 182 183 184 185 186 187 188 190 191 192 193 194 195 197\n",
      " 198 199 201 202 203 204 205 206 207 208 209 210 211 212 214 215 216 217\n",
      " 218 219 220 221 222 224 225 226 228 229 230 231 233 235 236 237 238 239\n",
      " 240 241 242 243 244 245 246 247 248 249 250 251 253 254 255 256 257 259\n",
      " 260 261 262 263 264 265 266 267 268 269 270 271 272 273 274 276 278 279\n",
      " 280 281 283 284 286 287 288 289 290 291 295 296 297 298 299 300 303 304\n",
      " 305 306 307 309 311 312 313 314 315 319 320 321 322 323 324 325 326 328\n",
      " 329 330 331 332 333 334 335 337 341 342 343 347 349 350 351 353 354 355\n",
      " 356 357 360 361 362 363 364 365 366 367 368 369 370 371 372 373 374 375\n",
      " 376 379 380 381 382 383 384 385 388 389 390 391 392 394 395 397 398 399\n",
      " 400 401 402 403 404 405 406 407 408 409 410 411 413 414 415 416 417 418\n",
      " 419 420 421 423 424 427 428 429 430 431 432 434 435 437 438 439 440 441\n",
      " 444 445 446 448 449 450 451 452 453 454 455 456 457 459 460 462 465 466\n",
      " 468 470 471 473 474 475 476 477 479 481 482 483 484 486 487 488 489 490\n",
      " 491 492 493 494 496 497 498 499 501 502 503 505 510 511 512 513 514 517\n",
      " 518 519 520 522 523 524 525 527 528 529 530 531 532 533 534 535 537 538\n",
      " 539 540 541 542 543 544 547 548 549 552 553 555 557 559 560 561 562 564\n",
      " 565 567 569 570 571 573 574 575 576 577 578 580 581 583 584 586 588 589\n",
      " 590 591 592 593 594 595 596 597 598 599 600 602 603 604 605 606 607 608\n",
      " 609 610 611 612 613 614 615 616 618 619 620 621 622 623 624 626 627 628\n",
      " 629 630 633 634 635 636 638 639 640 641 643 644 645 646 647 649 650 652\n",
      " 653 654 655 658 659 660 662 663 664 665 666 667 668 669 670 671 672 675\n",
      " 676 677 678 680 681 682 684 686 687 688 689 690 693 694 695 697 698 699\n",
      " 701 702 703 705 706 707 708 709 710 712 713 716 719 720 721 722 723 724\n",
      " 725 726 727 728 729 730 731 732 733 734 735 736 737 738 739 740 741 742\n",
      " 743 744 747 749 750 751 752 754 755 756 757 758 759 760 761 762 763 764\n",
      " 766 767]\n",
      "614\n",
      "Validation indices: [  3   5  18  19  24  26  31  36  54  56  57  83 105 110 112 116 117 120\n",
      " 124 126 127 128 145 146 147 152 156 159 168 170 173 176 180 181 189 196\n",
      " 200 213 223 227 232 234 252 258 275 277 282 285 292 293 294 301 302 308\n",
      " 310 316 317 318 327 336 338 339 340 344 345 346 348 352 358 359 377 378\n",
      " 386 387 393 396 412 422 425 426 433 436 442 443 447 458 461 463 464 467\n",
      " 469 472 478 480 485 495 500 504 506 507 508 509 515 516 521 526 536 545\n",
      " 546 550 551 554 556 558 563 566 568 572 579 582 585 587 601 617 625 631\n",
      " 632 637 642 648 651 656 657 661 673 674 679 683 685 691 692 696 700 704\n",
      " 711 714 715 717 718 745 746 748 753 765]\n",
      "154\n",
      "Training indices: [  1   2   3   4   5   6   9  10  11  12  13  14  15  16  17  18  19  20\n",
      "  22  23  24  26  27  28  29  30  31  32  33  34  36  37  38  39  40  43\n",
      "  44  45  46  47  49  50  51  53  54  55  56  57  59  61  62  64  65  66\n",
      "  67  68  69  71  72  73  77  78  79  80  81  83  84  86  87  88  89  90\n",
      "  91  92  93  95  97  98  99 101 102 103 104 105 107 109 110 111 112 114\n",
      " 115 116 117 118 119 120 121 123 124 125 126 127 128 129 130 131 133 134\n",
      " 136 138 141 142 145 146 147 149 150 151 152 153 156 157 158 159 160 161\n",
      " 162 163 164 166 168 169 170 171 172 173 174 176 177 178 179 180 181 182\n",
      " 183 184 185 186 187 188 189 190 191 192 194 195 196 197 198 199 200 201\n",
      " 203 204 206 207 209 211 213 214 216 217 218 219 220 222 223 224 225 227\n",
      " 229 230 232 233 234 235 236 237 238 240 241 242 244 248 249 251 252 254\n",
      " 255 256 257 258 259 260 261 262 263 264 265 266 267 269 271 272 274 275\n",
      " 277 279 280 281 282 283 284 285 286 287 288 290 291 292 293 294 295 297\n",
      " 299 300 301 302 303 306 307 308 309 310 311 312 314 315 316 317 318 320\n",
      " 321 322 323 324 325 326 327 328 330 331 332 333 336 337 338 339 340 341\n",
      " 342 343 344 345 346 347 348 350 351 352 353 355 357 358 359 360 361 363\n",
      " 365 366 367 368 369 370 375 377 378 380 381 384 385 386 387 388 389 390\n",
      " 391 392 393 394 395 396 397 398 400 401 402 404 405 406 407 408 409 411\n",
      " 412 414 415 416 417 419 420 421 422 423 424 425 426 427 429 430 431 432\n",
      " 433 434 436 437 438 440 442 443 444 445 447 448 450 451 452 453 454 457\n",
      " 458 459 461 463 464 465 467 468 469 470 472 474 475 476 478 479 480 481\n",
      " 483 484 485 486 487 488 491 492 493 494 495 496 499 500 501 502 503 504\n",
      " 505 506 507 508 509 510 512 513 515 516 518 519 520 521 523 524 525 526\n",
      " 527 528 529 530 531 532 534 536 537 538 539 540 541 542 543 544 545 546\n",
      " 547 548 549 550 551 552 553 554 555 556 557 558 559 560 562 563 564 565\n",
      " 566 567 568 570 571 572 573 575 576 577 578 579 580 581 582 584 585 586\n",
      " 587 588 589 590 591 592 593 595 596 597 598 600 601 602 603 604 605 606\n",
      " 607 608 609 611 612 613 614 615 616 617 618 621 622 623 625 626 627 630\n",
      " 631 632 633 634 635 636 637 639 641 642 643 644 645 646 648 649 650 651\n",
      " 652 653 655 656 657 658 659 660 661 663 665 666 667 669 671 673 674 675\n",
      " 677 679 680 681 682 683 684 685 686 687 688 689 691 692 695 696 697 698\n",
      " 699 700 701 702 703 704 705 706 707 708 710 711 712 713 714 715 716 717\n",
      " 718 719 720 721 722 724 726 727 729 730 732 733 734 735 737 738 740 741\n",
      " 743 745 746 748 749 750 751 753 754 755 757 758 759 760 761 762 764 765\n",
      " 766 767]\n",
      "614\n",
      "Validation indices: [  0   7   8  21  25  35  41  42  48  52  58  60  63  70  74  75  76  82\n",
      "  85  94  96 100 106 108 113 122 132 135 137 139 140 143 144 148 154 155\n",
      " 165 167 175 193 202 205 208 210 212 215 221 226 228 231 239 243 245 246\n",
      " 247 250 253 268 270 273 276 278 289 296 298 304 305 313 319 329 334 335\n",
      " 349 354 356 362 364 371 372 373 374 376 379 382 383 399 403 410 413 418\n",
      " 428 435 439 441 446 449 455 456 460 462 466 471 473 477 482 489 490 497\n",
      " 498 511 514 517 522 533 535 561 569 574 583 594 599 610 619 620 624 628\n",
      " 629 638 640 647 654 662 664 668 670 672 676 678 690 693 694 709 723 725\n",
      " 728 731 736 739 742 744 747 752 756 763]\n",
      "154\n",
      "Training indices: [  0   1   2   3   4   5   7   8   9  11  13  14  16  17  18  19  21  24\n",
      "  25  26  27  28  29  30  31  32  33  34  35  36  37  39  41  42  43  44\n",
      "  45  46  47  48  49  52  54  55  56  57  58  60  62  63  64  66  68  69\n",
      "  70  72  74  75  76  77  80  81  82  83  85  87  88  90  92  94  96  97\n",
      "  98 100 101 102 104 105 106 107 108 109 110 112 113 114 115 116 117 118\n",
      " 120 122 123 124 125 126 127 128 129 130 131 132 133 135 136 137 139 140\n",
      " 141 142 143 144 145 146 147 148 149 150 152 154 155 156 157 158 159 160\n",
      " 161 162 164 165 166 167 168 169 170 171 172 173 174 175 176 177 180 181\n",
      " 182 184 185 186 189 190 192 193 194 196 197 198 199 200 201 202 204 205\n",
      " 206 207 208 209 210 211 212 213 214 215 216 217 218 220 221 222 223 224\n",
      " 225 226 227 228 230 231 232 233 234 235 237 238 239 240 241 242 243 244\n",
      " 245 246 247 248 250 252 253 254 256 257 258 259 261 262 263 264 265 268\n",
      " 269 270 273 274 275 276 277 278 279 280 281 282 283 285 287 289 290 292\n",
      " 293 294 295 296 297 298 299 300 301 302 303 304 305 306 307 308 309 310\n",
      " 311 312 313 314 315 316 317 318 319 320 321 323 324 325 326 327 329 330\n",
      " 333 334 335 336 337 338 339 340 341 343 344 345 346 347 348 349 350 352\n",
      " 353 354 356 357 358 359 360 361 362 364 365 366 368 369 371 372 373 374\n",
      " 375 376 377 378 379 380 381 382 383 384 385 386 387 388 389 390 391 392\n",
      " 393 396 397 398 399 401 402 403 405 407 408 409 410 411 412 413 414 415\n",
      " 417 418 419 420 421 422 425 426 427 428 430 432 433 435 436 439 441 442\n",
      " 443 444 445 446 447 448 449 451 453 454 455 456 457 458 459 460 461 462\n",
      " 463 464 465 466 467 468 469 471 472 473 476 477 478 479 480 481 482 485\n",
      " 487 489 490 491 492 493 494 495 496 497 498 499 500 501 504 506 507 508\n",
      " 509 510 511 512 513 514 515 516 517 519 521 522 525 526 528 529 531 533\n",
      " 534 535 536 539 542 543 545 546 547 550 551 554 555 556 557 558 559 561\n",
      " 562 563 564 566 567 568 569 570 572 573 574 575 577 578 579 580 581 582\n",
      " 583 584 585 587 588 590 591 592 593 594 596 597 598 599 601 602 603 604\n",
      " 605 606 608 609 610 611 612 616 617 618 619 620 621 622 623 624 625 626\n",
      " 627 628 629 631 632 636 637 638 640 641 642 644 645 646 647 648 649 650\n",
      " 651 654 655 656 657 659 660 661 662 664 666 668 669 670 672 673 674 675\n",
      " 676 678 679 681 683 684 685 686 687 689 690 691 692 693 694 695 696 698\n",
      " 699 700 701 702 703 704 706 708 709 710 711 713 714 715 716 717 718 719\n",
      " 720 721 723 724 725 726 727 728 729 731 733 734 735 736 738 739 740 742\n",
      " 744 745 746 747 748 749 751 752 753 754 755 756 758 759 760 761 762 763\n",
      " 765 767]\n",
      "614\n",
      "Validation indices: [  6  10  12  15  20  22  23  38  40  50  51  53  59  61  65  67  71  73\n",
      "  78  79  84  86  89  91  93  95  99 103 111 119 121 134 138 151 153 163\n",
      " 178 179 183 187 188 191 195 203 219 229 236 249 251 255 260 266 267 271\n",
      " 272 284 286 288 291 322 328 331 332 342 351 355 363 367 370 394 395 400\n",
      " 404 406 416 423 424 429 431 434 437 438 440 450 452 470 474 475 483 484\n",
      " 486 488 502 503 505 518 520 523 524 527 530 532 537 538 540 541 544 548\n",
      " 549 552 553 560 565 571 576 586 589 595 600 607 613 614 615 630 633 634\n",
      " 635 639 643 652 653 658 663 665 667 671 677 680 682 688 697 705 707 712\n",
      " 722 730 732 737 741 743 750 757 764 766]\n",
      "154\n",
      "Training indices: [  0   1   3   4   5   6   7   8  10  12  13  15  16  18  19  20  21  22\n",
      "  23  24  25  26  28  29  30  31  32  35  36  38  39  40  41  42  44  45\n",
      "  46  47  48  50  51  52  53  54  55  56  57  58  59  60  61  62  63  64\n",
      "  65  66  67  70  71  73  74  75  76  77  78  79  81  82  83  84  85  86\n",
      "  89  90  91  92  93  94  95  96  97  99 100 101 102 103 105 106 107 108\n",
      " 110 111 112 113 114 115 116 117 118 119 120 121 122 123 124 126 127 128\n",
      " 129 130 131 132 134 135 136 137 138 139 140 141 143 144 145 146 147 148\n",
      " 150 151 152 153 154 155 156 159 162 163 164 165 167 168 170 171 172 173\n",
      " 175 176 178 179 180 181 183 184 187 188 189 191 193 194 195 196 199 200\n",
      " 202 203 204 205 208 210 211 212 213 215 216 217 219 221 223 226 227 228\n",
      " 229 231 232 234 235 236 237 238 239 243 245 246 247 249 250 251 252 253\n",
      " 254 255 258 259 260 261 262 263 266 267 268 270 271 272 273 275 276 277\n",
      " 278 280 281 282 284 285 286 287 288 289 290 291 292 293 294 296 298 300\n",
      " 301 302 303 304 305 307 308 309 310 313 314 316 317 318 319 320 322 326\n",
      " 327 328 329 330 331 332 333 334 335 336 337 338 339 340 342 344 345 346\n",
      " 347 348 349 350 351 352 353 354 355 356 357 358 359 361 362 363 364 365\n",
      " 366 367 370 371 372 373 374 376 377 378 379 380 382 383 385 386 387 388\n",
      " 392 393 394 395 396 399 400 401 402 403 404 406 410 411 412 413 415 416\n",
      " 418 419 421 422 423 424 425 426 428 429 431 432 433 434 435 436 437 438\n",
      " 439 440 441 442 443 444 445 446 447 448 449 450 452 454 455 456 458 459\n",
      " 460 461 462 463 464 465 466 467 468 469 470 471 472 473 474 475 477 478\n",
      " 480 482 483 484 485 486 488 489 490 491 492 494 495 496 497 498 500 501\n",
      " 502 503 504 505 506 507 508 509 510 511 513 514 515 516 517 518 519 520\n",
      " 521 522 523 524 526 527 528 530 531 532 533 535 536 537 538 539 540 541\n",
      " 544 545 546 547 548 549 550 551 552 553 554 555 556 558 560 561 562 563\n",
      " 565 566 567 568 569 571 572 573 574 576 579 581 582 583 584 585 586 587\n",
      " 588 589 594 595 597 598 599 600 601 602 605 607 610 612 613 614 615 616\n",
      " 617 619 620 621 622 624 625 626 628 629 630 631 632 633 634 635 636 637\n",
      " 638 639 640 641 642 643 644 645 647 648 649 650 651 652 653 654 655 656\n",
      " 657 658 659 660 661 662 663 664 665 667 668 670 671 672 673 674 675 676\n",
      " 677 678 679 680 681 682 683 684 685 687 688 690 691 692 693 694 696 697\n",
      " 698 699 700 701 702 703 704 705 706 707 708 709 710 711 712 713 714 715\n",
      " 716 717 718 720 721 722 723 725 726 727 728 729 730 731 732 733 734 736\n",
      " 737 739 741 742 743 744 745 746 747 748 750 752 753 754 756 757 761 763\n",
      " 764 765 766]\n",
      "615\n",
      "Validation indices: [  2   9  11  14  17  27  33  34  37  43  49  68  69  72  80  87  88  98\n",
      " 104 109 125 133 142 149 157 158 160 161 166 169 174 177 182 185 186 190\n",
      " 192 197 198 201 206 207 209 214 218 220 222 224 225 230 233 240 241 242\n",
      " 244 248 256 257 264 265 269 274 279 283 295 297 299 306 311 312 315 321\n",
      " 323 324 325 341 343 360 368 369 375 381 384 389 390 391 397 398 405 407\n",
      " 408 409 414 417 420 427 430 451 453 457 476 479 481 487 493 499 512 525\n",
      " 529 534 542 543 557 559 564 570 575 577 578 580 590 591 592 593 596 603\n",
      " 604 606 608 609 611 618 623 627 646 666 669 686 689 695 719 724 735 738\n",
      " 740 749 751 755 758 759 760 762 767]\n",
      "153\n",
      "Training indices: [  0   2   3   5   6   7   8   9  10  11  12  14  15  17  18  19  20  21\n",
      "  22  23  24  25  26  27  31  33  34  35  36  37  38  40  41  42  43  48\n",
      "  49  50  51  52  53  54  56  57  58  59  60  61  63  65  67  68  69  70\n",
      "  71  72  73  74  75  76  78  79  80  82  83  84  85  86  87  88  89  91\n",
      "  93  94  95  96  98  99 100 103 104 105 106 108 109 110 111 112 113 116\n",
      " 117 119 120 121 122 124 125 126 127 128 132 133 134 135 137 138 139 140\n",
      " 142 143 144 145 146 147 148 149 151 152 153 154 155 156 157 158 159 160\n",
      " 161 163 165 166 167 168 169 170 173 174 175 176 177 178 179 180 181 182\n",
      " 183 185 186 187 188 189 190 191 192 193 195 196 197 198 200 201 202 203\n",
      " 205 206 207 208 209 210 212 213 214 215 218 219 220 221 222 223 224 225\n",
      " 226 227 228 229 230 231 232 233 234 236 239 240 241 242 243 244 245 246\n",
      " 247 248 249 250 251 252 253 255 256 257 258 260 264 265 266 267 268 269\n",
      " 270 271 272 273 274 275 276 277 278 279 282 283 284 285 286 288 289 291\n",
      " 292 293 294 295 296 297 298 299 301 302 304 305 306 308 310 311 312 313\n",
      " 315 316 317 318 319 321 322 323 324 325 327 328 329 331 332 334 335 336\n",
      " 338 339 340 341 342 343 344 345 346 348 349 351 352 354 355 356 358 359\n",
      " 360 362 363 364 367 368 369 370 371 372 373 374 375 376 377 378 379 381\n",
      " 382 383 384 386 387 389 390 391 393 394 395 396 397 398 399 400 403 404\n",
      " 405 406 407 408 409 410 412 413 414 416 417 418 420 422 423 424 425 426\n",
      " 427 428 429 430 431 433 434 435 436 437 438 439 440 441 442 443 446 447\n",
      " 449 450 451 452 453 455 456 457 458 460 461 462 463 464 466 467 469 470\n",
      " 471 472 473 474 475 476 477 478 479 480 481 482 483 484 485 486 487 488\n",
      " 489 490 493 495 497 498 499 500 502 503 504 505 506 507 508 509 511 512\n",
      " 514 515 516 517 518 520 521 522 523 524 525 526 527 529 530 532 533 534\n",
      " 535 536 537 538 540 541 542 543 544 545 546 548 549 550 551 552 553 554\n",
      " 556 557 558 559 560 561 563 564 565 566 568 569 570 571 572 574 575 576\n",
      " 577 578 579 580 582 583 585 586 587 589 590 591 592 593 594 595 596 599\n",
      " 600 601 603 604 606 607 608 609 610 611 613 614 615 617 618 619 620 623\n",
      " 624 625 627 628 629 630 631 632 633 634 635 637 638 639 640 642 643 646\n",
      " 647 648 651 652 653 654 656 657 658 661 662 663 664 665 666 667 668 669\n",
      " 670 671 672 673 674 676 677 678 679 680 682 683 685 686 688 689 690 691\n",
      " 692 693 694 695 696 697 700 704 705 707 709 711 712 714 715 717 718 719\n",
      " 722 723 724 725 728 730 731 732 735 736 737 738 739 740 741 742 743 744\n",
      " 745 746 747 748 749 750 751 752 753 755 756 757 758 759 760 762 763 764\n",
      " 765 766 767]\n",
      "615\n",
      "Validation indices: [  1   4  13  16  28  29  30  32  39  44  45  46  47  55  62  64  66  77\n",
      "  81  90  92  97 101 102 107 114 115 118 123 129 130 131 136 141 150 162\n",
      " 164 171 172 184 194 199 204 211 216 217 235 237 238 254 259 261 262 263\n",
      " 280 281 287 290 300 303 307 309 314 320 326 330 333 337 347 350 353 357\n",
      " 361 365 366 380 385 388 392 401 402 411 415 419 421 432 444 445 448 454\n",
      " 459 465 468 491 492 494 496 501 510 513 519 528 531 539 547 555 562 567\n",
      " 573 581 584 588 597 598 602 605 612 616 621 622 626 636 641 644 645 649\n",
      " 650 655 659 660 675 681 684 687 698 699 701 702 703 706 708 710 713 716\n",
      " 720 721 726 727 729 733 734 754 761]\n",
      "153\n"
     ]
    }
   ],
   "source": [
    "for train, val in kf.split(X):\n",
    "    print(\"Training indices:\", train)\n",
    "    print(len(train))\n",
    "    print(\"Validation indices:\", val)\n",
    "    print(len(val))"
   ]
  },
  {
   "cell_type": "code",
   "execution_count": null,
   "metadata": {},
   "outputs": [],
   "source": [
    "#How to encode\n",
    "\n",
    "#pd.\"column name\".unique()\n",
    "#y = pd.get_dummies(df.\"column name\", prefix=\"data\")\n",
    "\n",
    "#Drop the Column name and concatenate the enconding one\n",
    "#pd.concat([df.drop(\"animals\", axis=1), y], axis=1)\n",
    "\n",
    "\n"
   ]
  }
 ],
 "metadata": {
  "interpreter": {
   "hash": "a9e5cb5e92a0c8c80ed378be552d13fd6c03783cc7ea2361bcce6013f41c7a83"
  },
  "kernelspec": {
   "display_name": "Python 3.8.10 64-bit ('myenv': conda)",
   "name": "python3"
  },
  "language_info": {
   "codemirror_mode": {
    "name": "ipython",
    "version": 3
   },
   "file_extension": ".py",
   "mimetype": "text/x-python",
   "name": "python",
   "nbconvert_exporter": "python",
   "pygments_lexer": "ipython3",
   "version": "3.8.10"
  },
  "orig_nbformat": 4
 },
 "nbformat": 4,
 "nbformat_minor": 2
}