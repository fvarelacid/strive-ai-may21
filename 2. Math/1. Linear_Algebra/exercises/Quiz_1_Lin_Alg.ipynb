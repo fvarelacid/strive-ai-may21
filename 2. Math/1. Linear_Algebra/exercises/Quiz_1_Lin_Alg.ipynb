{
 "cells": [
  {
   "cell_type": "markdown",
   "metadata": {},
   "source": [
    "## Linear Algebra Quiz #1\n",
    "\n",
    "![title](./img/1_0.jpeg)\n",
    "\n",
    "We strongly suggest working with numpy :)"
   ]
  },
  {
   "cell_type": "code",
   "execution_count": 3,
   "metadata": {},
   "outputs": [],
   "source": [
    "#Do your imports here\n",
    "\n",
    "import numpy as np\n",
    "import math"
   ]
  },
  {
   "cell_type": "markdown",
   "metadata": {},
   "source": [
    "![title](./img/1_1.png)"
   ]
  },
  {
   "cell_type": "code",
   "execution_count": 11,
   "metadata": {},
   "outputs": [],
   "source": [
    "# type a function that given a 3_dimensional vector it is able to calculate its magnitude\n",
    "def magnitude_3(a, b, c):\n",
    "    return round(np.linalg.norm([a, b, c]), 3)\n",
    "\n",
    "def magnitude_complete(*inputs):\n",
    "    return round(np.linalg.norm([num for num in inputs]), 3)\n",
    "\n",
    "def magnitude_3_v(vec):\n",
    "    # calculate the norm\n",
    "    norm = np.linalg.norm(vec)\n",
    "    # round it\n",
    "    norm = round(norm, 3)\n",
    "    # return the val\n",
    "    return norm    \n",
    "\n",
    "def magnitude_complete_vec(vector):\n",
    "    return magnitude_3_v(vector)\n"
   ]
  },
  {
   "cell_type": "markdown",
   "metadata": {},
   "source": [
    "uncomment the following line when you are ready to test"
   ]
  },
  {
   "cell_type": "code",
   "execution_count": 4,
   "metadata": {},
   "outputs": [
    {
     "output_type": "execute_result",
     "data": {
      "text/plain": [
       "True"
      ]
     },
     "metadata": {},
     "execution_count": 4
    }
   ],
   "source": [
    "magnitude_complete(1) == 1.0\n",
    "magnitude_complete(1,2) >= 2.236\n",
    "magnitude_complete(1,2,3) >= 3.741\n",
    "magnitude_complete(1,2,3,4,5) >= 5.477\n",
    "magnitude_complete(1,2,3,4,5) >= 7.416"
   ]
  },
  {
   "cell_type": "markdown",
   "metadata": {},
   "source": [
    "![title](./img/1_2.png)"
   ]
  },
  {
   "cell_type": "code",
   "execution_count": 12,
   "metadata": {},
   "outputs": [
    {
     "output_type": "execute_result",
     "data": {
      "text/plain": [
       "5.0"
      ]
     },
     "metadata": {},
     "execution_count": 12
    }
   ],
   "source": [
    "def magnitude_vectors(vec1, vec2):\n",
    "    assert len(vec1) == len(vec2)\n",
    "    return magnitude_complete_vec(np.add(vec1, vec2))\n",
    "\n",
    "\n",
    "magnitude_vectors([1, 2], [2, 2])"
   ]
  },
  {
   "cell_type": "markdown",
   "metadata": {},
   "source": [
    "![title](./img/1_3.png)"
   ]
  },
  {
   "cell_type": "code",
   "execution_count": 13,
   "metadata": {},
   "outputs": [
    {
     "output_type": "stream",
     "name": "stdout",
     "text": [
      "0.7853981633974483\nThe magnitude of sum of [1, 1] and [2, 2] is 4.243 and the direction is 0.25 pi.\n"
     ]
    }
   ],
   "source": [
    "# or if you want to do it all in one batch:\n",
    "def direction_vectors(vec1, vec2):\n",
    "    assert len(vec1) == len(vec2)\n",
    "    \n",
    "    sum_vec12 = np.add(vec1, vec2)\n",
    "    x = sum_vec12[0]\n",
    "    y = sum_vec12[1]\n",
    "    \n",
    "    return np.arctan(y/x)\n",
    "    \n",
    "    # checks that size of both vecs is equal   \n",
    "    # returns the direction (the angle) of a vector that is a sum of vec1 and vec2\n",
    "\n",
    "print(direction_vectors([1, 1], [2, 2]))\n",
    "    \n",
    "# or if you want to do it all in one batch:\n",
    "def magdir_vectors(vec1, vec2):\n",
    "    print(f'The magnitude of sum of {vec1} and {vec2} is {magnitude_vectors(vec1, vec2)} '\n",
    "            f'and the direction is {direction_vectors(vec1, vec2)/np.pi} pi.')\n",
    "\n",
    "magdir_vectors([1, 1], [2, 2])"
   ]
  },
  {
   "cell_type": "markdown",
   "metadata": {},
   "source": [
    "![title](./img/1_4.png)\n",
    "- What is the magnitude of αx⃗? \n",
    "- If α>0, will the direction of the resulting vector change?\n",
    "- If α<0, will the direction of the resulting vector change?\n",
    "- If −1<α<1, will ∥αx⃗∥  increase, decrease or stay the same?"
   ]
  },
  {
   "cell_type": "code",
   "execution_count": 14,
   "metadata": {},
   "outputs": [
    {
     "output_type": "stream",
     "name": "stdout",
     "text": [
      "The original vector was [1, 2], direction has changed, the new vector is [-0.931, -2.033].\n"
     ]
    }
   ],
   "source": [
    "def alpha_magnitude(alpha, vec):\n",
    "    mag_vec = magnitude_3_v(vec)\n",
    "    x = round(np.cos(alpha)*mag_vec, 3)\n",
    "    y = round(np.sin(alpha)*mag_vec, 3)\n",
    "    vec2 = [x, y]\n",
    "    beta = np.arctan(vec[1]/vec[0])\n",
    "\n",
    "    if alpha == beta:\n",
    "        dir_changed = \" and it hasn't changed.\"\n",
    "    else:\n",
    "        dir_changed = f\", direction has changed, the new vector is {vec2}.\"\n",
    "\n",
    "\n",
    "    print(f'The original vector was {vec}{dir_changed}')\n",
    "\n",
    "alpha_magnitude(-2, [1, 2])"
   ]
  },
  {
   "cell_type": "code",
   "execution_count": null,
   "metadata": {},
   "outputs": [],
   "source": []
  }
 ],
 "metadata": {
  "kernelspec": {
   "name": "python388jvsc74a57bd0b1e21d487c014a4ee08b2c01296798d41267222f6e1ae8a0062bead66e07b9e9",
   "display_name": "Python 3.8.8 64-bit ('base': conda)"
  },
  "language_info": {
   "codemirror_mode": {
    "name": "ipython",
    "version": 3
   },
   "file_extension": ".py",
   "mimetype": "text/x-python",
   "name": "python",
   "nbconvert_exporter": "python",
   "pygments_lexer": "ipython3",
   "version": "3.8.8"
  }
 },
 "nbformat": 4,
 "nbformat_minor": 2
}