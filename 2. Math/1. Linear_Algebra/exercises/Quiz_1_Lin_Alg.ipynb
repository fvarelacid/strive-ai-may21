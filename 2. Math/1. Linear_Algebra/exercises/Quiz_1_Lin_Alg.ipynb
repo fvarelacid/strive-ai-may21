{
 "cells": [
  {
   "cell_type": "markdown",
   "metadata": {},
   "source": [
    "## Linear Algebra Quiz #1\n",
    "\n",
    "![title](./img/1_0.jpeg)\n",
    "\n",
    "We strongly suggest working with numpy :)"
   ]
  },
  {
   "cell_type": "code",
   "execution_count": 4,
   "metadata": {},
   "outputs": [],
   "source": [
    "#Do your imports here\n",
    "\n",
    "import numpy as np\n",
    "import math"
   ]
  },
  {
   "cell_type": "markdown",
   "metadata": {},
   "source": [
    "![title](./img/1_1.png)"
   ]
  },
  {
   "cell_type": "code",
   "execution_count": 16,
   "metadata": {},
   "outputs": [],
   "source": [
    "# type a function that given a 3_dimensional vector it is able to calculate its magnitude\n",
    "\n",
    "def magnitude_3(a,b,c):\n",
    "    vector = np.array([a, b, c])\n",
    "    return math.sqrt(sum(pow(element, 2) for element in vector))\n",
    "\n",
    "# type a function that given a n_dimensional vector it is able to calculate its magnitude\n",
    "# if you want to try this from python (not jupyter notebook) https://docs.python.org/3/library/argparse.html would be a good addition\n",
    "# if you are doing this from a jupyter notebook only, you can try to promt the user for an input  \n",
    "\n",
    "def magnitude_complete(*inputs):\n",
    "    return np.linalg.norm([inp for inp in inputs])\n"
   ]
  },
  {
   "cell_type": "markdown",
   "metadata": {},
   "source": [
    "uncomment the following line when you are ready to test"
   ]
  },
  {
   "cell_type": "code",
   "execution_count": 19,
   "metadata": {},
   "outputs": [
    {
     "output_type": "execute_result",
     "data": {
      "text/plain": [
       "True"
      ]
     },
     "metadata": {},
     "execution_count": 19
    }
   ],
   "source": [
    "magnitude_complete(1) == 1.0\n",
    "magnitude_complete(1,2) >= 2.236\n",
    "magnitude_complete(1,2,3) >= 3.741\n",
    "magnitude_complete(1,2,3,4,5) >= 5.477\n",
    "magnitude_complete(1,2,3,4,5) >= 7.416"
   ]
  },
  {
   "cell_type": "markdown",
   "metadata": {},
   "source": [
    "![title](./img/1_2.png)"
   ]
  },
  {
   "cell_type": "code",
   "execution_count": 36,
   "metadata": {},
   "outputs": [
    {
     "output_type": "execute_result",
     "data": {
      "text/plain": [
       "'Magnitude of a + b is 5.064'"
      ]
     },
     "metadata": {},
     "execution_count": 36
    }
   ],
   "source": [
    "def magnitude_vectors(a, b):\n",
    "    #checks that size is equal\n",
    "    assert len(a) == len(b)\n",
    "    #returns the magnitude\n",
    "    mag_a = np.linalg.norm(a)\n",
    "    mag_b = np.linalg.norm(b)\n",
    "    total_mag = round(mag_a + mag_b, 3)\n",
    "    return \"Magnitude of a + b is \" + str(total_mag)\n",
    "\n",
    "\n",
    "magnitude_vectors([1, 2], [2, 2])"
   ]
  },
  {
   "cell_type": "markdown",
   "metadata": {},
   "source": [
    "![title](./img/1_3.png)"
   ]
  },
  {
   "cell_type": "code",
   "execution_count": 35,
   "metadata": {},
   "outputs": [
    {
     "output_type": "execute_result",
     "data": {
      "text/plain": [
       "'Magnitude of a + b is 5.064 and the direction is [3 4].'"
      ]
     },
     "metadata": {},
     "execution_count": 35
    }
   ],
   "source": [
    "# or if you want to do it all in one batch:\n",
    "def magdir_vectors(a, b):\n",
    "    #checks that size is equal\n",
    "    assert len(a) == len(b)\n",
    "    #returns the magnitude and direction in a nicely printed format \n",
    "    #\"The magnitude of a + b is X and the direction is Y\"\n",
    "    mag_a = np.linalg.norm(a)\n",
    "    mag_b = np.linalg.norm(b)\n",
    "    total_mag = round(mag_a + mag_b, 3)\n",
    "    total_dir = np.add(a, b)\n",
    "    return \"Magnitude of a + b is \" + str(total_mag) + \" and the direction is \" + str(total_dir) + \".\"\n",
    "\n",
    "magdir_vectors([1, 2], [2, 2])"
   ]
  },
  {
   "cell_type": "markdown",
   "metadata": {},
   "source": [
    "![title](./img/1_4.png)\n",
    "- What is the magnitude of αx⃗? \n",
    "- If α>0, will the direction of the resulting vector change?\n",
    "- If α<0, will the direction of the resulting vector change?\n",
    "- If −1<α<1, will ∥αx⃗∥  increase, decrease or stay the same?"
   ]
  },
  {
   "cell_type": "code",
   "execution_count": 46,
   "metadata": {},
   "outputs": [
    {
     "output_type": "stream",
     "name": "stdout",
     "text": [
      "[-2 -4]\n"
     ]
    },
    {
     "output_type": "execute_result",
     "data": {
      "text/plain": [
       "'The result magnitude is 4 which INCREASED. The direction has CHANGED with the final vector [-2 -4].'"
      ]
     },
     "metadata": {},
     "execution_count": 46
    }
   ],
   "source": [
    "def alpha_magnitude(alpha, b):\n",
    "    mag_b = np.linalg.norm(b)\n",
    "    vec2 = alpha * np.array(b)\n",
    "    print(vec2)\n",
    "\n",
    "    if alpha < 0:\n",
    "        dir_has_change = \"CHANGED\"\n",
    "    elif alpha > 0:\n",
    "        dir_has_change = \"NOT CHANGED\"\n",
    "    \n",
    "    if alpha > -1 and alpha < 1:\n",
    "        mag_state = \"DECREASED\"\n",
    "    else:\n",
    "        mag_state = \"INCREASED\"\n",
    "\n",
    "\n",
    "    mag_vec2 = round(np.linalg.norm(vec2))\n",
    "\n",
    "    #returns the resulting magnitude, if the direction has changed and what has happened to the vector\n",
    "\n",
    "    return \"The result magnitude is \" + str(mag_vec2) + \" which \" + mag_state + \". The direction has \" + dir_has_change + \" with the final vector \" + str(vec2) + \".\"\n",
    "\n",
    "alpha_magnitude(-2, [1, 2])"
   ]
  },
  {
   "cell_type": "code",
   "execution_count": null,
   "metadata": {},
   "outputs": [],
   "source": []
  }
 ],
 "metadata": {
  "kernelspec": {
   "name": "python388jvsc74a57bd0b1e21d487c014a4ee08b2c01296798d41267222f6e1ae8a0062bead66e07b9e9",
   "display_name": "Python 3.8.8 64-bit ('base': conda)"
  },
  "language_info": {
   "codemirror_mode": {
    "name": "ipython",
    "version": 3
   },
   "file_extension": ".py",
   "mimetype": "text/x-python",
   "name": "python",
   "nbconvert_exporter": "python",
   "pygments_lexer": "ipython3",
   "version": "3.8.8"
  }
 },
 "nbformat": 4,
 "nbformat_minor": 2
}