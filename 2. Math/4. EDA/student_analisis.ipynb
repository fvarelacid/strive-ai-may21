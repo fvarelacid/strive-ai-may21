{
 "cells": [
  {
   "cell_type": "markdown",
   "metadata": {},
   "source": [
    "# Student Analsis\n",
    "\n",
    "\n",
    "In this notebook I present to you data taken out of a real highschool. In this dataset we have a total of 16 variables and a single class. Most of the data is categorical, this means it is divided into a certain ammount of pre-defined categories. There also a few columns that have numerical data in the form of integers. In this notebook we will try to extract some key features in order to better understand the dataset and as part of the field of 'Data Analysis'."
   ]
  },
  {
   "cell_type": "markdown",
   "metadata": {},
   "source": [
    "## Step 0: \n",
    "### Load the data into a pandas dataframe\n",
    "\n",
    "How do you intend to do data analysis without loading the data????\n",
    "# ?"
   ]
  },
  {
   "cell_type": "code",
   "execution_count": 1,
   "metadata": {},
   "outputs": [
    {
     "name": "stdout",
     "output_type": "stream",
     "text": [
      "    gender NationalITy PlaceofBirth       StageID GradeID SectionID  \\\n",
      "0        M          KW       KuwaIT    lowerlevel    G-04         A   \n",
      "1        M          KW       KuwaIT    lowerlevel    G-04         A   \n",
      "2        M          KW       KuwaIT    lowerlevel    G-04         A   \n",
      "3        M          KW       KuwaIT    lowerlevel    G-04         A   \n",
      "4        M          KW       KuwaIT    lowerlevel    G-04         A   \n",
      "..     ...         ...          ...           ...     ...       ...   \n",
      "475      F      Jordan       Jordan  MiddleSchool    G-08         A   \n",
      "476      F      Jordan       Jordan  MiddleSchool    G-08         A   \n",
      "477      F      Jordan       Jordan  MiddleSchool    G-08         A   \n",
      "478      F      Jordan       Jordan  MiddleSchool    G-08         A   \n",
      "479      F      Jordan       Jordan  MiddleSchool    G-08         A   \n",
      "\n",
      "         Topic Semester Relation  raisedhands  VisITedResources  \\\n",
      "0           IT        F   Father           15                16   \n",
      "1           IT        F   Father           20                20   \n",
      "2           IT        F   Father           10                 7   \n",
      "3           IT        F   Father           30                25   \n",
      "4           IT        F   Father           40                50   \n",
      "..         ...      ...      ...          ...               ...   \n",
      "475  Chemistry        S   Father            5                 4   \n",
      "476    Geology        F   Father           50                77   \n",
      "477    Geology        S   Father           55                74   \n",
      "478    History        F   Father           30                17   \n",
      "479    History        S   Father           35                14   \n",
      "\n",
      "     AnnouncementsView  Discussion ParentAnsweringSurvey  \\\n",
      "0                    2          20                   Yes   \n",
      "1                    3          25                   Yes   \n",
      "2                    0          30                    No   \n",
      "3                    5          35                    No   \n",
      "4                   12          50                    No   \n",
      "..                 ...         ...                   ...   \n",
      "475                  5           8                    No   \n",
      "476                 14          28                    No   \n",
      "477                 25          29                    No   \n",
      "478                 14          57                    No   \n",
      "479                 23          62                    No   \n",
      "\n",
      "    ParentschoolSatisfaction StudentAbsenceDays Class  \n",
      "0                       Good            Under-7     M  \n",
      "1                       Good            Under-7     M  \n",
      "2                        Bad            Above-7     L  \n",
      "3                        Bad            Above-7     L  \n",
      "4                        Bad            Above-7     M  \n",
      "..                       ...                ...   ...  \n",
      "475                      Bad            Above-7     L  \n",
      "476                      Bad            Under-7     M  \n",
      "477                      Bad            Under-7     M  \n",
      "478                      Bad            Above-7     L  \n",
      "479                      Bad            Above-7     L  \n",
      "\n",
      "[480 rows x 17 columns]\n"
     ]
    }
   ],
   "source": [
    "import pandas as pd\n",
    "import numpy as np\n",
    "\n",
    "data = pd.read_csv('xAPI-Edu-Data.csv')\n",
    "\n",
    "print(data)"
   ]
  },
  {
   "cell_type": "markdown",
   "metadata": {},
   "source": [
    "## Step 1: \n",
    "### Print some elements from the dataset in order to take a quick look at the dataset\n",
    "\n",
    "Understanding the data you are working with is very important"
   ]
  },
  {
   "cell_type": "code",
   "execution_count": 3,
   "metadata": {},
   "outputs": [
    {
     "data": {
      "text/html": [
       "<div>\n",
       "<style scoped>\n",
       "    .dataframe tbody tr th:only-of-type {\n",
       "        vertical-align: middle;\n",
       "    }\n",
       "\n",
       "    .dataframe tbody tr th {\n",
       "        vertical-align: top;\n",
       "    }\n",
       "\n",
       "    .dataframe thead th {\n",
       "        text-align: right;\n",
       "    }\n",
       "</style>\n",
       "<table border=\"1\" class=\"dataframe\">\n",
       "  <thead>\n",
       "    <tr style=\"text-align: right;\">\n",
       "      <th></th>\n",
       "      <th>gender</th>\n",
       "      <th>NationalITy</th>\n",
       "      <th>PlaceofBirth</th>\n",
       "      <th>StageID</th>\n",
       "      <th>GradeID</th>\n",
       "      <th>SectionID</th>\n",
       "      <th>Topic</th>\n",
       "      <th>Semester</th>\n",
       "      <th>Relation</th>\n",
       "      <th>raisedhands</th>\n",
       "      <th>VisITedResources</th>\n",
       "      <th>AnnouncementsView</th>\n",
       "      <th>Discussion</th>\n",
       "      <th>ParentAnsweringSurvey</th>\n",
       "      <th>ParentschoolSatisfaction</th>\n",
       "      <th>StudentAbsenceDays</th>\n",
       "      <th>Class</th>\n",
       "    </tr>\n",
       "  </thead>\n",
       "  <tbody>\n",
       "    <tr>\n",
       "      <th>461</th>\n",
       "      <td>M</td>\n",
       "      <td>Iraq</td>\n",
       "      <td>Iraq</td>\n",
       "      <td>MiddleSchool</td>\n",
       "      <td>G-08</td>\n",
       "      <td>A</td>\n",
       "      <td>Geology</td>\n",
       "      <td>S</td>\n",
       "      <td>Father</td>\n",
       "      <td>71</td>\n",
       "      <td>81</td>\n",
       "      <td>83</td>\n",
       "      <td>72</td>\n",
       "      <td>Yes</td>\n",
       "      <td>Good</td>\n",
       "      <td>Above-7</td>\n",
       "      <td>M</td>\n",
       "    </tr>\n",
       "    <tr>\n",
       "      <th>27</th>\n",
       "      <td>M</td>\n",
       "      <td>KW</td>\n",
       "      <td>KuwaIT</td>\n",
       "      <td>MiddleSchool</td>\n",
       "      <td>G-08</td>\n",
       "      <td>A</td>\n",
       "      <td>Arabic</td>\n",
       "      <td>F</td>\n",
       "      <td>Father</td>\n",
       "      <td>25</td>\n",
       "      <td>15</td>\n",
       "      <td>12</td>\n",
       "      <td>33</td>\n",
       "      <td>No</td>\n",
       "      <td>Bad</td>\n",
       "      <td>Above-7</td>\n",
       "      <td>L</td>\n",
       "    </tr>\n",
       "    <tr>\n",
       "      <th>322</th>\n",
       "      <td>M</td>\n",
       "      <td>Jordan</td>\n",
       "      <td>Jordan</td>\n",
       "      <td>lowerlevel</td>\n",
       "      <td>G-02</td>\n",
       "      <td>A</td>\n",
       "      <td>French</td>\n",
       "      <td>F</td>\n",
       "      <td>Father</td>\n",
       "      <td>10</td>\n",
       "      <td>15</td>\n",
       "      <td>10</td>\n",
       "      <td>21</td>\n",
       "      <td>No</td>\n",
       "      <td>Bad</td>\n",
       "      <td>Above-7</td>\n",
       "      <td>L</td>\n",
       "    </tr>\n",
       "    <tr>\n",
       "      <th>147</th>\n",
       "      <td>F</td>\n",
       "      <td>lebanon</td>\n",
       "      <td>lebanon</td>\n",
       "      <td>MiddleSchool</td>\n",
       "      <td>G-07</td>\n",
       "      <td>A</td>\n",
       "      <td>Quran</td>\n",
       "      <td>S</td>\n",
       "      <td>Father</td>\n",
       "      <td>10</td>\n",
       "      <td>79</td>\n",
       "      <td>30</td>\n",
       "      <td>30</td>\n",
       "      <td>No</td>\n",
       "      <td>Bad</td>\n",
       "      <td>Under-7</td>\n",
       "      <td>M</td>\n",
       "    </tr>\n",
       "    <tr>\n",
       "      <th>464</th>\n",
       "      <td>F</td>\n",
       "      <td>Jordan</td>\n",
       "      <td>Jordan</td>\n",
       "      <td>MiddleSchool</td>\n",
       "      <td>G-08</td>\n",
       "      <td>A</td>\n",
       "      <td>Chemistry</td>\n",
       "      <td>F</td>\n",
       "      <td>Mum</td>\n",
       "      <td>85</td>\n",
       "      <td>99</td>\n",
       "      <td>42</td>\n",
       "      <td>90</td>\n",
       "      <td>Yes</td>\n",
       "      <td>Good</td>\n",
       "      <td>Under-7</td>\n",
       "      <td>H</td>\n",
       "    </tr>\n",
       "    <tr>\n",
       "      <th>40</th>\n",
       "      <td>F</td>\n",
       "      <td>KW</td>\n",
       "      <td>KuwaIT</td>\n",
       "      <td>MiddleSchool</td>\n",
       "      <td>G-07</td>\n",
       "      <td>A</td>\n",
       "      <td>IT</td>\n",
       "      <td>F</td>\n",
       "      <td>Father</td>\n",
       "      <td>14</td>\n",
       "      <td>13</td>\n",
       "      <td>3</td>\n",
       "      <td>70</td>\n",
       "      <td>No</td>\n",
       "      <td>Bad</td>\n",
       "      <td>Above-7</td>\n",
       "      <td>L</td>\n",
       "    </tr>\n",
       "    <tr>\n",
       "      <th>471</th>\n",
       "      <td>M</td>\n",
       "      <td>Palestine</td>\n",
       "      <td>Jordan</td>\n",
       "      <td>MiddleSchool</td>\n",
       "      <td>G-08</td>\n",
       "      <td>A</td>\n",
       "      <td>History</td>\n",
       "      <td>S</td>\n",
       "      <td>Father</td>\n",
       "      <td>78</td>\n",
       "      <td>82</td>\n",
       "      <td>78</td>\n",
       "      <td>53</td>\n",
       "      <td>Yes</td>\n",
       "      <td>Good</td>\n",
       "      <td>Under-7</td>\n",
       "      <td>M</td>\n",
       "    </tr>\n",
       "    <tr>\n",
       "      <th>124</th>\n",
       "      <td>M</td>\n",
       "      <td>KW</td>\n",
       "      <td>KuwaIT</td>\n",
       "      <td>lowerlevel</td>\n",
       "      <td>G-02</td>\n",
       "      <td>C</td>\n",
       "      <td>IT</td>\n",
       "      <td>F</td>\n",
       "      <td>Father</td>\n",
       "      <td>0</td>\n",
       "      <td>6</td>\n",
       "      <td>4</td>\n",
       "      <td>15</td>\n",
       "      <td>Yes</td>\n",
       "      <td>Bad</td>\n",
       "      <td>Under-7</td>\n",
       "      <td>L</td>\n",
       "    </tr>\n",
       "    <tr>\n",
       "      <th>160</th>\n",
       "      <td>F</td>\n",
       "      <td>Jordan</td>\n",
       "      <td>Jordan</td>\n",
       "      <td>MiddleSchool</td>\n",
       "      <td>G-07</td>\n",
       "      <td>B</td>\n",
       "      <td>Science</td>\n",
       "      <td>S</td>\n",
       "      <td>Mum</td>\n",
       "      <td>82</td>\n",
       "      <td>89</td>\n",
       "      <td>58</td>\n",
       "      <td>50</td>\n",
       "      <td>Yes</td>\n",
       "      <td>Good</td>\n",
       "      <td>Under-7</td>\n",
       "      <td>H</td>\n",
       "    </tr>\n",
       "    <tr>\n",
       "      <th>412</th>\n",
       "      <td>M</td>\n",
       "      <td>Palestine</td>\n",
       "      <td>Jordan</td>\n",
       "      <td>MiddleSchool</td>\n",
       "      <td>G-07</td>\n",
       "      <td>B</td>\n",
       "      <td>Biology</td>\n",
       "      <td>F</td>\n",
       "      <td>Father</td>\n",
       "      <td>78</td>\n",
       "      <td>80</td>\n",
       "      <td>66</td>\n",
       "      <td>51</td>\n",
       "      <td>Yes</td>\n",
       "      <td>Good</td>\n",
       "      <td>Under-7</td>\n",
       "      <td>M</td>\n",
       "    </tr>\n",
       "  </tbody>\n",
       "</table>\n",
       "</div>"
      ],
      "text/plain": [
       "    gender NationalITy PlaceofBirth       StageID GradeID SectionID  \\\n",
       "461      M        Iraq         Iraq  MiddleSchool    G-08         A   \n",
       "27       M          KW       KuwaIT  MiddleSchool    G-08         A   \n",
       "322      M      Jordan       Jordan    lowerlevel    G-02         A   \n",
       "147      F     lebanon      lebanon  MiddleSchool    G-07         A   \n",
       "464      F      Jordan       Jordan  MiddleSchool    G-08         A   \n",
       "40       F          KW       KuwaIT  MiddleSchool    G-07         A   \n",
       "471      M   Palestine       Jordan  MiddleSchool    G-08         A   \n",
       "124      M          KW       KuwaIT    lowerlevel    G-02         C   \n",
       "160      F      Jordan       Jordan  MiddleSchool    G-07         B   \n",
       "412      M   Palestine       Jordan  MiddleSchool    G-07         B   \n",
       "\n",
       "         Topic Semester Relation  raisedhands  VisITedResources  \\\n",
       "461    Geology        S   Father           71                81   \n",
       "27      Arabic        F   Father           25                15   \n",
       "322     French        F   Father           10                15   \n",
       "147      Quran        S   Father           10                79   \n",
       "464  Chemistry        F      Mum           85                99   \n",
       "40          IT        F   Father           14                13   \n",
       "471    History        S   Father           78                82   \n",
       "124         IT        F   Father            0                 6   \n",
       "160    Science        S      Mum           82                89   \n",
       "412    Biology        F   Father           78                80   \n",
       "\n",
       "     AnnouncementsView  Discussion ParentAnsweringSurvey  \\\n",
       "461                 83          72                   Yes   \n",
       "27                  12          33                    No   \n",
       "322                 10          21                    No   \n",
       "147                 30          30                    No   \n",
       "464                 42          90                   Yes   \n",
       "40                   3          70                    No   \n",
       "471                 78          53                   Yes   \n",
       "124                  4          15                   Yes   \n",
       "160                 58          50                   Yes   \n",
       "412                 66          51                   Yes   \n",
       "\n",
       "    ParentschoolSatisfaction StudentAbsenceDays Class  \n",
       "461                     Good            Above-7     M  \n",
       "27                       Bad            Above-7     L  \n",
       "322                      Bad            Above-7     L  \n",
       "147                      Bad            Under-7     M  \n",
       "464                     Good            Under-7     H  \n",
       "40                       Bad            Above-7     L  \n",
       "471                     Good            Under-7     M  \n",
       "124                      Bad            Under-7     L  \n",
       "160                     Good            Under-7     H  \n",
       "412                     Good            Under-7     M  "
      ]
     },
     "execution_count": 3,
     "metadata": {},
     "output_type": "execute_result"
    }
   ],
   "source": [
    "# Print 10 e random elements from the dataset.\n",
    "\n",
    "data.sample(n = 10)"
   ]
  },
  {
   "cell_type": "markdown",
   "metadata": {},
   "source": [
    "## Step 2:\n",
    "### Check for missing or null values\n",
    "\n",
    "We should always check for missing values as part of getting familiarized with our data.\n"
   ]
  },
  {
   "cell_type": "code",
   "execution_count": 5,
   "metadata": {},
   "outputs": [
    {
     "data": {
      "text/plain": [
       "False"
      ]
     },
     "execution_count": 5,
     "metadata": {},
     "output_type": "execute_result"
    }
   ],
   "source": [
    "# check for null values\n",
    "\n",
    "data.isnull().values.any()"
   ]
  },
  {
   "cell_type": "markdown",
   "metadata": {},
   "source": [
    "## Step 3:\n",
    "### which is the column with the highest ammount of VARIABILITY?\n",
    "\n",
    "Time to start extracting info.\n"
   ]
  },
  {
   "cell_type": "code",
   "execution_count": 18,
   "metadata": {},
   "outputs": [
    {
     "name": "stdout",
     "output_type": "stream",
     "text": [
      "gender\n",
      "NationalITy\n",
      "PlaceofBirth\n",
      "StageID\n",
      "GradeID\n",
      "SectionID\n",
      "Topic\n",
      "Semester\n",
      "Relation\n",
      "raisedhands\n",
      "VisITedResources\n",
      "AnnouncementsView\n",
      "Discussion\n",
      "ParentAnsweringSurvey\n",
      "ParentschoolSatisfaction\n",
      "StudentAbsenceDays\n"
     ]
    },
    {
     "data": {
      "text/plain": [
       "2"
      ]
     },
     "execution_count": 18,
     "metadata": {},
     "output_type": "execute_result"
    }
   ],
   "source": [
    "# Check every column EXCEPT the one for the class and find out which one has the highest variability\n",
    "\n",
    "sigma = 0\n",
    "\n",
    "for column_name, column_series in data.iloc[:, :-1].iteritems():\n",
    "    different_data = column_series[column_name].nunique()\n",
    "    print \n",
    "\n",
    "data['gender'].nunique()\n",
    "\n"
   ]
  },
  {
   "cell_type": "markdown",
   "metadata": {},
   "source": [
    "## Step 4:\n",
    "### Find out for each variable their skewness and plot 5 of them.\n",
    "\n",
    "Understanding the biases of data can always give us some key information\n"
   ]
  },
  {
   "cell_type": "code",
   "execution_count": 2,
   "metadata": {},
   "outputs": [],
   "source": [
    "# Select 5 columns and find out their bias\n",
    "\n"
   ]
  },
  {
   "cell_type": "markdown",
   "metadata": {},
   "source": [
    "## Step 5:\n",
    "### Find out for all the variables which is their correlation with the class\n",
    "\n",
    "Sometimes we need to reduce the ammount of features we feed the model in order to make it more lighweight, so we either select the best ones or take out the most useless ones."
   ]
  },
  {
   "cell_type": "code",
   "execution_count": null,
   "metadata": {},
   "outputs": [],
   "source": [
    "# Select the top 4 most correlated and put them in a different dataset"
   ]
  },
  {
   "cell_type": "code",
   "execution_count": null,
   "metadata": {},
   "outputs": [],
   "source": [
    "# Select the top 4 least correlated and create a new dataset without them"
   ]
  },
  {
   "cell_type": "markdown",
   "metadata": {},
   "source": [
    "## Step 6:\n",
    "### Visualize the correlation between the previously selected 4 most correlated variables with the class\n",
    "\n",
    "Lets see if those are correlated too.\n"
   ]
  },
  {
   "cell_type": "code",
   "execution_count": null,
   "metadata": {},
   "outputs": [],
   "source": [
    "# Plot the correlation among themself for the previous 4 variables."
   ]
  },
  {
   "cell_type": "markdown",
   "metadata": {},
   "source": [
    "## Step 7:\n",
    "### For the previoys 4 variables plot them AGAINST the class\n"
   ]
  },
  {
   "cell_type": "code",
   "execution_count": 3,
   "metadata": {},
   "outputs": [],
   "source": [
    "# make 4 plot where you plot each of the variables with the class"
   ]
  },
  {
   "cell_type": "markdown",
   "metadata": {},
   "source": [
    "## Step 8:\n",
    "### Probability time, if I know a student had less than 7 absent days what is the probability of him being classified as L"
   ]
  },
  {
   "cell_type": "code",
   "execution_count": null,
   "metadata": {},
   "outputs": [],
   "source": [
    "# compute the probability"
   ]
  },
  {
   "cell_type": "markdown",
   "metadata": {},
   "source": [
    "## Step 8:\n",
    "### Probability time, if I know a student had less than 7 absent days what is the probability of him being classified as m or higher, using the previous calculation"
   ]
  },
  {
   "cell_type": "code",
   "execution_count": null,
   "metadata": {},
   "outputs": [],
   "source": [
    "# Looking at step seven extrapolate from it the probability of a student being classified as M or H"
   ]
  },
  {
   "cell_type": "markdown",
   "metadata": {},
   "source": [
    "## Step 9:\n",
    "### Probability time, knowing a student was classified as H, what is the probability of him having raised the hand more than 10 times"
   ]
  },
  {
   "cell_type": "code",
   "execution_count": null,
   "metadata": {},
   "outputs": [],
   "source": [
    "# Bayes time"
   ]
  },
  {
   "cell_type": "markdown",
   "metadata": {},
   "source": [
    "## Step 10:\n",
    "### Free time, if I was the principal of the school what plots and probabilities would you show me to help me accept only M and H students."
   ]
  }
 ],
 "metadata": {
  "interpreter": {
   "hash": "a9e5cb5e92a0c8c80ed378be552d13fd6c03783cc7ea2361bcce6013f41c7a83"
  },
  "kernelspec": {
   "display_name": "Python 3.8.10 64-bit ('myenv': conda)",
   "name": "python3"
  },
  "language_info": {
   "codemirror_mode": {
    "name": "ipython",
    "version": 3
   },
   "file_extension": ".py",
   "mimetype": "text/x-python",
   "name": "python",
   "nbconvert_exporter": "python",
   "pygments_lexer": "ipython3",
   "version": "3.8.10"
  },
  "varInspector": {
   "cols": {
    "lenName": 16,
    "lenType": 16,
    "lenVar": 40
   },
   "kernels_config": {
    "python": {
     "delete_cmd_postfix": "",
     "delete_cmd_prefix": "del ",
     "library": "var_list.py",
     "varRefreshCmd": "print(var_dic_list())"
    },
    "r": {
     "delete_cmd_postfix": ") ",
     "delete_cmd_prefix": "rm(",
     "library": "var_list.r",
     "varRefreshCmd": "cat(var_dic_list()) "
    }
   },
   "types_to_exclude": [
    "module",
    "function",
    "builtin_function_or_method",
    "instance",
    "_Feature"
   ],
   "window_display": false
  }
 },
 "nbformat": 4,
 "nbformat_minor": 2
}