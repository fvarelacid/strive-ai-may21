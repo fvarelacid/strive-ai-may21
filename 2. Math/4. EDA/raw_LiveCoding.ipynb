{
 "cells": [
  {
   "cell_type": "code",
   "execution_count": 2,
   "id": "architectural-progressive",
   "metadata": {
    "ExecuteTime": {
     "end_time": "2021-06-16T07:10:25.039123Z",
     "start_time": "2021-06-16T07:10:24.799493Z"
    }
   },
   "outputs": [],
   "source": [
    "import pandas as pd\n",
    "import numpy as np\n",
    "import matplotlib.pyplot as plt"
   ]
  },
  {
   "cell_type": "markdown",
   "id": "unnecessary-holly",
   "metadata": {},
   "source": [
    "https://github.com/Swetha14/LTFS---Loan-Default-Challenge/blob/master/train_sample.zip"
   ]
  },
  {
   "cell_type": "code",
   "execution_count": 4,
   "id": "ethical-vehicle",
   "metadata": {
    "ExecuteTime": {
     "end_time": "2021-06-16T07:15:28.415807Z",
     "start_time": "2021-06-16T07:15:28.003815Z"
    }
   },
   "outputs": [],
   "source": [
    "df = pd.read_csv(\"data/train_sample.csv\")"
   ]
  },
  {
   "cell_type": "code",
   "execution_count": 7,
   "id": "bearing-mandate",
   "metadata": {
    "ExecuteTime": {
     "end_time": "2021-06-16T07:16:04.848288Z",
     "start_time": "2021-06-16T07:16:04.813276Z"
    }
   },
   "outputs": [
    {
     "data": {
      "text/html": [
       "<div>\n",
       "<style scoped>\n",
       "    .dataframe tbody tr th:only-of-type {\n",
       "        vertical-align: middle;\n",
       "    }\n",
       "\n",
       "    .dataframe tbody tr th {\n",
       "        vertical-align: top;\n",
       "    }\n",
       "\n",
       "    .dataframe thead th {\n",
       "        text-align: right;\n",
       "    }\n",
       "</style>\n",
       "<table border=\"1\" class=\"dataframe\">\n",
       "  <thead>\n",
       "    <tr style=\"text-align: right;\">\n",
       "      <th></th>\n",
       "      <th>UniqueID</th>\n",
       "      <th>disbursed_amount</th>\n",
       "      <th>asset_cost</th>\n",
       "      <th>ltv</th>\n",
       "      <th>branch_id</th>\n",
       "      <th>supplier_id</th>\n",
       "      <th>manufacturer_id</th>\n",
       "      <th>Current_pincode_ID</th>\n",
       "      <th>Date.of.Birth</th>\n",
       "      <th>Employment.Type</th>\n",
       "      <th>...</th>\n",
       "      <th>PERFORM_CNS.SCORE</th>\n",
       "      <th>PERFORM_CNS.SCORE.DESCRIPTION</th>\n",
       "      <th>PRI.NO.OF.ACCTS</th>\n",
       "      <th>PRI.ACTIVE.ACCTS</th>\n",
       "      <th>PRI.OVERDUE.ACCTS</th>\n",
       "      <th>PRI.CURRENT.BALANCE</th>\n",
       "      <th>PRI.SANCTIONED.AMOUNT</th>\n",
       "      <th>PRI.DISBURSED.AMOUNT</th>\n",
       "      <th>NO.OF_INQUIRIES</th>\n",
       "      <th>loan_default</th>\n",
       "    </tr>\n",
       "  </thead>\n",
       "  <tbody>\n",
       "    <tr>\n",
       "      <th>0</th>\n",
       "      <td>420825</td>\n",
       "      <td>50578</td>\n",
       "      <td>58400</td>\n",
       "      <td>89.55</td>\n",
       "      <td>67</td>\n",
       "      <td>22807</td>\n",
       "      <td>45</td>\n",
       "      <td>1441</td>\n",
       "      <td>1/1/1984</td>\n",
       "      <td>Salaried</td>\n",
       "      <td>...</td>\n",
       "      <td>0</td>\n",
       "      <td>No Bureau History Available</td>\n",
       "      <td>0</td>\n",
       "      <td>0</td>\n",
       "      <td>0</td>\n",
       "      <td>0</td>\n",
       "      <td>0</td>\n",
       "      <td>0</td>\n",
       "      <td>0</td>\n",
       "      <td>0</td>\n",
       "    </tr>\n",
       "    <tr>\n",
       "      <th>1</th>\n",
       "      <td>537409</td>\n",
       "      <td>47145</td>\n",
       "      <td>65550</td>\n",
       "      <td>73.23</td>\n",
       "      <td>67</td>\n",
       "      <td>22807</td>\n",
       "      <td>45</td>\n",
       "      <td>1502</td>\n",
       "      <td>31-07-85</td>\n",
       "      <td>Self employed</td>\n",
       "      <td>...</td>\n",
       "      <td>598</td>\n",
       "      <td>I-Medium Risk</td>\n",
       "      <td>1</td>\n",
       "      <td>1</td>\n",
       "      <td>1</td>\n",
       "      <td>27600</td>\n",
       "      <td>50200</td>\n",
       "      <td>50200</td>\n",
       "      <td>0</td>\n",
       "      <td>1</td>\n",
       "    </tr>\n",
       "    <tr>\n",
       "      <th>2</th>\n",
       "      <td>417566</td>\n",
       "      <td>53278</td>\n",
       "      <td>61360</td>\n",
       "      <td>89.63</td>\n",
       "      <td>67</td>\n",
       "      <td>22807</td>\n",
       "      <td>45</td>\n",
       "      <td>1497</td>\n",
       "      <td>24-08-85</td>\n",
       "      <td>Self employed</td>\n",
       "      <td>...</td>\n",
       "      <td>0</td>\n",
       "      <td>No Bureau History Available</td>\n",
       "      <td>0</td>\n",
       "      <td>0</td>\n",
       "      <td>0</td>\n",
       "      <td>0</td>\n",
       "      <td>0</td>\n",
       "      <td>0</td>\n",
       "      <td>0</td>\n",
       "      <td>0</td>\n",
       "    </tr>\n",
       "    <tr>\n",
       "      <th>3</th>\n",
       "      <td>624493</td>\n",
       "      <td>57513</td>\n",
       "      <td>66113</td>\n",
       "      <td>88.48</td>\n",
       "      <td>67</td>\n",
       "      <td>22807</td>\n",
       "      <td>45</td>\n",
       "      <td>1501</td>\n",
       "      <td>30-12-93</td>\n",
       "      <td>Self employed</td>\n",
       "      <td>...</td>\n",
       "      <td>305</td>\n",
       "      <td>L-Very High Risk</td>\n",
       "      <td>3</td>\n",
       "      <td>0</td>\n",
       "      <td>0</td>\n",
       "      <td>0</td>\n",
       "      <td>0</td>\n",
       "      <td>0</td>\n",
       "      <td>1</td>\n",
       "      <td>1</td>\n",
       "    </tr>\n",
       "    <tr>\n",
       "      <th>4</th>\n",
       "      <td>539055</td>\n",
       "      <td>52378</td>\n",
       "      <td>60300</td>\n",
       "      <td>88.39</td>\n",
       "      <td>67</td>\n",
       "      <td>22807</td>\n",
       "      <td>45</td>\n",
       "      <td>1495</td>\n",
       "      <td>9/12/1977</td>\n",
       "      <td>Self employed</td>\n",
       "      <td>...</td>\n",
       "      <td>0</td>\n",
       "      <td>No Bureau History Available</td>\n",
       "      <td>0</td>\n",
       "      <td>0</td>\n",
       "      <td>0</td>\n",
       "      <td>0</td>\n",
       "      <td>0</td>\n",
       "      <td>0</td>\n",
       "      <td>1</td>\n",
       "      <td>1</td>\n",
       "    </tr>\n",
       "    <tr>\n",
       "      <th>5</th>\n",
       "      <td>518279</td>\n",
       "      <td>54513</td>\n",
       "      <td>61900</td>\n",
       "      <td>89.66</td>\n",
       "      <td>67</td>\n",
       "      <td>22807</td>\n",
       "      <td>45</td>\n",
       "      <td>1501</td>\n",
       "      <td>8/9/1990</td>\n",
       "      <td>Self employed</td>\n",
       "      <td>...</td>\n",
       "      <td>825</td>\n",
       "      <td>A-Very Low Risk</td>\n",
       "      <td>2</td>\n",
       "      <td>0</td>\n",
       "      <td>0</td>\n",
       "      <td>0</td>\n",
       "      <td>0</td>\n",
       "      <td>0</td>\n",
       "      <td>0</td>\n",
       "      <td>0</td>\n",
       "    </tr>\n",
       "    <tr>\n",
       "      <th>6</th>\n",
       "      <td>529269</td>\n",
       "      <td>46349</td>\n",
       "      <td>61500</td>\n",
       "      <td>76.42</td>\n",
       "      <td>67</td>\n",
       "      <td>22807</td>\n",
       "      <td>45</td>\n",
       "      <td>1502</td>\n",
       "      <td>1/6/1988</td>\n",
       "      <td>Salaried</td>\n",
       "      <td>...</td>\n",
       "      <td>0</td>\n",
       "      <td>No Bureau History Available</td>\n",
       "      <td>0</td>\n",
       "      <td>0</td>\n",
       "      <td>0</td>\n",
       "      <td>0</td>\n",
       "      <td>0</td>\n",
       "      <td>0</td>\n",
       "      <td>0</td>\n",
       "      <td>0</td>\n",
       "    </tr>\n",
       "    <tr>\n",
       "      <th>7</th>\n",
       "      <td>510278</td>\n",
       "      <td>43894</td>\n",
       "      <td>61900</td>\n",
       "      <td>71.89</td>\n",
       "      <td>67</td>\n",
       "      <td>22807</td>\n",
       "      <td>45</td>\n",
       "      <td>1501</td>\n",
       "      <td>4/10/1989</td>\n",
       "      <td>Salaried</td>\n",
       "      <td>...</td>\n",
       "      <td>17</td>\n",
       "      <td>Not Scored: Not Enough Info available on the c...</td>\n",
       "      <td>1</td>\n",
       "      <td>1</td>\n",
       "      <td>0</td>\n",
       "      <td>72879</td>\n",
       "      <td>74500</td>\n",
       "      <td>74500</td>\n",
       "      <td>0</td>\n",
       "      <td>0</td>\n",
       "    </tr>\n",
       "    <tr>\n",
       "      <th>8</th>\n",
       "      <td>490213</td>\n",
       "      <td>53713</td>\n",
       "      <td>61973</td>\n",
       "      <td>89.56</td>\n",
       "      <td>67</td>\n",
       "      <td>22807</td>\n",
       "      <td>45</td>\n",
       "      <td>1497</td>\n",
       "      <td>15-11-91</td>\n",
       "      <td>Self employed</td>\n",
       "      <td>...</td>\n",
       "      <td>718</td>\n",
       "      <td>D-Very Low Risk</td>\n",
       "      <td>1</td>\n",
       "      <td>1</td>\n",
       "      <td>0</td>\n",
       "      <td>-41</td>\n",
       "      <td>365384</td>\n",
       "      <td>365384</td>\n",
       "      <td>1</td>\n",
       "      <td>0</td>\n",
       "    </tr>\n",
       "    <tr>\n",
       "      <th>9</th>\n",
       "      <td>510980</td>\n",
       "      <td>52603</td>\n",
       "      <td>61300</td>\n",
       "      <td>86.95</td>\n",
       "      <td>67</td>\n",
       "      <td>22807</td>\n",
       "      <td>45</td>\n",
       "      <td>1492</td>\n",
       "      <td>1/6/1968</td>\n",
       "      <td>Salaried</td>\n",
       "      <td>...</td>\n",
       "      <td>818</td>\n",
       "      <td>A-Very Low Risk</td>\n",
       "      <td>1</td>\n",
       "      <td>0</td>\n",
       "      <td>0</td>\n",
       "      <td>0</td>\n",
       "      <td>0</td>\n",
       "      <td>0</td>\n",
       "      <td>0</td>\n",
       "      <td>0</td>\n",
       "    </tr>\n",
       "  </tbody>\n",
       "</table>\n",
       "<p>10 rows × 29 columns</p>\n",
       "</div>"
      ],
      "text/plain": [
       "   UniqueID  disbursed_amount  asset_cost    ltv  branch_id  supplier_id  \\\n",
       "0    420825             50578       58400  89.55         67        22807   \n",
       "1    537409             47145       65550  73.23         67        22807   \n",
       "2    417566             53278       61360  89.63         67        22807   \n",
       "3    624493             57513       66113  88.48         67        22807   \n",
       "4    539055             52378       60300  88.39         67        22807   \n",
       "5    518279             54513       61900  89.66         67        22807   \n",
       "6    529269             46349       61500  76.42         67        22807   \n",
       "7    510278             43894       61900  71.89         67        22807   \n",
       "8    490213             53713       61973  89.56         67        22807   \n",
       "9    510980             52603       61300  86.95         67        22807   \n",
       "\n",
       "   manufacturer_id  Current_pincode_ID Date.of.Birth Employment.Type  ...  \\\n",
       "0               45                1441      1/1/1984        Salaried  ...   \n",
       "1               45                1502      31-07-85   Self employed  ...   \n",
       "2               45                1497      24-08-85   Self employed  ...   \n",
       "3               45                1501      30-12-93   Self employed  ...   \n",
       "4               45                1495     9/12/1977   Self employed  ...   \n",
       "5               45                1501      8/9/1990   Self employed  ...   \n",
       "6               45                1502      1/6/1988        Salaried  ...   \n",
       "7               45                1501     4/10/1989        Salaried  ...   \n",
       "8               45                1497      15-11-91   Self employed  ...   \n",
       "9               45                1492      1/6/1968        Salaried  ...   \n",
       "\n",
       "  PERFORM_CNS.SCORE                      PERFORM_CNS.SCORE.DESCRIPTION  \\\n",
       "0                 0                        No Bureau History Available   \n",
       "1               598                                      I-Medium Risk   \n",
       "2                 0                        No Bureau History Available   \n",
       "3               305                                   L-Very High Risk   \n",
       "4                 0                        No Bureau History Available   \n",
       "5               825                                    A-Very Low Risk   \n",
       "6                 0                        No Bureau History Available   \n",
       "7                17  Not Scored: Not Enough Info available on the c...   \n",
       "8               718                                    D-Very Low Risk   \n",
       "9               818                                    A-Very Low Risk   \n",
       "\n",
       "   PRI.NO.OF.ACCTS  PRI.ACTIVE.ACCTS  PRI.OVERDUE.ACCTS  PRI.CURRENT.BALANCE  \\\n",
       "0                0                 0                  0                    0   \n",
       "1                1                 1                  1                27600   \n",
       "2                0                 0                  0                    0   \n",
       "3                3                 0                  0                    0   \n",
       "4                0                 0                  0                    0   \n",
       "5                2                 0                  0                    0   \n",
       "6                0                 0                  0                    0   \n",
       "7                1                 1                  0                72879   \n",
       "8                1                 1                  0                  -41   \n",
       "9                1                 0                  0                    0   \n",
       "\n",
       "   PRI.SANCTIONED.AMOUNT  PRI.DISBURSED.AMOUNT  NO.OF_INQUIRIES  loan_default  \n",
       "0                      0                     0                0             0  \n",
       "1                  50200                 50200                0             1  \n",
       "2                      0                     0                0             0  \n",
       "3                      0                     0                1             1  \n",
       "4                      0                     0                1             1  \n",
       "5                      0                     0                0             0  \n",
       "6                      0                     0                0             0  \n",
       "7                  74500                 74500                0             0  \n",
       "8                 365384                365384                1             0  \n",
       "9                      0                     0                0             0  \n",
       "\n",
       "[10 rows x 29 columns]"
      ]
     },
     "execution_count": 7,
     "metadata": {},
     "output_type": "execute_result"
    }
   ],
   "source": [
    "df.head(10)"
   ]
  },
  {
   "cell_type": "code",
   "execution_count": 9,
   "id": "negative-empire",
   "metadata": {
    "ExecuteTime": {
     "end_time": "2021-06-16T07:16:44.018785Z",
     "start_time": "2021-06-16T07:16:43.987766Z"
    }
   },
   "outputs": [
    {
     "data": {
      "text/html": [
       "<div>\n",
       "<style scoped>\n",
       "    .dataframe tbody tr th:only-of-type {\n",
       "        vertical-align: middle;\n",
       "    }\n",
       "\n",
       "    .dataframe tbody tr th {\n",
       "        vertical-align: top;\n",
       "    }\n",
       "\n",
       "    .dataframe thead th {\n",
       "        text-align: right;\n",
       "    }\n",
       "</style>\n",
       "<table border=\"1\" class=\"dataframe\">\n",
       "  <thead>\n",
       "    <tr style=\"text-align: right;\">\n",
       "      <th></th>\n",
       "      <th>UniqueID</th>\n",
       "      <th>disbursed_amount</th>\n",
       "      <th>asset_cost</th>\n",
       "      <th>ltv</th>\n",
       "      <th>branch_id</th>\n",
       "      <th>supplier_id</th>\n",
       "      <th>manufacturer_id</th>\n",
       "      <th>Current_pincode_ID</th>\n",
       "      <th>Date.of.Birth</th>\n",
       "      <th>Employment.Type</th>\n",
       "      <th>...</th>\n",
       "      <th>PERFORM_CNS.SCORE</th>\n",
       "      <th>PERFORM_CNS.SCORE.DESCRIPTION</th>\n",
       "      <th>PRI.NO.OF.ACCTS</th>\n",
       "      <th>PRI.ACTIVE.ACCTS</th>\n",
       "      <th>PRI.OVERDUE.ACCTS</th>\n",
       "      <th>PRI.CURRENT.BALANCE</th>\n",
       "      <th>PRI.SANCTIONED.AMOUNT</th>\n",
       "      <th>PRI.DISBURSED.AMOUNT</th>\n",
       "      <th>NO.OF_INQUIRIES</th>\n",
       "      <th>loan_default</th>\n",
       "    </tr>\n",
       "  </thead>\n",
       "  <tbody>\n",
       "    <tr>\n",
       "      <th>233144</th>\n",
       "      <td>613161</td>\n",
       "      <td>56059</td>\n",
       "      <td>69001</td>\n",
       "      <td>83.04</td>\n",
       "      <td>34</td>\n",
       "      <td>23024</td>\n",
       "      <td>86</td>\n",
       "      <td>1044</td>\n",
       "      <td>15-06-63</td>\n",
       "      <td>Salaried</td>\n",
       "      <td>...</td>\n",
       "      <td>0</td>\n",
       "      <td>No Bureau History Available</td>\n",
       "      <td>0</td>\n",
       "      <td>0</td>\n",
       "      <td>0</td>\n",
       "      <td>0</td>\n",
       "      <td>0</td>\n",
       "      <td>0</td>\n",
       "      <td>0</td>\n",
       "      <td>0</td>\n",
       "    </tr>\n",
       "    <tr>\n",
       "      <th>233145</th>\n",
       "      <td>606146</td>\n",
       "      <td>49803</td>\n",
       "      <td>66973</td>\n",
       "      <td>76.15</td>\n",
       "      <td>34</td>\n",
       "      <td>21081</td>\n",
       "      <td>45</td>\n",
       "      <td>1051</td>\n",
       "      <td>23-12-85</td>\n",
       "      <td>Self employed</td>\n",
       "      <td>...</td>\n",
       "      <td>690</td>\n",
       "      <td>E-Low Risk</td>\n",
       "      <td>7</td>\n",
       "      <td>4</td>\n",
       "      <td>0</td>\n",
       "      <td>13064</td>\n",
       "      <td>85629</td>\n",
       "      <td>80226</td>\n",
       "      <td>1</td>\n",
       "      <td>0</td>\n",
       "    </tr>\n",
       "    <tr>\n",
       "      <th>233146</th>\n",
       "      <td>622612</td>\n",
       "      <td>38439</td>\n",
       "      <td>52965</td>\n",
       "      <td>74.58</td>\n",
       "      <td>34</td>\n",
       "      <td>20700</td>\n",
       "      <td>48</td>\n",
       "      <td>1051</td>\n",
       "      <td>23-07-82</td>\n",
       "      <td>Self employed</td>\n",
       "      <td>...</td>\n",
       "      <td>738</td>\n",
       "      <td>C-Very Low Risk</td>\n",
       "      <td>2</td>\n",
       "      <td>2</td>\n",
       "      <td>0</td>\n",
       "      <td>7001</td>\n",
       "      <td>14839</td>\n",
       "      <td>14839</td>\n",
       "      <td>0</td>\n",
       "      <td>0</td>\n",
       "    </tr>\n",
       "    <tr>\n",
       "      <th>233147</th>\n",
       "      <td>645697</td>\n",
       "      <td>72623</td>\n",
       "      <td>105405</td>\n",
       "      <td>69.73</td>\n",
       "      <td>34</td>\n",
       "      <td>20700</td>\n",
       "      <td>48</td>\n",
       "      <td>1051</td>\n",
       "      <td>19-06-89</td>\n",
       "      <td>Salaried</td>\n",
       "      <td>...</td>\n",
       "      <td>755</td>\n",
       "      <td>C-Very Low Risk</td>\n",
       "      <td>4</td>\n",
       "      <td>4</td>\n",
       "      <td>0</td>\n",
       "      <td>201422</td>\n",
       "      <td>276624</td>\n",
       "      <td>237977</td>\n",
       "      <td>0</td>\n",
       "      <td>0</td>\n",
       "    </tr>\n",
       "    <tr>\n",
       "      <th>233148</th>\n",
       "      <td>613494</td>\n",
       "      <td>42894</td>\n",
       "      <td>60334</td>\n",
       "      <td>72.93</td>\n",
       "      <td>34</td>\n",
       "      <td>20700</td>\n",
       "      <td>48</td>\n",
       "      <td>1051</td>\n",
       "      <td>8/7/1993</td>\n",
       "      <td>Salaried</td>\n",
       "      <td>...</td>\n",
       "      <td>0</td>\n",
       "      <td>No Bureau History Available</td>\n",
       "      <td>0</td>\n",
       "      <td>0</td>\n",
       "      <td>0</td>\n",
       "      <td>0</td>\n",
       "      <td>0</td>\n",
       "      <td>0</td>\n",
       "      <td>0</td>\n",
       "      <td>0</td>\n",
       "    </tr>\n",
       "    <tr>\n",
       "      <th>233149</th>\n",
       "      <td>626432</td>\n",
       "      <td>63213</td>\n",
       "      <td>105405</td>\n",
       "      <td>60.72</td>\n",
       "      <td>34</td>\n",
       "      <td>20700</td>\n",
       "      <td>48</td>\n",
       "      <td>1050</td>\n",
       "      <td>1/8/1988</td>\n",
       "      <td>Salaried</td>\n",
       "      <td>...</td>\n",
       "      <td>735</td>\n",
       "      <td>D-Very Low Risk</td>\n",
       "      <td>4</td>\n",
       "      <td>3</td>\n",
       "      <td>0</td>\n",
       "      <td>390443</td>\n",
       "      <td>416133</td>\n",
       "      <td>416133</td>\n",
       "      <td>0</td>\n",
       "      <td>0</td>\n",
       "    </tr>\n",
       "    <tr>\n",
       "      <th>233150</th>\n",
       "      <td>606141</td>\n",
       "      <td>73651</td>\n",
       "      <td>100600</td>\n",
       "      <td>74.95</td>\n",
       "      <td>34</td>\n",
       "      <td>23775</td>\n",
       "      <td>51</td>\n",
       "      <td>990</td>\n",
       "      <td>5/12/1988</td>\n",
       "      <td>Self employed</td>\n",
       "      <td>...</td>\n",
       "      <td>825</td>\n",
       "      <td>A-Very Low Risk</td>\n",
       "      <td>1</td>\n",
       "      <td>0</td>\n",
       "      <td>0</td>\n",
       "      <td>0</td>\n",
       "      <td>0</td>\n",
       "      <td>0</td>\n",
       "      <td>0</td>\n",
       "      <td>0</td>\n",
       "    </tr>\n",
       "    <tr>\n",
       "      <th>233151</th>\n",
       "      <td>613658</td>\n",
       "      <td>33484</td>\n",
       "      <td>71212</td>\n",
       "      <td>48.45</td>\n",
       "      <td>77</td>\n",
       "      <td>22186</td>\n",
       "      <td>86</td>\n",
       "      <td>2299</td>\n",
       "      <td>1/6/1976</td>\n",
       "      <td>Salaried</td>\n",
       "      <td>...</td>\n",
       "      <td>0</td>\n",
       "      <td>No Bureau History Available</td>\n",
       "      <td>0</td>\n",
       "      <td>0</td>\n",
       "      <td>0</td>\n",
       "      <td>0</td>\n",
       "      <td>0</td>\n",
       "      <td>0</td>\n",
       "      <td>0</td>\n",
       "      <td>0</td>\n",
       "    </tr>\n",
       "    <tr>\n",
       "      <th>233152</th>\n",
       "      <td>548084</td>\n",
       "      <td>34259</td>\n",
       "      <td>73286</td>\n",
       "      <td>49.10</td>\n",
       "      <td>77</td>\n",
       "      <td>22186</td>\n",
       "      <td>86</td>\n",
       "      <td>2299</td>\n",
       "      <td>26-03-94</td>\n",
       "      <td>Salaried</td>\n",
       "      <td>...</td>\n",
       "      <td>0</td>\n",
       "      <td>No Bureau History Available</td>\n",
       "      <td>0</td>\n",
       "      <td>0</td>\n",
       "      <td>0</td>\n",
       "      <td>0</td>\n",
       "      <td>0</td>\n",
       "      <td>0</td>\n",
       "      <td>0</td>\n",
       "      <td>0</td>\n",
       "    </tr>\n",
       "    <tr>\n",
       "      <th>233153</th>\n",
       "      <td>630213</td>\n",
       "      <td>75751</td>\n",
       "      <td>116009</td>\n",
       "      <td>66.81</td>\n",
       "      <td>77</td>\n",
       "      <td>22186</td>\n",
       "      <td>86</td>\n",
       "      <td>2299</td>\n",
       "      <td>18-02-84</td>\n",
       "      <td>Salaried</td>\n",
       "      <td>...</td>\n",
       "      <td>0</td>\n",
       "      <td>No Bureau History Available</td>\n",
       "      <td>0</td>\n",
       "      <td>0</td>\n",
       "      <td>0</td>\n",
       "      <td>0</td>\n",
       "      <td>0</td>\n",
       "      <td>0</td>\n",
       "      <td>0</td>\n",
       "      <td>0</td>\n",
       "    </tr>\n",
       "  </tbody>\n",
       "</table>\n",
       "<p>10 rows × 29 columns</p>\n",
       "</div>"
      ],
      "text/plain": [
       "        UniqueID  disbursed_amount  asset_cost    ltv  branch_id  supplier_id  \\\n",
       "233144    613161             56059       69001  83.04         34        23024   \n",
       "233145    606146             49803       66973  76.15         34        21081   \n",
       "233146    622612             38439       52965  74.58         34        20700   \n",
       "233147    645697             72623      105405  69.73         34        20700   \n",
       "233148    613494             42894       60334  72.93         34        20700   \n",
       "233149    626432             63213      105405  60.72         34        20700   \n",
       "233150    606141             73651      100600  74.95         34        23775   \n",
       "233151    613658             33484       71212  48.45         77        22186   \n",
       "233152    548084             34259       73286  49.10         77        22186   \n",
       "233153    630213             75751      116009  66.81         77        22186   \n",
       "\n",
       "        manufacturer_id  Current_pincode_ID Date.of.Birth Employment.Type  \\\n",
       "233144               86                1044      15-06-63        Salaried   \n",
       "233145               45                1051      23-12-85   Self employed   \n",
       "233146               48                1051      23-07-82   Self employed   \n",
       "233147               48                1051      19-06-89        Salaried   \n",
       "233148               48                1051      8/7/1993        Salaried   \n",
       "233149               48                1050      1/8/1988        Salaried   \n",
       "233150               51                 990     5/12/1988   Self employed   \n",
       "233151               86                2299      1/6/1976        Salaried   \n",
       "233152               86                2299      26-03-94        Salaried   \n",
       "233153               86                2299      18-02-84        Salaried   \n",
       "\n",
       "        ... PERFORM_CNS.SCORE  PERFORM_CNS.SCORE.DESCRIPTION  PRI.NO.OF.ACCTS  \\\n",
       "233144  ...                 0    No Bureau History Available                0   \n",
       "233145  ...               690                     E-Low Risk                7   \n",
       "233146  ...               738                C-Very Low Risk                2   \n",
       "233147  ...               755                C-Very Low Risk                4   \n",
       "233148  ...                 0    No Bureau History Available                0   \n",
       "233149  ...               735                D-Very Low Risk                4   \n",
       "233150  ...               825                A-Very Low Risk                1   \n",
       "233151  ...                 0    No Bureau History Available                0   \n",
       "233152  ...                 0    No Bureau History Available                0   \n",
       "233153  ...                 0    No Bureau History Available                0   \n",
       "\n",
       "        PRI.ACTIVE.ACCTS  PRI.OVERDUE.ACCTS  PRI.CURRENT.BALANCE  \\\n",
       "233144                 0                  0                    0   \n",
       "233145                 4                  0                13064   \n",
       "233146                 2                  0                 7001   \n",
       "233147                 4                  0               201422   \n",
       "233148                 0                  0                    0   \n",
       "233149                 3                  0               390443   \n",
       "233150                 0                  0                    0   \n",
       "233151                 0                  0                    0   \n",
       "233152                 0                  0                    0   \n",
       "233153                 0                  0                    0   \n",
       "\n",
       "        PRI.SANCTIONED.AMOUNT  PRI.DISBURSED.AMOUNT  NO.OF_INQUIRIES  \\\n",
       "233144                      0                     0                0   \n",
       "233145                  85629                 80226                1   \n",
       "233146                  14839                 14839                0   \n",
       "233147                 276624                237977                0   \n",
       "233148                      0                     0                0   \n",
       "233149                 416133                416133                0   \n",
       "233150                      0                     0                0   \n",
       "233151                      0                     0                0   \n",
       "233152                      0                     0                0   \n",
       "233153                      0                     0                0   \n",
       "\n",
       "        loan_default  \n",
       "233144             0  \n",
       "233145             0  \n",
       "233146             0  \n",
       "233147             0  \n",
       "233148             0  \n",
       "233149             0  \n",
       "233150             0  \n",
       "233151             0  \n",
       "233152             0  \n",
       "233153             0  \n",
       "\n",
       "[10 rows x 29 columns]"
      ]
     },
     "execution_count": 9,
     "metadata": {},
     "output_type": "execute_result"
    }
   ],
   "source": [
    "df.tail(10)"
   ]
  },
  {
   "cell_type": "code",
   "execution_count": 12,
   "id": "creative-dylan",
   "metadata": {
    "ExecuteTime": {
     "end_time": "2021-06-16T07:22:41.717575Z",
     "start_time": "2021-06-16T07:22:41.260574Z"
    }
   },
   "outputs": [],
   "source": [
    "df1 = pd.read_csv(\"data/train_sample.csv\", index_col=0)"
   ]
  },
  {
   "cell_type": "code",
   "execution_count": 13,
   "id": "norman-implementation",
   "metadata": {
    "ExecuteTime": {
     "end_time": "2021-06-16T07:22:48.292837Z",
     "start_time": "2021-06-16T07:22:48.214832Z"
    }
   },
   "outputs": [
    {
     "data": {
      "text/html": [
       "<div>\n",
       "<style scoped>\n",
       "    .dataframe tbody tr th:only-of-type {\n",
       "        vertical-align: middle;\n",
       "    }\n",
       "\n",
       "    .dataframe tbody tr th {\n",
       "        vertical-align: top;\n",
       "    }\n",
       "\n",
       "    .dataframe thead th {\n",
       "        text-align: right;\n",
       "    }\n",
       "</style>\n",
       "<table border=\"1\" class=\"dataframe\">\n",
       "  <thead>\n",
       "    <tr style=\"text-align: right;\">\n",
       "      <th></th>\n",
       "      <th>disbursed_amount</th>\n",
       "      <th>asset_cost</th>\n",
       "      <th>ltv</th>\n",
       "      <th>branch_id</th>\n",
       "      <th>supplier_id</th>\n",
       "      <th>manufacturer_id</th>\n",
       "      <th>Current_pincode_ID</th>\n",
       "      <th>Date.of.Birth</th>\n",
       "      <th>Employment.Type</th>\n",
       "      <th>DisbursalDate</th>\n",
       "      <th>...</th>\n",
       "      <th>PERFORM_CNS.SCORE</th>\n",
       "      <th>PERFORM_CNS.SCORE.DESCRIPTION</th>\n",
       "      <th>PRI.NO.OF.ACCTS</th>\n",
       "      <th>PRI.ACTIVE.ACCTS</th>\n",
       "      <th>PRI.OVERDUE.ACCTS</th>\n",
       "      <th>PRI.CURRENT.BALANCE</th>\n",
       "      <th>PRI.SANCTIONED.AMOUNT</th>\n",
       "      <th>PRI.DISBURSED.AMOUNT</th>\n",
       "      <th>NO.OF_INQUIRIES</th>\n",
       "      <th>loan_default</th>\n",
       "    </tr>\n",
       "    <tr>\n",
       "      <th>UniqueID</th>\n",
       "      <th></th>\n",
       "      <th></th>\n",
       "      <th></th>\n",
       "      <th></th>\n",
       "      <th></th>\n",
       "      <th></th>\n",
       "      <th></th>\n",
       "      <th></th>\n",
       "      <th></th>\n",
       "      <th></th>\n",
       "      <th></th>\n",
       "      <th></th>\n",
       "      <th></th>\n",
       "      <th></th>\n",
       "      <th></th>\n",
       "      <th></th>\n",
       "      <th></th>\n",
       "      <th></th>\n",
       "      <th></th>\n",
       "      <th></th>\n",
       "      <th></th>\n",
       "    </tr>\n",
       "  </thead>\n",
       "  <tbody>\n",
       "    <tr>\n",
       "      <th>420825</th>\n",
       "      <td>50578</td>\n",
       "      <td>58400</td>\n",
       "      <td>89.55</td>\n",
       "      <td>67</td>\n",
       "      <td>22807</td>\n",
       "      <td>45</td>\n",
       "      <td>1441</td>\n",
       "      <td>1/1/1984</td>\n",
       "      <td>Salaried</td>\n",
       "      <td>3/8/2018</td>\n",
       "      <td>...</td>\n",
       "      <td>0</td>\n",
       "      <td>No Bureau History Available</td>\n",
       "      <td>0</td>\n",
       "      <td>0</td>\n",
       "      <td>0</td>\n",
       "      <td>0</td>\n",
       "      <td>0</td>\n",
       "      <td>0</td>\n",
       "      <td>0</td>\n",
       "      <td>0</td>\n",
       "    </tr>\n",
       "    <tr>\n",
       "      <th>537409</th>\n",
       "      <td>47145</td>\n",
       "      <td>65550</td>\n",
       "      <td>73.23</td>\n",
       "      <td>67</td>\n",
       "      <td>22807</td>\n",
       "      <td>45</td>\n",
       "      <td>1502</td>\n",
       "      <td>31-07-85</td>\n",
       "      <td>Self employed</td>\n",
       "      <td>26-09-18</td>\n",
       "      <td>...</td>\n",
       "      <td>598</td>\n",
       "      <td>I-Medium Risk</td>\n",
       "      <td>1</td>\n",
       "      <td>1</td>\n",
       "      <td>1</td>\n",
       "      <td>27600</td>\n",
       "      <td>50200</td>\n",
       "      <td>50200</td>\n",
       "      <td>0</td>\n",
       "      <td>1</td>\n",
       "    </tr>\n",
       "    <tr>\n",
       "      <th>417566</th>\n",
       "      <td>53278</td>\n",
       "      <td>61360</td>\n",
       "      <td>89.63</td>\n",
       "      <td>67</td>\n",
       "      <td>22807</td>\n",
       "      <td>45</td>\n",
       "      <td>1497</td>\n",
       "      <td>24-08-85</td>\n",
       "      <td>Self employed</td>\n",
       "      <td>1/8/2018</td>\n",
       "      <td>...</td>\n",
       "      <td>0</td>\n",
       "      <td>No Bureau History Available</td>\n",
       "      <td>0</td>\n",
       "      <td>0</td>\n",
       "      <td>0</td>\n",
       "      <td>0</td>\n",
       "      <td>0</td>\n",
       "      <td>0</td>\n",
       "      <td>0</td>\n",
       "      <td>0</td>\n",
       "    </tr>\n",
       "    <tr>\n",
       "      <th>624493</th>\n",
       "      <td>57513</td>\n",
       "      <td>66113</td>\n",
       "      <td>88.48</td>\n",
       "      <td>67</td>\n",
       "      <td>22807</td>\n",
       "      <td>45</td>\n",
       "      <td>1501</td>\n",
       "      <td>30-12-93</td>\n",
       "      <td>Self employed</td>\n",
       "      <td>26-10-18</td>\n",
       "      <td>...</td>\n",
       "      <td>305</td>\n",
       "      <td>L-Very High Risk</td>\n",
       "      <td>3</td>\n",
       "      <td>0</td>\n",
       "      <td>0</td>\n",
       "      <td>0</td>\n",
       "      <td>0</td>\n",
       "      <td>0</td>\n",
       "      <td>1</td>\n",
       "      <td>1</td>\n",
       "    </tr>\n",
       "    <tr>\n",
       "      <th>539055</th>\n",
       "      <td>52378</td>\n",
       "      <td>60300</td>\n",
       "      <td>88.39</td>\n",
       "      <td>67</td>\n",
       "      <td>22807</td>\n",
       "      <td>45</td>\n",
       "      <td>1495</td>\n",
       "      <td>9/12/1977</td>\n",
       "      <td>Self employed</td>\n",
       "      <td>26-09-18</td>\n",
       "      <td>...</td>\n",
       "      <td>0</td>\n",
       "      <td>No Bureau History Available</td>\n",
       "      <td>0</td>\n",
       "      <td>0</td>\n",
       "      <td>0</td>\n",
       "      <td>0</td>\n",
       "      <td>0</td>\n",
       "      <td>0</td>\n",
       "      <td>1</td>\n",
       "      <td>1</td>\n",
       "    </tr>\n",
       "    <tr>\n",
       "      <th>...</th>\n",
       "      <td>...</td>\n",
       "      <td>...</td>\n",
       "      <td>...</td>\n",
       "      <td>...</td>\n",
       "      <td>...</td>\n",
       "      <td>...</td>\n",
       "      <td>...</td>\n",
       "      <td>...</td>\n",
       "      <td>...</td>\n",
       "      <td>...</td>\n",
       "      <td>...</td>\n",
       "      <td>...</td>\n",
       "      <td>...</td>\n",
       "      <td>...</td>\n",
       "      <td>...</td>\n",
       "      <td>...</td>\n",
       "      <td>...</td>\n",
       "      <td>...</td>\n",
       "      <td>...</td>\n",
       "      <td>...</td>\n",
       "      <td>...</td>\n",
       "    </tr>\n",
       "    <tr>\n",
       "      <th>626432</th>\n",
       "      <td>63213</td>\n",
       "      <td>105405</td>\n",
       "      <td>60.72</td>\n",
       "      <td>34</td>\n",
       "      <td>20700</td>\n",
       "      <td>48</td>\n",
       "      <td>1050</td>\n",
       "      <td>1/8/1988</td>\n",
       "      <td>Salaried</td>\n",
       "      <td>26-10-18</td>\n",
       "      <td>...</td>\n",
       "      <td>735</td>\n",
       "      <td>D-Very Low Risk</td>\n",
       "      <td>4</td>\n",
       "      <td>3</td>\n",
       "      <td>0</td>\n",
       "      <td>390443</td>\n",
       "      <td>416133</td>\n",
       "      <td>416133</td>\n",
       "      <td>0</td>\n",
       "      <td>0</td>\n",
       "    </tr>\n",
       "    <tr>\n",
       "      <th>606141</th>\n",
       "      <td>73651</td>\n",
       "      <td>100600</td>\n",
       "      <td>74.95</td>\n",
       "      <td>34</td>\n",
       "      <td>23775</td>\n",
       "      <td>51</td>\n",
       "      <td>990</td>\n",
       "      <td>5/12/1988</td>\n",
       "      <td>Self employed</td>\n",
       "      <td>23-10-18</td>\n",
       "      <td>...</td>\n",
       "      <td>825</td>\n",
       "      <td>A-Very Low Risk</td>\n",
       "      <td>1</td>\n",
       "      <td>0</td>\n",
       "      <td>0</td>\n",
       "      <td>0</td>\n",
       "      <td>0</td>\n",
       "      <td>0</td>\n",
       "      <td>0</td>\n",
       "      <td>0</td>\n",
       "    </tr>\n",
       "    <tr>\n",
       "      <th>613658</th>\n",
       "      <td>33484</td>\n",
       "      <td>71212</td>\n",
       "      <td>48.45</td>\n",
       "      <td>77</td>\n",
       "      <td>22186</td>\n",
       "      <td>86</td>\n",
       "      <td>2299</td>\n",
       "      <td>1/6/1976</td>\n",
       "      <td>Salaried</td>\n",
       "      <td>24-10-18</td>\n",
       "      <td>...</td>\n",
       "      <td>0</td>\n",
       "      <td>No Bureau History Available</td>\n",
       "      <td>0</td>\n",
       "      <td>0</td>\n",
       "      <td>0</td>\n",
       "      <td>0</td>\n",
       "      <td>0</td>\n",
       "      <td>0</td>\n",
       "      <td>0</td>\n",
       "      <td>0</td>\n",
       "    </tr>\n",
       "    <tr>\n",
       "      <th>548084</th>\n",
       "      <td>34259</td>\n",
       "      <td>73286</td>\n",
       "      <td>49.10</td>\n",
       "      <td>77</td>\n",
       "      <td>22186</td>\n",
       "      <td>86</td>\n",
       "      <td>2299</td>\n",
       "      <td>26-03-94</td>\n",
       "      <td>Salaried</td>\n",
       "      <td>29-09-18</td>\n",
       "      <td>...</td>\n",
       "      <td>0</td>\n",
       "      <td>No Bureau History Available</td>\n",
       "      <td>0</td>\n",
       "      <td>0</td>\n",
       "      <td>0</td>\n",
       "      <td>0</td>\n",
       "      <td>0</td>\n",
       "      <td>0</td>\n",
       "      <td>0</td>\n",
       "      <td>0</td>\n",
       "    </tr>\n",
       "    <tr>\n",
       "      <th>630213</th>\n",
       "      <td>75751</td>\n",
       "      <td>116009</td>\n",
       "      <td>66.81</td>\n",
       "      <td>77</td>\n",
       "      <td>22186</td>\n",
       "      <td>86</td>\n",
       "      <td>2299</td>\n",
       "      <td>18-02-84</td>\n",
       "      <td>Salaried</td>\n",
       "      <td>27-10-18</td>\n",
       "      <td>...</td>\n",
       "      <td>0</td>\n",
       "      <td>No Bureau History Available</td>\n",
       "      <td>0</td>\n",
       "      <td>0</td>\n",
       "      <td>0</td>\n",
       "      <td>0</td>\n",
       "      <td>0</td>\n",
       "      <td>0</td>\n",
       "      <td>0</td>\n",
       "      <td>0</td>\n",
       "    </tr>\n",
       "  </tbody>\n",
       "</table>\n",
       "<p>233154 rows × 28 columns</p>\n",
       "</div>"
      ],
      "text/plain": [
       "          disbursed_amount  asset_cost    ltv  branch_id  supplier_id  \\\n",
       "UniqueID                                                                \n",
       "420825               50578       58400  89.55         67        22807   \n",
       "537409               47145       65550  73.23         67        22807   \n",
       "417566               53278       61360  89.63         67        22807   \n",
       "624493               57513       66113  88.48         67        22807   \n",
       "539055               52378       60300  88.39         67        22807   \n",
       "...                    ...         ...    ...        ...          ...   \n",
       "626432               63213      105405  60.72         34        20700   \n",
       "606141               73651      100600  74.95         34        23775   \n",
       "613658               33484       71212  48.45         77        22186   \n",
       "548084               34259       73286  49.10         77        22186   \n",
       "630213               75751      116009  66.81         77        22186   \n",
       "\n",
       "          manufacturer_id  Current_pincode_ID Date.of.Birth Employment.Type  \\\n",
       "UniqueID                                                                      \n",
       "420825                 45                1441      1/1/1984        Salaried   \n",
       "537409                 45                1502      31-07-85   Self employed   \n",
       "417566                 45                1497      24-08-85   Self employed   \n",
       "624493                 45                1501      30-12-93   Self employed   \n",
       "539055                 45                1495     9/12/1977   Self employed   \n",
       "...                   ...                 ...           ...             ...   \n",
       "626432                 48                1050      1/8/1988        Salaried   \n",
       "606141                 51                 990     5/12/1988   Self employed   \n",
       "613658                 86                2299      1/6/1976        Salaried   \n",
       "548084                 86                2299      26-03-94        Salaried   \n",
       "630213                 86                2299      18-02-84        Salaried   \n",
       "\n",
       "         DisbursalDate  ...  PERFORM_CNS.SCORE  PERFORM_CNS.SCORE.DESCRIPTION  \\\n",
       "UniqueID                ...                                                     \n",
       "420825        3/8/2018  ...                  0    No Bureau History Available   \n",
       "537409        26-09-18  ...                598                  I-Medium Risk   \n",
       "417566        1/8/2018  ...                  0    No Bureau History Available   \n",
       "624493        26-10-18  ...                305               L-Very High Risk   \n",
       "539055        26-09-18  ...                  0    No Bureau History Available   \n",
       "...                ...  ...                ...                            ...   \n",
       "626432        26-10-18  ...                735                D-Very Low Risk   \n",
       "606141        23-10-18  ...                825                A-Very Low Risk   \n",
       "613658        24-10-18  ...                  0    No Bureau History Available   \n",
       "548084        29-09-18  ...                  0    No Bureau History Available   \n",
       "630213        27-10-18  ...                  0    No Bureau History Available   \n",
       "\n",
       "          PRI.NO.OF.ACCTS  PRI.ACTIVE.ACCTS  PRI.OVERDUE.ACCTS  \\\n",
       "UniqueID                                                         \n",
       "420825                  0                 0                  0   \n",
       "537409                  1                 1                  1   \n",
       "417566                  0                 0                  0   \n",
       "624493                  3                 0                  0   \n",
       "539055                  0                 0                  0   \n",
       "...                   ...               ...                ...   \n",
       "626432                  4                 3                  0   \n",
       "606141                  1                 0                  0   \n",
       "613658                  0                 0                  0   \n",
       "548084                  0                 0                  0   \n",
       "630213                  0                 0                  0   \n",
       "\n",
       "          PRI.CURRENT.BALANCE  PRI.SANCTIONED.AMOUNT  PRI.DISBURSED.AMOUNT  \\\n",
       "UniqueID                                                                     \n",
       "420825                      0                      0                     0   \n",
       "537409                  27600                  50200                 50200   \n",
       "417566                      0                      0                     0   \n",
       "624493                      0                      0                     0   \n",
       "539055                      0                      0                     0   \n",
       "...                       ...                    ...                   ...   \n",
       "626432                 390443                 416133                416133   \n",
       "606141                      0                      0                     0   \n",
       "613658                      0                      0                     0   \n",
       "548084                      0                      0                     0   \n",
       "630213                      0                      0                     0   \n",
       "\n",
       "          NO.OF_INQUIRIES loan_default  \n",
       "UniqueID                                \n",
       "420825                  0            0  \n",
       "537409                  0            1  \n",
       "417566                  0            0  \n",
       "624493                  1            1  \n",
       "539055                  1            1  \n",
       "...                   ...          ...  \n",
       "626432                  0            0  \n",
       "606141                  0            0  \n",
       "613658                  0            0  \n",
       "548084                  0            0  \n",
       "630213                  0            0  \n",
       "\n",
       "[233154 rows x 28 columns]"
      ]
     },
     "execution_count": 13,
     "metadata": {},
     "output_type": "execute_result"
    }
   ],
   "source": [
    "df1"
   ]
  },
  {
   "cell_type": "code",
   "execution_count": 14,
   "id": "wireless-massage",
   "metadata": {
    "ExecuteTime": {
     "end_time": "2021-06-16T07:23:16.843399Z",
     "start_time": "2021-06-16T07:23:16.832771Z"
    }
   },
   "outputs": [
    {
     "data": {
      "text/plain": [
       "UniqueID                           int64\n",
       "disbursed_amount                   int64\n",
       "asset_cost                         int64\n",
       "ltv                              float64\n",
       "branch_id                          int64\n",
       "supplier_id                        int64\n",
       "manufacturer_id                    int64\n",
       "Current_pincode_ID                 int64\n",
       "Date.of.Birth                     object\n",
       "Employment.Type                   object\n",
       "DisbursalDate                     object\n",
       "State_ID                           int64\n",
       "Employee_code_ID                   int64\n",
       "MobileNo_Avl_Flag                  int64\n",
       "Aadhar_flag                        int64\n",
       "PAN_flag                           int64\n",
       "VoterID_flag                       int64\n",
       "Driving_flag                       int64\n",
       "Passport_flag                      int64\n",
       "PERFORM_CNS.SCORE                  int64\n",
       "PERFORM_CNS.SCORE.DESCRIPTION     object\n",
       "PRI.NO.OF.ACCTS                    int64\n",
       "PRI.ACTIVE.ACCTS                   int64\n",
       "PRI.OVERDUE.ACCTS                  int64\n",
       "PRI.CURRENT.BALANCE                int64\n",
       "PRI.SANCTIONED.AMOUNT              int64\n",
       "PRI.DISBURSED.AMOUNT               int64\n",
       "NO.OF_INQUIRIES                    int64\n",
       "loan_default                       int64\n",
       "dtype: object"
      ]
     },
     "execution_count": 14,
     "metadata": {},
     "output_type": "execute_result"
    }
   ],
   "source": [
    "df.dtypes"
   ]
  },
  {
   "cell_type": "code",
   "execution_count": 17,
   "id": "infectious-examination",
   "metadata": {
    "ExecuteTime": {
     "end_time": "2021-06-16T07:25:04.841528Z",
     "start_time": "2021-06-16T07:25:04.834563Z"
    }
   },
   "outputs": [
    {
     "data": {
      "text/plain": [
       "str"
      ]
     },
     "execution_count": 17,
     "metadata": {},
     "output_type": "execute_result"
    }
   ],
   "source": [
    "type(df[\"Date.of.Birth\"][0])"
   ]
  },
  {
   "cell_type": "code",
   "execution_count": 19,
   "id": "mounted-exhibit",
   "metadata": {
    "ExecuteTime": {
     "end_time": "2021-06-16T07:25:36.539760Z",
     "start_time": "2021-06-16T07:25:36.534213Z"
    }
   },
   "outputs": [
    {
     "data": {
      "text/plain": [
       "'Salaried'"
      ]
     },
     "execution_count": 19,
     "metadata": {},
     "output_type": "execute_result"
    }
   ],
   "source": [
    "df[\"Employment.Type\"][0]"
   ]
  },
  {
   "cell_type": "code",
   "execution_count": 20,
   "id": "drawn-complexity",
   "metadata": {
    "ExecuteTime": {
     "end_time": "2021-06-16T07:26:01.409167Z",
     "start_time": "2021-06-16T07:26:01.374958Z"
    }
   },
   "outputs": [
    {
     "data": {
      "text/plain": [
       "array(['Salaried', 'Self employed', nan], dtype=object)"
      ]
     },
     "execution_count": 20,
     "metadata": {},
     "output_type": "execute_result"
    }
   ],
   "source": [
    "df[\"Employment.Type\"].unique()"
   ]
  },
  {
   "cell_type": "code",
   "execution_count": 21,
   "id": "gross-gazette",
   "metadata": {
    "ExecuteTime": {
     "end_time": "2021-06-16T07:29:06.245538Z",
     "start_time": "2021-06-16T07:29:06.232452Z"
    }
   },
   "outputs": [
    {
     "data": {
      "text/plain": [
       "array([0, 1])"
      ]
     },
     "execution_count": 21,
     "metadata": {},
     "output_type": "execute_result"
    }
   ],
   "source": [
    "df[\"loan_default\"].unique()"
   ]
  },
  {
   "cell_type": "markdown",
   "id": "printable-shopping",
   "metadata": {},
   "source": [
    "1 is bad\n",
    "\n",
    "0 is good"
   ]
  },
  {
   "cell_type": "code",
   "execution_count": 22,
   "id": "greek-center",
   "metadata": {
    "ExecuteTime": {
     "end_time": "2021-06-16T07:31:42.030399Z",
     "start_time": "2021-06-16T07:31:42.006049Z"
    }
   },
   "outputs": [
    {
     "data": {
      "text/plain": [
       "0    182543\n",
       "1     50611\n",
       "Name: loan_default, dtype: int64"
      ]
     },
     "execution_count": 22,
     "metadata": {},
     "output_type": "execute_result"
    }
   ],
   "source": [
    "df[\"loan_default\"].value_counts()"
   ]
  },
  {
   "cell_type": "code",
   "execution_count": 37,
   "id": "fitting-cincinnati",
   "metadata": {
    "ExecuteTime": {
     "end_time": "2021-06-16T07:39:38.379501Z",
     "start_time": "2021-06-16T07:39:38.247422Z"
    }
   },
   "outputs": [
    {
     "data": {
      "text/plain": [
       "<AxesSubplot:>"
      ]
     },
     "execution_count": 37,
     "metadata": {},
     "output_type": "execute_result"
    },
    {
     "data": {
      "image/png": "[encoded data removed]",
      "text/plain": [
       "<Figure size 432x288 with 1 Axes>"
      ]
     },
     "metadata": {
      "needs_background": "light"
     },
     "output_type": "display_data"
    }
   ],
   "source": [
    "df[\"ltv\"].hist(bins=25)"
   ]
  },
  {
   "cell_type": "code",
   "execution_count": 26,
   "id": "appreciated-saskatchewan",
   "metadata": {
    "ExecuteTime": {
     "end_time": "2021-06-16T07:36:02.761733Z",
     "start_time": "2021-06-16T07:36:02.753421Z"
    }
   },
   "outputs": [
    {
     "data": {
      "text/plain": [
       "0    89.55\n",
       "1    73.23\n",
       "2    89.63\n",
       "3    88.48\n",
       "4    88.39\n",
       "5    89.66\n",
       "6    76.42\n",
       "7    71.89\n",
       "8    89.56\n",
       "9    86.95\n",
       "Name: ltv, dtype: float64"
      ]
     },
     "execution_count": 26,
     "metadata": {},
     "output_type": "execute_result"
    }
   ],
   "source": [
    "df[\"ltv\"].head(10)"
   ]
  },
  {
   "cell_type": "code",
   "execution_count": 32,
   "id": "important-entertainment",
   "metadata": {
    "ExecuteTime": {
     "end_time": "2021-06-16T07:38:56.358576Z",
     "start_time": "2021-06-16T07:38:56.242305Z"
    }
   },
   "outputs": [
    {
     "data": {
      "text/plain": [
       "<AxesSubplot:>"
      ]
     },
     "execution_count": 32,
     "metadata": {},
     "output_type": "execute_result"
    },
    {
     "data": {
      "image/png": "[encoded data removed]",
      "text/plain": [
       "<Figure size 432x288 with 1 Axes>"
      ]
     },
     "metadata": {
      "needs_background": "light"
     },
     "output_type": "display_data"
    }
   ],
   "source": [
    "df[\"ltv\"].head(100000).hist(bins=10)"
   ]
  },
  {
   "cell_type": "code",
   "execution_count": 50,
   "id": "conscious-contractor",
   "metadata": {
    "ExecuteTime": {
     "end_time": "2021-06-16T08:02:03.872714Z",
     "start_time": "2021-06-16T08:02:03.602928Z"
    }
   },
   "outputs": [
    {
     "data": {
      "text/plain": [
       "<AxesSubplot:>"
      ]
     },
     "execution_count": 50,
     "metadata": {},
     "output_type": "execute_result"
    },
    {
     "data": {
      "image/png": "[encoded data removed]",
      "text/plain": [
       "<Figure size 432x288 with 1 Axes>"
      ]
     },
     "metadata": {
      "needs_background": "light"
     },
     "output_type": "display_data"
    }
   ],
   "source": [
    "df.asset_cost[df[\"asset_cost\"]<0.9*100000].hist(bins=200)"
   ]
  },
  {
   "cell_type": "code",
   "execution_count": 66,
   "id": "metallic-semiconductor",
   "metadata": {
    "ExecuteTime": {
     "end_time": "2021-06-16T08:25:30.133810Z",
     "start_time": "2021-06-16T08:25:29.833140Z"
    }
   },
   "outputs": [
    {
     "data": {
      "text/plain": [
       "<AxesSubplot:>"
      ]
     },
     "execution_count": 66,
     "metadata": {},
     "output_type": "execute_result"
    },
    {
     "data": {
      "image/png": "[encoded data removed]",
      "text/plain": [
       "<Figure size 432x288 with 1 Axes>"
      ]
     },
     "metadata": {
      "needs_background": "light"
     },
     "output_type": "display_data"
    }
   ],
   "source": [
    "df[\"asset_cost\"].hist(bins=200)"
   ]
  },
  {
   "cell_type": "code",
   "execution_count": 63,
   "id": "divine-legislature",
   "metadata": {
    "ExecuteTime": {
     "end_time": "2021-06-16T08:04:39.335599Z",
     "start_time": "2021-06-16T08:04:39.324776Z"
    }
   },
   "outputs": [
    {
     "data": {
      "text/plain": [
       "3814      208500\n",
       "3835      225100\n",
       "6366      202190\n",
       "11857     222298\n",
       "16688     237534\n",
       "           ...  \n",
       "219632    206518\n",
       "227131    202089\n",
       "227586    260715\n",
       "228867    201550\n",
       "229112    243500\n",
       "Name: asset_cost, Length: 125, dtype: int64"
      ]
     },
     "execution_count": 63,
     "metadata": {},
     "output_type": "execute_result"
    }
   ],
   "source": [
    "df.asset_cost[df.asset_cost > 0.20*1000000]"
   ]
  },
  {
   "cell_type": "code",
   "execution_count": 64,
   "id": "fossil-ambassador",
   "metadata": {
    "ExecuteTime": {
     "end_time": "2021-06-16T08:22:26.510203Z",
     "start_time": "2021-06-16T08:22:26.213637Z"
    }
   },
   "outputs": [
    {
     "data": {
      "text/plain": [
       "<AxesSubplot:>"
      ]
     },
     "execution_count": 64,
     "metadata": {},
     "output_type": "execute_result"
    },
    {
     "data": {
      "image/png": "[encoded data removed]",
      "text/plain": [
       "<Figure size 432x288 with 1 Axes>"
      ]
     },
     "metadata": {
      "needs_background": "light"
     },
     "output_type": "display_data"
    }
   ],
   "source": [
    "df.boxplot(column=\"asset_cost\")"
   ]
  },
  {
   "cell_type": "code",
   "execution_count": 67,
   "id": "correct-liberal",
   "metadata": {
    "ExecuteTime": {
     "end_time": "2021-06-16T08:26:05.744841Z",
     "start_time": "2021-06-16T08:26:05.514919Z"
    }
   },
   "outputs": [
    {
     "data": {
      "text/plain": [
       "<AxesSubplot:>"
      ]
     },
     "execution_count": 67,
     "metadata": {},
     "output_type": "execute_result"
    },
    {
     "data": {
      "image/png": "[encoded data removed]",
      "text/plain": [
       "<Figure size 432x288 with 1 Axes>"
      ]
     },
     "metadata": {
      "needs_background": "light"
     },
     "output_type": "display_data"
    }
   ],
   "source": [
    "df.boxplot(column=\"ltv\")"
   ]
  },
  {
   "cell_type": "code",
   "execution_count": 69,
   "id": "impaired-philip",
   "metadata": {
    "ExecuteTime": {
     "end_time": "2021-06-16T08:28:52.907222Z",
     "start_time": "2021-06-16T08:28:52.616965Z"
    }
   },
   "outputs": [
    {
     "data": {
      "text/plain": [
       "<AxesSubplot:title={'center':'asset_cost'}, xlabel='Employment.Type'>"
      ]
     },
     "execution_count": 69,
     "metadata": {},
     "output_type": "execute_result"
    },
    {
     "data": {
      "image/png": "[encoded data removed]",
      "text/plain": [
       "<Figure size 432x288 with 1 Axes>"
      ]
     },
     "metadata": {
      "needs_background": "light"
     },
     "output_type": "display_data"
    }
   ],
   "source": [
    "df.boxplot(column=\"asset_cost\", by=\"Employment.Type\")"
   ]
  },
  {
   "cell_type": "code",
   "execution_count": 70,
   "id": "marine-calibration",
   "metadata": {
    "ExecuteTime": {
     "end_time": "2021-06-16T08:30:06.874482Z",
     "start_time": "2021-06-16T08:30:06.866814Z"
    }
   },
   "outputs": [
    {
     "data": {
      "text/plain": [
       "0          1/1/1984\n",
       "1          31-07-85\n",
       "2          24-08-85\n",
       "3          30-12-93\n",
       "4         9/12/1977\n",
       "            ...    \n",
       "233149     1/8/1988\n",
       "233150    5/12/1988\n",
       "233151     1/6/1976\n",
       "233152     26-03-94\n",
       "233153     18-02-84\n",
       "Name: Date.of.Birth, Length: 233154, dtype: object"
      ]
     },
     "execution_count": 70,
     "metadata": {},
     "output_type": "execute_result"
    }
   ],
   "source": [
    "df[\"Date.of.Birth\"]"
   ]
  },
  {
   "cell_type": "code",
   "execution_count": null,
   "id": "terminal-driving",
   "metadata": {},
   "outputs": [],
   "source": []
  },
  {
   "cell_type": "code",
   "execution_count": 78,
   "id": "heavy-cheat",
   "metadata": {
    "ExecuteTime": {
     "end_time": "2021-06-16T08:37:08.793670Z",
     "start_time": "2021-06-16T08:37:06.389049Z"
    }
   },
   "outputs": [],
   "source": [
    "from datetime import datetime\n",
    "dateparse = lambda x: datetime.strptime(x, '%Y(-|/)%m(-|/)%d %H:%M:%S')\n",
    "\n",
    "df2 = pd.read_csv(\"data/train_sample.csv\", parse_dates=['Date.of.Birth'], date_parser=try_parsing_date)\n"
   ]
  },
  {
   "cell_type": "code",
   "execution_count": 77,
   "id": "outer-poster",
   "metadata": {
    "ExecuteTime": {
     "end_time": "2021-06-16T08:37:03.924072Z",
     "start_time": "2021-06-16T08:37:03.918279Z"
    }
   },
   "outputs": [],
   "source": [
    "def try_parsing_date(text):\n",
    "    for fmt in ('%d-%m-%y', '%d.%m.%Y', '%d/%m/%Y'):\n",
    "        try:\n",
    "            return datetime.strptime(text, fmt)\n",
    "        except ValueError:\n",
    "            pass\n",
    "    print(text)\n",
    "    raise ValueError('no valid date format found')"
   ]
  },
  {
   "cell_type": "code",
   "execution_count": 94,
   "id": "surprising-administrator",
   "metadata": {
    "ExecuteTime": {
     "end_time": "2021-06-16T08:44:13.443144Z",
     "start_time": "2021-06-16T08:44:13.435943Z"
    }
   },
   "outputs": [
    {
     "data": {
      "text/plain": [
       "'2012'"
      ]
     },
     "execution_count": 94,
     "metadata": {},
     "output_type": "execute_result"
    }
   ],
   "source": [
    "str(datetime.strptime(\"12-12-12\", '%d-%m-%y')).split(\"-\")[0]\n"
   ]
  },
  {
   "cell_type": "code",
   "execution_count": 97,
   "id": "trying-reminder",
   "metadata": {
    "ExecuteTime": {
     "end_time": "2021-06-16T08:45:57.406675Z",
     "start_time": "2021-06-16T08:45:53.741258Z"
    }
   },
   "outputs": [],
   "source": [
    "df2[\"Date.of.Birth\"]\n",
    "df2[\"year_of_birth\"] = df2[\"Date.of.Birth\"].apply(lambda x: int(str(x).split(\"-\")[0]))"
   ]
  },
  {
   "cell_type": "code",
   "execution_count": 98,
   "id": "remarkable-retention",
   "metadata": {
    "ExecuteTime": {
     "end_time": "2021-06-16T08:45:57.622945Z",
     "start_time": "2021-06-16T08:45:57.619471Z"
    }
   },
   "outputs": [
    {
     "data": {
      "text/plain": [
       "0         1984\n",
       "1         1985\n",
       "2         1985\n",
       "3         1993\n",
       "4         1977\n",
       "          ... \n",
       "233149    1988\n",
       "233150    1988\n",
       "233151    1976\n",
       "233152    1994\n",
       "233153    1984\n",
       "Name: year_of_birth, Length: 233154, dtype: int64"
      ]
     },
     "execution_count": 98,
     "metadata": {},
     "output_type": "execute_result"
    }
   ],
   "source": [
    "df2[\"year_of_birth\"]"
   ]
  },
  {
   "cell_type": "code",
   "execution_count": 99,
   "id": "sealed-choir",
   "metadata": {
    "ExecuteTime": {
     "end_time": "2021-06-16T08:45:59.512763Z",
     "start_time": "2021-06-16T08:45:59.294388Z"
    }
   },
   "outputs": [
    {
     "data": {
      "text/plain": [
       "<AxesSubplot:title={'center':'asset_cost'}, xlabel='year_of_birth'>"
      ]
     },
     "execution_count": 99,
     "metadata": {},
     "output_type": "execute_result"
    },
    {
     "data": {
      "image/png": "[encoded data removed]",
      "text/plain": [
       "<Figure size 432x288 with 1 Axes>"
      ]
     },
     "metadata": {
      "needs_background": "light"
     },
     "output_type": "display_data"
    }
   ],
   "source": [
    "df2[df2.year_of_birth < 1960].boxplot(column=\"asset_cost\", by=\"year_of_birth\")"
   ]
  },
  {
   "cell_type": "code",
   "execution_count": 100,
   "id": "legislative-perry",
   "metadata": {
    "ExecuteTime": {
     "end_time": "2021-06-16T08:48:28.250534Z",
     "start_time": "2021-06-16T08:48:27.753110Z"
    }
   },
   "outputs": [],
   "source": [
    "import seaborn as sns"
   ]
  },
  {
   "cell_type": "code",
   "execution_count": 104,
   "id": "infectious-supplement",
   "metadata": {
    "ExecuteTime": {
     "end_time": "2021-06-16T08:49:43.681448Z",
     "start_time": "2021-06-16T08:49:43.574104Z"
    }
   },
   "outputs": [
    {
     "data": {
      "text/plain": [
       "<AxesSubplot:xlabel='asset_cost'>"
      ]
     },
     "execution_count": 104,
     "metadata": {},
     "output_type": "execute_result"
    },
    {
     "data": {
      "image/png": "[encoded data removed]",
      "text/plain": [
       "<Figure size 432x288 with 1 Axes>"
      ]
     },
     "metadata": {
      "needs_background": "light"
     },
     "output_type": "display_data"
    }
   ],
   "source": [
    "sns.boxplot(x=df2[df2.year_of_birth == 1960][\"asset_cost\"])"
   ]
  },
  {
   "cell_type": "code",
   "execution_count": 106,
   "id": "duplicate-connectivity",
   "metadata": {
    "ExecuteTime": {
     "end_time": "2021-06-16T08:51:47.380213Z",
     "start_time": "2021-06-16T08:51:47.124609Z"
    }
   },
   "outputs": [
    {
     "data": {
      "text/plain": [
       "<matplotlib.collections.PathCollection at 0x7f92a281e9a0>"
      ]
     },
     "execution_count": 106,
     "metadata": {},
     "output_type": "execute_result"
    },
    {
     "data": {
      "image/png": "[encoded data removed]",
      "text/plain": [
       "<Figure size 432x288 with 1 Axes>"
      ]
     },
     "metadata": {
      "needs_background": "light"
     },
     "output_type": "display_data"
    }
   ],
   "source": [
    "plt.scatter(df2.year_of_birth, df2.loan_default)"
   ]
  },
  {
   "cell_type": "code",
   "execution_count": 139,
   "id": "auburn-energy",
   "metadata": {
    "ExecuteTime": {
     "end_time": "2021-06-16T09:07:34.780268Z",
     "start_time": "2021-06-16T09:07:34.756374Z"
    }
   },
   "outputs": [],
   "source": [
    "a = df2[df2.year_of_birth<1960].groupby(\"year_of_birth\")[\"loan_default\"].value_counts()"
   ]
  },
  {
   "cell_type": "code",
   "execution_count": 145,
   "id": "several-unknown",
   "metadata": {
    "ExecuteTime": {
     "end_time": "2021-06-16T09:09:54.065935Z",
     "start_time": "2021-06-16T09:09:53.917635Z"
    }
   },
   "outputs": [
    {
     "data": {
      "text/plain": [
       "<AxesSubplot:xlabel='year_of_birth,loan_default'>"
      ]
     },
     "execution_count": 145,
     "metadata": {},
     "output_type": "execute_result"
    },
    {
     "data": {
      "image/png": "[encoded data removed]",
      "text/plain": [
       "<Figure size 432x288 with 1 Axes>"
      ]
     },
     "metadata": {
      "needs_background": "light"
     },
     "output_type": "display_data"
    }
   ],
   "source": [
    "a.plot.bar(stacked=True)"
   ]
  },
  {
   "cell_type": "code",
   "execution_count": 166,
   "id": "labeled-decrease",
   "metadata": {
    "ExecuteTime": {
     "end_time": "2021-06-16T09:49:10.943944Z",
     "start_time": "2021-06-16T09:49:10.938513Z"
    }
   },
   "outputs": [],
   "source": [
    "data = pd.DataFrame(a)"
   ]
  },
  {
   "cell_type": "code",
   "execution_count": 169,
   "id": "personalized-childhood",
   "metadata": {
    "ExecuteTime": {
     "end_time": "2021-06-16T09:49:33.792117Z",
     "start_time": "2021-06-16T09:49:33.776797Z"
    }
   },
   "outputs": [
    {
     "data": {
      "text/html": [
       "<div>\n",
       "<style scoped>\n",
       "    .dataframe tbody tr th:only-of-type {\n",
       "        vertical-align: middle;\n",
       "    }\n",
       "\n",
       "    .dataframe tbody tr th {\n",
       "        vertical-align: top;\n",
       "    }\n",
       "\n",
       "    .dataframe thead th {\n",
       "        text-align: right;\n",
       "    }\n",
       "</style>\n",
       "<table border=\"1\" class=\"dataframe\">\n",
       "  <thead>\n",
       "    <tr style=\"text-align: right;\">\n",
       "      <th></th>\n",
       "      <th></th>\n",
       "      <th>loan_default</th>\n",
       "    </tr>\n",
       "    <tr>\n",
       "      <th>year_of_birth</th>\n",
       "      <th>loan_default</th>\n",
       "      <th></th>\n",
       "    </tr>\n",
       "  </thead>\n",
       "  <tbody>\n",
       "    <tr>\n",
       "      <th rowspan=\"2\" valign=\"top\">1954</th>\n",
       "      <th>0</th>\n",
       "      <td>9</td>\n",
       "    </tr>\n",
       "    <tr>\n",
       "      <th>1</th>\n",
       "      <td>1</td>\n",
       "    </tr>\n",
       "    <tr>\n",
       "      <th rowspan=\"2\" valign=\"top\">1955</th>\n",
       "      <th>0</th>\n",
       "      <td>91</td>\n",
       "    </tr>\n",
       "    <tr>\n",
       "      <th>1</th>\n",
       "      <td>15</td>\n",
       "    </tr>\n",
       "    <tr>\n",
       "      <th rowspan=\"2\" valign=\"top\">1956</th>\n",
       "      <th>0</th>\n",
       "      <td>194</td>\n",
       "    </tr>\n",
       "    <tr>\n",
       "      <th>1</th>\n",
       "      <td>32</td>\n",
       "    </tr>\n",
       "    <tr>\n",
       "      <th rowspan=\"2\" valign=\"top\">1957</th>\n",
       "      <th>0</th>\n",
       "      <td>220</td>\n",
       "    </tr>\n",
       "    <tr>\n",
       "      <th>1</th>\n",
       "      <td>53</td>\n",
       "    </tr>\n",
       "    <tr>\n",
       "      <th rowspan=\"2\" valign=\"top\">1958</th>\n",
       "      <th>0</th>\n",
       "      <td>360</td>\n",
       "    </tr>\n",
       "    <tr>\n",
       "      <th>1</th>\n",
       "      <td>81</td>\n",
       "    </tr>\n",
       "    <tr>\n",
       "      <th rowspan=\"2\" valign=\"top\">1959</th>\n",
       "      <th>0</th>\n",
       "      <td>460</td>\n",
       "    </tr>\n",
       "    <tr>\n",
       "      <th>1</th>\n",
       "      <td>93</td>\n",
       "    </tr>\n",
       "  </tbody>\n",
       "</table>\n",
       "</div>"
      ],
      "text/plain": [
       "                            loan_default\n",
       "year_of_birth loan_default              \n",
       "1954          0                        9\n",
       "              1                        1\n",
       "1955          0                       91\n",
       "              1                       15\n",
       "1956          0                      194\n",
       "              1                       32\n",
       "1957          0                      220\n",
       "              1                       53\n",
       "1958          0                      360\n",
       "              1                       81\n",
       "1959          0                      460\n",
       "              1                       93"
      ]
     },
     "execution_count": 169,
     "metadata": {},
     "output_type": "execute_result"
    }
   ],
   "source": [
    "data"
   ]
  },
  {
   "cell_type": "code",
   "execution_count": 172,
   "id": "advanced-fusion",
   "metadata": {
    "ExecuteTime": {
     "end_time": "2021-06-16T09:49:56.372710Z",
     "start_time": "2021-06-16T09:49:56.229509Z"
    }
   },
   "outputs": [
    {
     "data": {
      "text/plain": [
       "<AxesSubplot:xlabel='year_of_birth'>"
      ]
     },
     "execution_count": 172,
     "metadata": {},
     "output_type": "execute_result"
    },
    {
     "data": {
      "image/png": "[encoded data removed]",
      "text/plain": [
       "<Figure size 432x288 with 1 Axes>"
      ]
     },
     "metadata": {
      "needs_background": "light"
     },
     "output_type": "display_data"
    }
   ],
   "source": [
    "data.unstack().plot(kind='bar', stacked=True)"
   ]
  },
  {
   "cell_type": "code",
   "execution_count": null,
   "id": "earlier-management",
   "metadata": {},
   "outputs": [],
   "source": []
  }
 ],
 "metadata": {
  "kernelspec": {
   "display_name": "Python 3",
   "language": "python",
   "name": "python3"
  },
  "language_info": {
   "codemirror_mode": {
    "name": "ipython",
    "version": 3
   },
   "file_extension": ".py",
   "mimetype": "text/x-python",
   "name": "python",
   "nbconvert_exporter": "python",
   "pygments_lexer": "ipython3",
   "version": "3.9.1"
  },
  "varInspector": {
   "cols": {
    "lenName": 16,
    "lenType": 16,
    "lenVar": 40
   },
   "kernels_config": {
    "python": {
     "delete_cmd_postfix": "",
     "delete_cmd_prefix": "del ",
     "library": "var_list.py",
     "varRefreshCmd": "print(var_dic_list())"
    },
    "r": {
     "delete_cmd_postfix": ") ",
     "delete_cmd_prefix": "rm(",
     "library": "var_list.r",
     "varRefreshCmd": "cat(var_dic_list()) "
    }
   },
   "types_to_exclude": [
    "module",
    "function",
    "builtin_function_or_method",
    "instance",
    "_Feature"
   ],
   "window_display": false
  }
 },
 "nbformat": 4,
 "nbformat_minor": 5
}
