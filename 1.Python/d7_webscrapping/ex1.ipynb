{
 "metadata": {
  "language_info": {
   "codemirror_mode": {
    "name": "ipython",
    "version": 3
   },
   "file_extension": ".py",
   "mimetype": "text/x-python",
   "name": "python",
   "nbconvert_exporter": "python",
   "pygments_lexer": "ipython3",
   "version": "3.8.10"
  },
  "orig_nbformat": 2,
  "kernelspec": {
   "name": "python3810jvsc74a57bd0a9e5cb5e92a0c8c80ed378be552d13fd6c03783cc7ea2361bcce6013f41c7a83",
   "display_name": "Python 3.8.10 64-bit ('myenv': conda)"
  }
 },
 "nbformat": 4,
 "nbformat_minor": 2,
 "cells": [
  {
   "cell_type": "code",
   "execution_count": 18,
   "metadata": {},
   "outputs": [
    {
     "output_type": "stream",
     "name": "stdout",
     "text": [
      "      period-name                                 short-desc         temp\n0           Today         Mostly Sunny then Sunny and Breezy  High: 68 °F\n1         Tonight                          Increasing Clouds   Low: 54 °F\n2          Friday         Mostly Sunny then Sunny and Breezy  High: 68 °F\n3    Friday Night  Mostly Clear and Breezy then Mostly Clear   Low: 52 °F\n4        Saturday                                      Sunny  High: 68 °F\n5  Saturday Night                               Mostly Clear   Low: 52 °F\n6          Sunday                                      Sunny  High: 67 °F\n7    Sunday Night                               Mostly Clear   Low: 52 °F\n8          Monday                                      Sunny  High: 64 °F\n"
     ]
    }
   ],
   "source": [
    "import requests\n",
    "import pandas as pd\n",
    "from bs4 import BeautifulSoup\n",
    "\n",
    "page = requests.get(\"https://forecast.weather.gov/MapClick.php?lat=37.777120000000025&lon=-122.41963999999996#.X9DVpBakolQ\")\n",
    "soup = BeautifulSoup(page.content, 'html.parser')\n",
    "\n",
    "# first filtering we do over <div class=\"tombstone-container\"> because it suits our needs\n",
    "all_data = soup.findAll('div', class_=\"tombstone-container\")\n",
    "\n",
    "# lists for storage\n",
    "period_names = []\n",
    "short_descriptions = []\n",
    "temperatures = []\n",
    "\n",
    "# fill them with data :)\n",
    "for data in all_data:\n",
    "    period_names.append(data.find('p', class_='period-name').get_text(separator=' '))\n",
    "    short_descriptions.append(data.find('p', class_='short-desc').get_text(separator=' '))    \n",
    "    temperatures.append(data.find('p', class_='temp').get_text())\n",
    "\n",
    "# let's zip them into touples!\n",
    "data_touples = zip(period_names, short_descriptions, temperatures)\n",
    "\n",
    "# and create a nice data frame :)\n",
    "weather_data = pd.DataFrame(data_touples, columns=['period-name', 'short-desc', 'temp'])\n",
    "\n",
    "print(weather_data)"
   ]
  },
  {
   "cell_type": "code",
   "execution_count": null,
   "metadata": {},
   "outputs": [],
   "source": [
    "######### Exercise: ##############################################################################\n",
    "# \n",
    "# Extract the 10 days weather from san Francisco in weather.gov.\n",
    "# https://forecast.weather.gov/MapClick.php?lat=37.777120000000025&lon=-122.41963999999996#.YLd0uvkzZPY\n",
    "# \n",
    "# 1. inspect with the console\n",
    "# 2. write code to target the right elements of the text\n",
    "# 3. For each day, you need to store:\n",
    "#  - The day of the week (Tuesday)\n",
    "#  - The date (01/06/2021)\n",
    "#  - A short description of the conditions (Clear early then increasing cloudiness after midnight. Low 41F. Winds light and variable)\n",
    "#  - The temperature low and high, with a function of your own to convert into Celsius\n",
    "#  - For each element you scrape, The name of the item you targetted (ex: DailyContent--daypartDate--3MM0J)\n",
    "# 3. Save all of this into a Pandas dataframe\n",
    "#\n",
    "####################################################################################################"
   ]
  }
 ]
}